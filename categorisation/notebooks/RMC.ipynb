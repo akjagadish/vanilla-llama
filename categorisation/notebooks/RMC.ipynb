{
 "cells": [
  {
   "cell_type": "code",
   "execution_count": 1,
   "id": "ce014f50-d198-46c7-aca4-d3ab0b34cffc",
   "metadata": {},
   "outputs": [],
   "source": [
    "import torch\n",
    "from torch.distributions import Beta, Bernoulli, Categorical"
   ]
  },
  {
   "cell_type": "code",
   "execution_count": 2,
   "id": "59c7a2d0-bbcc-4a89-a277-046c3b6eb35e",
   "metadata": {},
   "outputs": [],
   "source": [
    "def sample_prior(num_samples, num_features, c, s_d, s_l):\n",
    "  # sample latents\n",
    "  z = torch.zeros(num_samples).long()\n",
    "  M_k = []\n",
    "  for t in range(num_samples):\n",
    "    z_probs = torch.zeros(len(M_k)+1)\n",
    "    z_probs[-1] = (1-c) / ((1-c) + c*t)\n",
    "    z_probs[:-1] = (c * torch.Tensor(M_k)) / ((1-c) + c*t)\n",
    "\n",
    "    z[t] = Categorical(z_probs).sample()\n",
    "\n",
    "    if z[t] == len(M_k):\n",
    "      M_k.append(1)\n",
    "    else:\n",
    "      M_k[z[t]] += 1\n",
    "\n",
    "  # sample feature and class probs\n",
    "  x_probs = Beta(s_d * torch.ones(z.max()+1, num_features), s_d * torch.ones(z.max()+1, num_features)).sample()\n",
    "  y_probs = Beta(s_l * torch.ones(z.max()+1), s_l * torch.ones(z.max()+1)).sample() \n",
    "\n",
    "  # sample feature and class values\n",
    "  x = Bernoulli(x_probs[z]).sample()\n",
    "  y = Bernoulli(y_probs[z]).sample()\n",
    "  return x, y"
   ]
  },
  {
   "cell_type": "code",
   "execution_count": 12,
   "id": "6976d30c-9fe5-4681-b12c-7c603d5a3703",
   "metadata": {},
   "outputs": [
    {
     "name": "stdout",
     "output_type": "stream",
     "text": [
      "torch.Size([10, 3])\n",
      "torch.Size([10])\n"
     ]
    }
   ],
   "source": [
    "x, y = sample_prior(10, 3, 0.318, 0.488, 0.046)\n",
    "print(x.shape)\n",
    "print(y.shape)"
   ]
  },
  {
   "cell_type": "code",
   "execution_count": 13,
   "id": "089e535a-a524-438e-9366-5562cb0b13db",
   "metadata": {},
   "outputs": [
    {
     "data": {
      "text/plain": [
       "tensor([[1., 1., 0.],\n",
       "        [1., 1., 1.],\n",
       "        [0., 0., 0.],\n",
       "        [0., 1., 0.],\n",
       "        [1., 0., 0.],\n",
       "        [0., 1., 0.],\n",
       "        [1., 0., 1.],\n",
       "        [1., 0., 0.],\n",
       "        [0., 1., 1.],\n",
       "        [0., 0., 1.]])"
      ]
     },
     "execution_count": 13,
     "metadata": {},
     "output_type": "execute_result"
    }
   ],
   "source": [
    "x"
   ]
  },
  {
   "cell_type": "code",
   "execution_count": 14,
   "id": "9fd2e340-5866-45d3-abfd-4537349af43e",
   "metadata": {},
   "outputs": [
    {
     "data": {
      "text/plain": [
       "tensor([0., 1., 0., 0., 1., 0., 1., 1., 0., 0.])"
      ]
     },
     "execution_count": 14,
     "metadata": {},
     "output_type": "execute_result"
    }
   ],
   "source": [
    "y"
   ]
  },
  {
   "cell_type": "code",
   "execution_count": 7,
   "id": "28f0ee09-07d2-4124-af79-dfcf46e74339",
   "metadata": {},
   "outputs": [],
   "source": [
    "import sys\n",
    "sys.path.append('/raven/u/ajagadish/vanilla-llama/categorisation/')\n",
    "import pandas as pd\n",
    "import numpy as np\n",
    "import matplotlib.pyplot as plt\n",
    "import seaborn as sns\n",
    "import torch\n",
    "FONTSIZE=15"
   ]
  },
  {
   "cell_type": "code",
   "execution_count": 8,
   "id": "fade3c18-0abb-4ba4-968b-ccb002a8d94b",
   "metadata": {},
   "outputs": [
    {
     "data": {
      "text/plain": [
       "<matplotlib.collections.PathCollection at 0x2b931812ba00>"
      ]
     },
     "execution_count": 8,
     "metadata": {},
     "output_type": "execute_result"
    },
    {
     "data": {
      "image/png": "[encoded data removed]",
      "text/plain": [
       "<Figure size 432x288 with 1 Axes>"
      ]
     },
     "metadata": {
      "needs_background": "light"
     },
     "output_type": "display_data"
    }
   ],
   "source": [
    "plt.scatter(x[:,0], x[:,1])"
   ]
  },
  {
   "cell_type": "code",
   "execution_count": null,
   "id": "a58b7f9f-21a4-4a44-a385-ec98988bb85a",
   "metadata": {},
   "outputs": [],
   "source": []
  }
 ],
 "metadata": {
  "kernelspec": {
   "display_name": "Python 3",
   "language": "python",
   "name": "python3"
  },
  "language_info": {
   "codemirror_mode": {
    "name": "ipython",
    "version": 3
   },
   "file_extension": ".py",
   "mimetype": "text/x-python",
   "name": "python",
   "nbconvert_exporter": "python",
   "pygments_lexer": "ipython3",
   "version": "3.9.7"
  }
 },
 "nbformat": 4,
 "nbformat_minor": 5
}
