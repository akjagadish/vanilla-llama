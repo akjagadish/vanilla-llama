{
 "cells": [
  {
   "cell_type": "code",
   "execution_count": 1,
   "id": "c9f55a75-1b95-491a-bf7f-5d4d4729768d",
   "metadata": {
    "tags": []
   },
   "outputs": [],
   "source": [
    "import pandas as pd\n",
    "import matplotlib.pyplot as plt\n",
    "import sys\n",
    "sys.path.append('/u/ajagadish/vanilla-llama/categorisation/')\n",
    "sys.path.append('/u/ajagadish/vanilla-llama/categorisation/data')\n",
    "sys.path.append('/u/ajagadish/vanilla-llama/categorisation/rl2')\n",
    "import torch\n",
    "# from rl2.model import RL2, MetaLearner\n",
    "# from evaluate import evaluate_1d, evaluate_metalearner\n",
    "import torch.nn.utils.rnn as rnn_utils\n",
    "import numpy as np\n",
    "FONTSIZE=20\n",
    "import pandas as pd\n",
    "import seaborn as sns"
   ]
  },
  {
   "cell_type": "markdown",
   "id": "1b6d5bf3",
   "metadata": {
    "tags": []
   },
   "source": [
    "## Evaluate meta-learner on Johannsen task"
   ]
  },
  {
   "cell_type": "code",
   "execution_count": 89,
   "id": "52046c23",
   "metadata": {},
   "outputs": [
    {
     "data": {
      "text/html": [
       "<div>\n",
       "<style scoped>\n",
       "    .dataframe tbody tr th:only-of-type {\n",
       "        vertical-align: middle;\n",
       "    }\n",
       "\n",
       "    .dataframe tbody tr th {\n",
       "        vertical-align: top;\n",
       "    }\n",
       "\n",
       "    .dataframe thead th {\n",
       "        text-align: right;\n",
       "    }\n",
       "</style>\n",
       "<table border=\"1\" class=\"dataframe\">\n",
       "  <thead>\n",
       "    <tr style=\"text-align: right;\">\n",
       "      <th></th>\n",
       "      <th>task_feature</th>\n",
       "      <th>run</th>\n",
       "      <th>task</th>\n",
       "      <th>trial</th>\n",
       "      <th>choice</th>\n",
       "      <th>correct_choice</th>\n",
       "      <th>category</th>\n",
       "      <th>all_features</th>\n",
       "      <th>stimulus_id</th>\n",
       "      <th>feature1</th>\n",
       "      <th>feature2</th>\n",
       "      <th>feature3</th>\n",
       "      <th>feature4</th>\n",
       "      <th>prototype_feature1</th>\n",
       "      <th>prototype_feature2</th>\n",
       "      <th>prototype_feature3</th>\n",
       "      <th>prototype_feature4</th>\n",
       "    </tr>\n",
       "  </thead>\n",
       "  <tbody>\n",
       "    <tr>\n",
       "      <th>0</th>\n",
       "      <td>2</td>\n",
       "      <td>0</td>\n",
       "      <td>0</td>\n",
       "      <td>0</td>\n",
       "      <td>0</td>\n",
       "      <td>1</td>\n",
       "      <td>2</td>\n",
       "      <td>[1. 1. 1. 1.]</td>\n",
       "      <td>B4</td>\n",
       "      <td>1.0</td>\n",
       "      <td>1.0</td>\n",
       "      <td>1.0</td>\n",
       "      <td>1.0</td>\n",
       "      <td>1</td>\n",
       "      <td>1</td>\n",
       "      <td>1</td>\n",
       "      <td>1</td>\n",
       "    </tr>\n",
       "    <tr>\n",
       "      <th>1</th>\n",
       "      <td>2</td>\n",
       "      <td>0</td>\n",
       "      <td>0</td>\n",
       "      <td>1</td>\n",
       "      <td>0</td>\n",
       "      <td>0</td>\n",
       "      <td>1</td>\n",
       "      <td>[1. 0. 0. 0.]</td>\n",
       "      <td>A5</td>\n",
       "      <td>1.0</td>\n",
       "      <td>0.0</td>\n",
       "      <td>0.0</td>\n",
       "      <td>0.0</td>\n",
       "      <td>0</td>\n",
       "      <td>0</td>\n",
       "      <td>0</td>\n",
       "      <td>0</td>\n",
       "    </tr>\n",
       "    <tr>\n",
       "      <th>2</th>\n",
       "      <td>2</td>\n",
       "      <td>0</td>\n",
       "      <td>0</td>\n",
       "      <td>2</td>\n",
       "      <td>0</td>\n",
       "      <td>0</td>\n",
       "      <td>1</td>\n",
       "      <td>[0. 1. 0. 0.]</td>\n",
       "      <td>A3</td>\n",
       "      <td>0.0</td>\n",
       "      <td>1.0</td>\n",
       "      <td>0.0</td>\n",
       "      <td>0.0</td>\n",
       "      <td>0</td>\n",
       "      <td>0</td>\n",
       "      <td>0</td>\n",
       "      <td>0</td>\n",
       "    </tr>\n",
       "    <tr>\n",
       "      <th>3</th>\n",
       "      <td>2</td>\n",
       "      <td>0</td>\n",
       "      <td>0</td>\n",
       "      <td>3</td>\n",
       "      <td>1</td>\n",
       "      <td>0</td>\n",
       "      <td>1</td>\n",
       "      <td>[0. 0. 1. 0.]</td>\n",
       "      <td>A4</td>\n",
       "      <td>0.0</td>\n",
       "      <td>0.0</td>\n",
       "      <td>1.0</td>\n",
       "      <td>0.0</td>\n",
       "      <td>0</td>\n",
       "      <td>0</td>\n",
       "      <td>0</td>\n",
       "      <td>0</td>\n",
       "    </tr>\n",
       "    <tr>\n",
       "      <th>4</th>\n",
       "      <td>2</td>\n",
       "      <td>0</td>\n",
       "      <td>0</td>\n",
       "      <td>4</td>\n",
       "      <td>1</td>\n",
       "      <td>1</td>\n",
       "      <td>2</td>\n",
       "      <td>[0. 0. 1. 1.]</td>\n",
       "      <td>B1</td>\n",
       "      <td>0.0</td>\n",
       "      <td>0.0</td>\n",
       "      <td>1.0</td>\n",
       "      <td>1.0</td>\n",
       "      <td>1</td>\n",
       "      <td>1</td>\n",
       "      <td>1</td>\n",
       "      <td>1</td>\n",
       "    </tr>\n",
       "  </tbody>\n",
       "</table>\n",
       "</div>"
      ],
      "text/plain": [
       "   task_feature  run  task  trial  choice  correct_choice  category  \\\n",
       "0             2    0     0      0       0               1         2   \n",
       "1             2    0     0      1       0               0         1   \n",
       "2             2    0     0      2       0               0         1   \n",
       "3             2    0     0      3       1               0         1   \n",
       "4             2    0     0      4       1               1         2   \n",
       "\n",
       "    all_features stimulus_id  feature1  feature2  feature3  feature4  \\\n",
       "0  [1. 1. 1. 1.]          B4       1.0       1.0       1.0       1.0   \n",
       "1  [1. 0. 0. 0.]          A5       1.0       0.0       0.0       0.0   \n",
       "2  [0. 1. 0. 0.]          A3       0.0       1.0       0.0       0.0   \n",
       "3  [0. 0. 1. 0.]          A4       0.0       0.0       1.0       0.0   \n",
       "4  [0. 0. 1. 1.]          B1       0.0       0.0       1.0       1.0   \n",
       "\n",
       "   prototype_feature1  prototype_feature2  prototype_feature3  \\\n",
       "0                   1                   1                   1   \n",
       "1                   0                   0                   0   \n",
       "2                   0                   0                   0   \n",
       "3                   0                   0                   0   \n",
       "4                   1                   1                   1   \n",
       "\n",
       "   prototype_feature4  \n",
       "0                   1  \n",
       "1                   0  \n",
       "2                   0  \n",
       "3                   0  \n",
       "4                   1  "
      ]
     },
     "execution_count": 89,
     "metadata": {},
     "output_type": "execute_result"
    }
   ],
   "source": [
    "data = pd.read_csv('../data/meta_learner/johanssen_categorisation__tasks8950_pversion5_stage1_model=transformer_num_episodes500000_num_hidden=256_lr0.0003_num_layers=6_d_model=64_num_head=8_noise0.0_shuffleTrue_run=1_beta=1.0_num_trials=288_num_runs=1.csv')\n",
    "#johanssen_categorisation__tasks8950_pversion5_stage1_model=transformer_num_episodes500000_num_hidden=256_lr0.0003_num_layers=6_d_model=64_num_head=8_noise0.0_shuffleTrue_run=0_beta=1.0_num_trials=288_num_runs=1.csv')\n",
    "data.head()"
   ]
  },
  {
   "cell_type": "raw",
   "id": "960f4e9e-597c-4325-a25e-af87d26260b1",
   "metadata": {},
   "source": [
    "data.task.min()"
   ]
  },
  {
   "cell_type": "code",
   "execution_count": null,
   "id": "00e0088e",
   "metadata": {},
   "outputs": [],
   "source": []
  },
  {
   "cell_type": "code",
   "execution_count": 90,
   "id": "8970e117",
   "metadata": {},
   "outputs": [
    {
     "data": {
      "text/plain": [
       "stimulus_group\n",
       "A    0.975090\n",
       "B    0.967111\n",
       "T    0.495833\n",
       "Name: correct, dtype: float64"
      ]
     },
     "execution_count": 90,
     "metadata": {},
     "output_type": "execute_result"
    }
   ],
   "source": [
    "# group all stimulus_id starting with 'A', 'B' and 'T' respectively\n",
    "data['stimulus_group'] = data['stimulus_id'].apply(lambda x: x[0])\n",
    "data.head()\n",
    "# add a column called correct when choice is equal to the correct correct_choice\n",
    "data['correct'] = data['choice'] == data['correct_choice']\n",
    "# performance of of model on each stimulus group\n",
    "data.groupby('stimulus_group')['correct'].mean()\n"
   ]
  },
  {
   "cell_type": "code",
   "execution_count": null,
   "id": "5f749c68-0fcb-4a19-b733-9268d84ad78b",
   "metadata": {},
   "outputs": [],
   "source": []
  },
  {
   "cell_type": "code",
   "execution_count": 91,
   "id": "40f27867-0635-46c2-9e33-0e9b6b4349ea",
   "metadata": {},
   "outputs": [
    {
     "name": "stderr",
     "output_type": "stream",
     "text": [
      "/tmp/ipykernel_50592/613833048.py:4: SettingWithCopyWarning: \n",
      "A value is trying to be set on a copy of a slice from a DataFrame.\n",
      "Try using .loc[row_indexer,col_indexer] = value instead\n",
      "\n",
      "See the caveats in the documentation: https://pandas.pydata.org/pandas-docs/stable/user_guide/indexing.html#returning-a-view-versus-a-copy\n",
      "  df['is_correct'] = (df['choice'] == df['correct_choice']).astype(int)\n"
     ]
    },
    {
     "data": {
      "image/png": "[encoded data removed]",
      "text/plain": [
       "<Figure size 720x432 with 1 Axes>"
      ]
     },
     "metadata": {
      "needs_background": "light"
     },
     "output_type": "display_data"
    }
   ],
   "source": [
    "plt.figure(figsize=(10, 6))\n",
    "for tf in data['task_feature'].unique():\n",
    "    df = data[data['task_feature']==tf]\n",
    "    df['is_correct'] = (df['choice'] == df['correct_choice']).astype(int)\n",
    "\n",
    "    # Group by 'trial' and calculate the mean of 'is_correct'\n",
    "    trial_correctness = df.groupby(['trial'])['is_correct'].mean(1)\n",
    "\n",
    "    # Plotting the mean correctness over trials\n",
    "    plt.plot(1-trial_correctness, label=tf)\n",
    "    plt.title('Mean Correctness of Choices Over Trials')\n",
    "    plt.xlabel('Trial')\n",
    "    plt.ylabel('Mean Correctness')\n",
    "plt.legend(fontsize=FONTSIZE-3)\n",
    "plt.show()"
   ]
  },
  {
   "cell_type": "code",
   "execution_count": null,
   "id": "8b5ef031-e12c-4212-8fb1-d5c8229c3330",
   "metadata": {},
   "outputs": [],
   "source": []
  },
  {
   "cell_type": "code",
   "execution_count": 97,
   "id": "52b9c838",
   "metadata": {},
   "outputs": [
    {
     "data": {
      "image/png": "[encoded data removed]",
      "text/plain": [
       "<Figure size 2160x360 with 6 Axes>"
      ]
     },
     "metadata": {
      "needs_background": "light"
     },
     "output_type": "display_data"
    }
   ],
   "source": [
    "# subselect stimulus_id whose values have letter 'T' in them \n",
    "transfer_stimulus_ids = data[data['stimulus_id'].str.contains('T')]['stimulus_id']\n",
    "transfer_data = data[data['stimulus_id'].isin(transfer_stimulus_ids)]\n",
    "# plot barplot of mean across choice column for each stimulus_id\n",
    "# transfer_data.groupby('stimulus_id')['choice'].mean().plot(kind='bar')\n",
    "# plt.xlabel('Stimulus ID', fontsize=FONTSIZE)\n",
    "# plt.ylabel('Mean Choice', fontsize=FONTSIZE)\n",
    "# plt.xticks(fontsize=FONTSIZE)\n",
    "# plt.yticks(fontsize=FONTSIZE)\n",
    "# plt.show() \n",
    "# repeat the above plot for each unique values in the task_feature column of the transfer_data dataframe\n",
    "# the barplot for each task_feature should be plotted in a separate subplot\n",
    "fig, ax = plt.subplots(1, len(transfer_data['task_feature'].unique()), figsize=(5*len(transfer_data['task_feature'].unique()), 5))\n",
    "for i, task_feature in enumerate(transfer_data['task_feature'].unique()):\n",
    "    # remove the spacing between bars in the bar plot\n",
    "    (1-transfer_data[transfer_data['task_feature'] == task_feature].groupby('stimulus_id')['choice'].mean()).plot(kind='bar', ax=ax[i], width=1., edgecolor='black', linewidth=1, color='white')\n",
    "    # color the third and seventh bar in the bar plot gray\n",
    "    ax[i].patches[2].set_facecolor('gray')\n",
    "    ax[i].patches[6].set_facecolor('gray')\n",
    "    ax[i].set_title(task_feature)\n",
    "    # set ylim to be the same for all subplots\n",
    "    ax[i].set_ylim([0, 0.9])#1.05\n",
    "    # draw a horizontal line at y=0.5\n",
    "    ax[i].axhline(y=0.5, linestyle='--', color='black')\n",
    "    if i==0:\n",
    "        ax[i].set_xlabel('Transfer stimulus ID', fontsize=FONTSIZE)\n",
    "        ax[i].set_ylabel('Mean Choice', fontsize=FONTSIZE)\n",
    "        ax[i].tick_params(axis='both', which='major', labelsize=FONTSIZE)\n",
    "    else:\n",
    "        # only xticks\n",
    "        ax[i].tick_params(axis='x', which='major', labelsize=FONTSIZE)\n",
    "        #remove yticks\n",
    "        ax[i].set_yticks([])\n",
    "        # remove xlabel and ylabel\n",
    "        ax[i].set_xlabel('')\n",
    "        ax[i].set_ylabel('')"
   ]
  },
  {
   "cell_type": "code",
   "execution_count": 98,
   "id": "5e77908b",
   "metadata": {},
   "outputs": [],
   "source": [
    "num_repeats= 15\n",
    "num_samples = 10000\n",
    "abbba_count = np.zeros((num_repeats, len(transfer_data['task_feature'].unique())))\n",
    "aabbb_count = np.zeros((num_repeats, len(transfer_data['task_feature'].unique())))\n",
    "bbaba_count = np.zeros((num_repeats, len(transfer_data['task_feature'].unique())))\n",
    "for j in range(num_repeats):\n",
    "    for i, task_feature in enumerate(transfer_data['task_feature'].unique()):\n",
    "        # remove the spacing between bars in the bar plot\n",
    "        probs_all_transfer = (1-transfer_data[transfer_data['task_feature'] == task_feature].groupby('stimulus_id')['choice'].mean()).values\n",
    "        ## keep all values except the third and seventh value\n",
    "        probs_all_transfer = np.delete(probs_all_transfer, [2, 6])\n",
    "        # sample from each probability value in probs_all_transfer 1000 times using bernoulli distribution\n",
    "        sample_transfer_items = np.random.binomial(1, probs_all_transfer, size=(num_samples, len(probs_all_transfer)))\n",
    "        # count the number of unique rows in sample_transfer_items\n",
    "        unique, counts = np.unique(sample_transfer_items, axis=0, return_counts=True)\n",
    "        # find the counts for [1, 0, 0, 0, 1]\n",
    "        counts_abbba = counts[np.where((unique[:, 0]==1) & (unique[:, 4]==1) & (unique[:, 1]==0) & (unique[:, 2]==0) & (unique[:, 3]==0))]\n",
    "        # add all counts for those which differed from [1, 0, 0, 0, 1] in only one position\n",
    "        counts_abbba += counts[np.where((unique[:, 0]==0) & (unique[:, 4]==1) & (unique[:, 1]==0) & (unique[:, 2]==0) & (unique[:, 3]==0))]\n",
    "        counts_abbba += counts[np.where((unique[:, 0]==1) & (unique[:, 4]==0) & (unique[:, 1]==0) & (unique[:, 2]==0) & (unique[:, 3]==0))]\n",
    "        counts_abbba += counts[np.where((unique[:, 0]==1) & (unique[:, 4]==1) & (unique[:, 1]==1) & (unique[:, 2]==0) & (unique[:, 3]==0))]\n",
    "        counts_abbba += counts[np.where((unique[:, 0]==1) & (unique[:, 4]==1) & (unique[:, 1]==0) & (unique[:, 2]==1) & (unique[:, 3]==0))]\n",
    "        counts_abbba += counts[np.where((unique[:, 0]==1) & (unique[:, 4]==1) & (unique[:, 1]==0) & (unique[:, 2]==0) & (unique[:, 3]==1))]\n",
    "        # find the counts for [1, 1, 0, 0, 0]\n",
    "        counts_aabbb = counts[np.where((unique[:, 0]==1) & (unique[:, 1]==1) & (unique[:, 2]==0) & (unique[:, 3]==0) & (unique[:, 4]==0))]\n",
    "        # add all counts for those which differed from [1, 1, 0, 0, 0] in only one position\n",
    "        counts_aabbb += counts[np.where((unique[:, 0]==0) & (unique[:, 1]==1) & (unique[:, 2]==0) & (unique[:, 3]==0) & (unique[:, 4]==0))]\n",
    "        counts_aabbb += counts[np.where((unique[:, 0]==1) & (unique[:, 1]==0) & (unique[:, 2]==0) & (unique[:, 3]==0) & (unique[:, 4]==0))]\n",
    "        counts_aabbb += counts[np.where((unique[:, 0]==1) & (unique[:, 1]==1) & (unique[:, 2]==1) & (unique[:, 3]==0) & (unique[:, 4]==0))]\n",
    "        counts_aabbb += counts[np.where((unique[:, 0]==1) & (unique[:, 1]==1) & (unique[:, 2]==0) & (unique[:, 3]==1) & (unique[:, 4]==0))]\n",
    "        counts_aabbb += counts[np.where((unique[:, 0]==1) & (unique[:, 1]==1) & (unique[:, 2]==0) & (unique[:, 3]==0) & (unique[:, 4]==1))]\n",
    "        # find the counts for [0, 0, 1, 0, 1]\n",
    "        counts_bbaba = counts[np.where((unique[:, 0]==0) & (unique[:, 1]==0) & (unique[:, 2]==1) & (unique[:, 3]==0) & (unique[:, 4]==1))]\n",
    "        # add all counts for those which differed from [0, 0, 1, 0, 1] in only one position\n",
    "        counts_bbaba += counts[np.where((unique[:, 0]==1) & (unique[:, 1]==0) & (unique[:, 2]==1) & (unique[:, 3]==0) & (unique[:, 4]==1))]\n",
    "        counts_bbaba += counts[np.where((unique[:, 0]==0) & (unique[:, 1]==1) & (unique[:, 2]==1) & (unique[:, 3]==0) & (unique[:, 4]==1))]\n",
    "        counts_bbaba += counts[np.where((unique[:, 0]==0) & (unique[:, 1]==0) & (unique[:, 2]==0) & (unique[:, 3]==0) & (unique[:, 4]==1))]\n",
    "        counts_bbaba += counts[np.where((unique[:, 0]==0) & (unique[:, 1]==0) & (unique[:, 2]==1) & (unique[:, 3]==1) & (unique[:, 4]==1))]\n",
    "        counts_bbaba += counts[np.where((unique[:, 0]==0) & (unique[:, 1]==0) & (unique[:, 2]==1) & (unique[:, 3]==0) & (unique[:, 4]==0))]\n",
    "        # append the counts for each task_feature to the respective lists\n",
    "        abbba_count[j, i] = (counts_abbba/num_samples)\n",
    "        aabbb_count[j, i] = (counts_aabbb/num_samples)\n",
    "        bbaba_count[j, i] = (counts_bbaba/num_samples)"
   ]
  },
  {
   "cell_type": "code",
   "execution_count": 99,
   "id": "e77f82f5",
   "metadata": {},
   "outputs": [
    {
     "data": {
      "image/png": "[encoded data removed]",
      "text/plain": [
       "<Figure size 504x504 with 1 Axes>"
      ]
     },
     "metadata": {
      "needs_background": "light"
     },
     "output_type": "display_data"
    }
   ],
   "source": [
    "# plot the counts of abbba, aabbb and bbaba across task_features as a line plot in a single subplot\n",
    "fig, ax = plt.subplots(1, 1, figsize=(7, 7))\n",
    "# ax.plot(abbba_count.mean(axis=0), label='exemplar generalisation')\n",
    "ax.errorbar(np.arange(0, len(transfer_data['task_feature'].unique())), abbba_count.mean(axis=0), yerr=abbba_count.std(axis=0), label='exemplar generalisation')\n",
    "# ax.plot(aabbb_count.mean(axis=0), label='dim-1 generalisation')\n",
    "ax.errorbar(np.arange(0, len(transfer_data['task_feature'].unique())), aabbb_count.mean(axis=0), yerr=aabbb_count.std(axis=0), label='dim-1 generalisation')\n",
    "# ax.plot(bbaba_count.mean(axis=0), label='dim-3 generalisation')\n",
    "ax.errorbar(np.arange(0, len(transfer_data['task_feature'].unique())), bbaba_count.mean(axis=0), yerr=bbaba_count.std(axis=0), label='dim-3 generalisation')\n",
    "ax.set_xlabel('Transfer Block', fontsize=FONTSIZE)\n",
    "ax.set_ylabel('Percent of Observed \\n Generalisation Pattern', fontsize=FONTSIZE)\n",
    "ax.set_xticks(np.arange(0, len(transfer_data['task_feature'].unique())))\n",
    "ax.set_xticklabels(transfer_data['task_feature'].unique())\n",
    "ax.tick_params(axis='both', which='major', labelsize=FONTSIZE)\n",
    "ax.legend(fontsize=FONTSIZE-3, loc='upper right', frameon=False)\n",
    "sns.despine()\n",
    "plt.show()\n"
   ]
  },
  {
   "cell_type": "code",
   "execution_count": 86,
   "id": "3aed9314",
   "metadata": {},
   "outputs": [
    {
     "data": {
      "text/html": [
       "<div>\n",
       "<style scoped>\n",
       "    .dataframe tbody tr th:only-of-type {\n",
       "        vertical-align: middle;\n",
       "    }\n",
       "\n",
       "    .dataframe tbody tr th {\n",
       "        vertical-align: top;\n",
       "    }\n",
       "\n",
       "    .dataframe thead th {\n",
       "        text-align: right;\n",
       "    }\n",
       "</style>\n",
       "<table border=\"1\" class=\"dataframe\">\n",
       "  <thead>\n",
       "    <tr style=\"text-align: right;\">\n",
       "      <th>task</th>\n",
       "      <th>0</th>\n",
       "      <th>1</th>\n",
       "      <th>2</th>\n",
       "      <th>3</th>\n",
       "      <th>4</th>\n",
       "      <th>5</th>\n",
       "      <th>6</th>\n",
       "      <th>7</th>\n",
       "      <th>8</th>\n",
       "      <th>9</th>\n",
       "      <th>...</th>\n",
       "      <th>670</th>\n",
       "      <th>671</th>\n",
       "      <th>672</th>\n",
       "      <th>673</th>\n",
       "      <th>674</th>\n",
       "      <th>675</th>\n",
       "      <th>676</th>\n",
       "      <th>677</th>\n",
       "      <th>678</th>\n",
       "      <th>679</th>\n",
       "    </tr>\n",
       "    <tr>\n",
       "      <th>stimulus_id</th>\n",
       "      <th></th>\n",
       "      <th></th>\n",
       "      <th></th>\n",
       "      <th></th>\n",
       "      <th></th>\n",
       "      <th></th>\n",
       "      <th></th>\n",
       "      <th></th>\n",
       "      <th></th>\n",
       "      <th></th>\n",
       "      <th></th>\n",
       "      <th></th>\n",
       "      <th></th>\n",
       "      <th></th>\n",
       "      <th></th>\n",
       "      <th></th>\n",
       "      <th></th>\n",
       "      <th></th>\n",
       "      <th></th>\n",
       "      <th></th>\n",
       "      <th></th>\n",
       "    </tr>\n",
       "  </thead>\n",
       "  <tbody>\n",
       "    <tr>\n",
       "      <th>T1</th>\n",
       "      <td>NaN</td>\n",
       "      <td>NaN</td>\n",
       "      <td>NaN</td>\n",
       "      <td>NaN</td>\n",
       "      <td>0.0</td>\n",
       "      <td>NaN</td>\n",
       "      <td>NaN</td>\n",
       "      <td>NaN</td>\n",
       "      <td>NaN</td>\n",
       "      <td>NaN</td>\n",
       "      <td>...</td>\n",
       "      <td>NaN</td>\n",
       "      <td>0.0</td>\n",
       "      <td>0.0</td>\n",
       "      <td>NaN</td>\n",
       "      <td>0.0</td>\n",
       "      <td>NaN</td>\n",
       "      <td>NaN</td>\n",
       "      <td>NaN</td>\n",
       "      <td>NaN</td>\n",
       "      <td>NaN</td>\n",
       "    </tr>\n",
       "    <tr>\n",
       "      <th>T2</th>\n",
       "      <td>NaN</td>\n",
       "      <td>NaN</td>\n",
       "      <td>NaN</td>\n",
       "      <td>NaN</td>\n",
       "      <td>NaN</td>\n",
       "      <td>0.0</td>\n",
       "      <td>NaN</td>\n",
       "      <td>NaN</td>\n",
       "      <td>NaN</td>\n",
       "      <td>NaN</td>\n",
       "      <td>...</td>\n",
       "      <td>NaN</td>\n",
       "      <td>NaN</td>\n",
       "      <td>NaN</td>\n",
       "      <td>NaN</td>\n",
       "      <td>NaN</td>\n",
       "      <td>NaN</td>\n",
       "      <td>NaN</td>\n",
       "      <td>NaN</td>\n",
       "      <td>NaN</td>\n",
       "      <td>NaN</td>\n",
       "    </tr>\n",
       "    <tr>\n",
       "      <th>T3</th>\n",
       "      <td>0.0</td>\n",
       "      <td>NaN</td>\n",
       "      <td>NaN</td>\n",
       "      <td>NaN</td>\n",
       "      <td>NaN</td>\n",
       "      <td>NaN</td>\n",
       "      <td>NaN</td>\n",
       "      <td>NaN</td>\n",
       "      <td>NaN</td>\n",
       "      <td>NaN</td>\n",
       "      <td>...</td>\n",
       "      <td>NaN</td>\n",
       "      <td>NaN</td>\n",
       "      <td>NaN</td>\n",
       "      <td>NaN</td>\n",
       "      <td>NaN</td>\n",
       "      <td>NaN</td>\n",
       "      <td>1.0</td>\n",
       "      <td>NaN</td>\n",
       "      <td>NaN</td>\n",
       "      <td>NaN</td>\n",
       "    </tr>\n",
       "    <tr>\n",
       "      <th>T4</th>\n",
       "      <td>NaN</td>\n",
       "      <td>NaN</td>\n",
       "      <td>NaN</td>\n",
       "      <td>0.0</td>\n",
       "      <td>NaN</td>\n",
       "      <td>NaN</td>\n",
       "      <td>NaN</td>\n",
       "      <td>NaN</td>\n",
       "      <td>1.0</td>\n",
       "      <td>NaN</td>\n",
       "      <td>...</td>\n",
       "      <td>NaN</td>\n",
       "      <td>NaN</td>\n",
       "      <td>NaN</td>\n",
       "      <td>NaN</td>\n",
       "      <td>NaN</td>\n",
       "      <td>1.0</td>\n",
       "      <td>NaN</td>\n",
       "      <td>NaN</td>\n",
       "      <td>0.0</td>\n",
       "      <td>NaN</td>\n",
       "    </tr>\n",
       "    <tr>\n",
       "      <th>T5</th>\n",
       "      <td>NaN</td>\n",
       "      <td>0.0</td>\n",
       "      <td>NaN</td>\n",
       "      <td>NaN</td>\n",
       "      <td>NaN</td>\n",
       "      <td>NaN</td>\n",
       "      <td>NaN</td>\n",
       "      <td>NaN</td>\n",
       "      <td>NaN</td>\n",
       "      <td>NaN</td>\n",
       "      <td>...</td>\n",
       "      <td>NaN</td>\n",
       "      <td>NaN</td>\n",
       "      <td>NaN</td>\n",
       "      <td>1.0</td>\n",
       "      <td>NaN</td>\n",
       "      <td>NaN</td>\n",
       "      <td>NaN</td>\n",
       "      <td>NaN</td>\n",
       "      <td>NaN</td>\n",
       "      <td>NaN</td>\n",
       "    </tr>\n",
       "    <tr>\n",
       "      <th>T6</th>\n",
       "      <td>NaN</td>\n",
       "      <td>NaN</td>\n",
       "      <td>NaN</td>\n",
       "      <td>NaN</td>\n",
       "      <td>NaN</td>\n",
       "      <td>NaN</td>\n",
       "      <td>1.0</td>\n",
       "      <td>0.0</td>\n",
       "      <td>NaN</td>\n",
       "      <td>0.0</td>\n",
       "      <td>...</td>\n",
       "      <td>NaN</td>\n",
       "      <td>NaN</td>\n",
       "      <td>NaN</td>\n",
       "      <td>NaN</td>\n",
       "      <td>NaN</td>\n",
       "      <td>NaN</td>\n",
       "      <td>NaN</td>\n",
       "      <td>NaN</td>\n",
       "      <td>NaN</td>\n",
       "      <td>NaN</td>\n",
       "    </tr>\n",
       "    <tr>\n",
       "      <th>T7</th>\n",
       "      <td>NaN</td>\n",
       "      <td>NaN</td>\n",
       "      <td>1.0</td>\n",
       "      <td>NaN</td>\n",
       "      <td>NaN</td>\n",
       "      <td>NaN</td>\n",
       "      <td>NaN</td>\n",
       "      <td>NaN</td>\n",
       "      <td>NaN</td>\n",
       "      <td>NaN</td>\n",
       "      <td>...</td>\n",
       "      <td>1.0</td>\n",
       "      <td>NaN</td>\n",
       "      <td>NaN</td>\n",
       "      <td>NaN</td>\n",
       "      <td>NaN</td>\n",
       "      <td>NaN</td>\n",
       "      <td>NaN</td>\n",
       "      <td>1.0</td>\n",
       "      <td>NaN</td>\n",
       "      <td>1.0</td>\n",
       "    </tr>\n",
       "  </tbody>\n",
       "</table>\n",
       "<p>7 rows × 680 columns</p>\n",
       "</div>"
      ],
      "text/plain": [
       "task         0    1    2    3    4    5    6    7    8    9    ...  670  671  \\\n",
       "stimulus_id                                                    ...             \n",
       "T1           NaN  NaN  NaN  NaN  0.0  NaN  NaN  NaN  NaN  NaN  ...  NaN  0.0   \n",
       "T2           NaN  NaN  NaN  NaN  NaN  0.0  NaN  NaN  NaN  NaN  ...  NaN  NaN   \n",
       "T3           0.0  NaN  NaN  NaN  NaN  NaN  NaN  NaN  NaN  NaN  ...  NaN  NaN   \n",
       "T4           NaN  NaN  NaN  0.0  NaN  NaN  NaN  NaN  1.0  NaN  ...  NaN  NaN   \n",
       "T5           NaN  0.0  NaN  NaN  NaN  NaN  NaN  NaN  NaN  NaN  ...  NaN  NaN   \n",
       "T6           NaN  NaN  NaN  NaN  NaN  NaN  1.0  0.0  NaN  0.0  ...  NaN  NaN   \n",
       "T7           NaN  NaN  1.0  NaN  NaN  NaN  NaN  NaN  NaN  NaN  ...  1.0  NaN   \n",
       "\n",
       "task         672  673  674  675  676  677  678  679  \n",
       "stimulus_id                                          \n",
       "T1           0.0  NaN  0.0  NaN  NaN  NaN  NaN  NaN  \n",
       "T2           NaN  NaN  NaN  NaN  NaN  NaN  NaN  NaN  \n",
       "T3           NaN  NaN  NaN  NaN  1.0  NaN  NaN  NaN  \n",
       "T4           NaN  NaN  NaN  1.0  NaN  NaN  0.0  NaN  \n",
       "T5           NaN  1.0  NaN  NaN  NaN  NaN  NaN  NaN  \n",
       "T6           NaN  NaN  NaN  NaN  NaN  NaN  NaN  NaN  \n",
       "T7           NaN  NaN  NaN  NaN  NaN  1.0  NaN  1.0  \n",
       "\n",
       "[7 rows x 680 columns]"
      ]
     },
     "execution_count": 86,
     "metadata": {},
     "output_type": "execute_result"
    }
   ],
   "source": [
    "new_df = transfer_data[transfer_data['task_feature'] == 2]\n",
    "# made a df that has all the unique stimulus_id as columns and choice values made for a each stimulus_id in the rows\n",
    "new_df = new_df.pivot(index='stimulus_id', columns='task', values='choice')\n",
    "new_df\n"
   ]
  },
  {
   "cell_type": "code",
   "execution_count": 42,
   "id": "6098fb55",
   "metadata": {},
   "outputs": [
    {
     "data": {
      "image/png": "[encoded data removed]",
      "text/plain": [
       "<Figure size 2160x360 with 6 Axes>"
      ]
     },
     "metadata": {
      "needs_background": "light"
     },
     "output_type": "display_data"
    }
   ],
   "source": [
    "# keep only stimulus_id starting with 'A' and 'B'\n",
    "train_data = data[data['stimulus_id'].str.contains('A|B')]\n",
    "# group data by task feature and task\n",
    "train_data = train_data.groupby(['task_feature', 'task']).tail(1)\n",
    "\n",
    "fig, ax = plt.subplots(1, len(transfer_data['task_feature'].unique()), figsize=(5*len(transfer_data['task_feature'].unique()), 5))\n",
    "for i, task_feature in enumerate(transfer_data['task_feature'].unique()):\n",
    "    # remove the spacing between bars in the bar plot with hash pattern\n",
    "    (1-train_data[train_data['task_feature'] == task_feature].groupby('stimulus_id')['choice'].mean()).plot(kind='bar', ax=ax[i], width=1., edgecolor='black', linewidth=1, color='white', hatch='//')\n",
    "    ax[i].set_title(task_feature)\n",
    "    # reverse hash pattern for last four bars\n",
    "    [ax[i].patches[ii].set_hatch('\\\\\\\\') for ii in range(5, 9)]\n",
    "    # set ylim to be the same for all subplots\n",
    "    ax[i].set_ylim([0, 1.05])\n",
    "    if i==0:\n",
    "        ax[i].set_xlabel('Transfer stimulus ID', fontsize=FONTSIZE)\n",
    "        ax[i].set_ylabel('Mean Choice', fontsize=FONTSIZE)\n",
    "        ax[i].tick_params(axis='both', which='major', labelsize=FONTSIZE)\n",
    "    else:\n",
    "        # only xticks\n",
    "        ax[i].tick_params(axis='x', which='major', labelsize=FONTSIZE)\n",
    "        #remove yticks\n",
    "        ax[i].set_yticks([])\n",
    "        # remove xlabel and ylabel\n",
    "        ax[i].set_xlabel('')\n",
    "        ax[i].set_ylabel('')\n",
    "\n",
    "plt.show()\n"
   ]
  },
  {
   "cell_type": "code",
   "execution_count": null,
   "id": "cbca87d6",
   "metadata": {},
   "outputs": [],
   "source": []
  },
  {
   "cell_type": "markdown",
   "id": "fdc7c13c",
   "metadata": {},
   "source": [
    "## Other tasks "
   ]
  },
  {
   "cell_type": "code",
   "execution_count": null,
   "id": "ac873da1-8033-4e49-87af-b2b55ccd97bc",
   "metadata": {
    "tags": []
   },
   "outputs": [],
   "source": [
    "from plots import metalearner_nosofskys_task\n",
    "metalearner_nosofskys_task(experiment=2, noises=[0.0], shuffles=[True], num_runs=50, num_blocks=1, num_eval_tasks=64)"
   ]
  },
  {
   "cell_type": "raw",
   "id": "27576373-7004-47f1-bfe5-3269ee5bfa73",
   "metadata": {},
   "source": []
  },
  {
   "cell_type": "code",
   "execution_count": null,
   "id": "f470f8a4-b636-475b-a8d8-01d531516907",
   "metadata": {},
   "outputs": [],
   "source": [
    "from plots import compare_metalearners\n",
    "compare_metalearners(tasks=np.arange(1,7), noises=[0.0], shuffles=[True], shuffle_evals=[False], experiment='shepard_categorisation', num_runs=50, num_eval_tasks=64)"
   ]
  },
  {
   "cell_type": "raw",
   "id": "8f5444f1-1528-4f68-9f5e-ebf6c7aa40e1",
   "metadata": {},
   "source": [
    "%debug"
   ]
  },
  {
   "cell_type": "code",
   "execution_count": null,
   "id": "45cdd385-aba6-4315-93c3-5cf211ea65a8",
   "metadata": {},
   "outputs": [],
   "source": [
    "from plots import metalearner_leverings_task\n",
    "metalearner_leverings_task(noises=[0.0], shuffles=[True], num_runs=50, num_eval_tasks=64, num_trials=150)"
   ]
  },
  {
   "cell_type": "raw",
   "id": "8da034a9-f9d8-42d6-b149-72441798335d",
   "metadata": {},
   "source": []
  },
  {
   "cell_type": "markdown",
   "id": "62b93802-0eb1-46bc-81ab-9a7730380c2a",
   "metadata": {
    "tags": []
   },
   "source": [
    "# Test meta-learner for different categorisation effects"
   ]
  },
  {
   "cell_type": "markdown",
   "id": "4d6408f9-b6c1-40c5-b1c0-e938a38bcd08",
   "metadata": {
    "jp-MarkdownHeadingCollapsed": true,
    "tags": []
   },
   "source": [
    "### Levering et al. 2019: linear vs non-linear decision boundary"
   ]
  },
  {
   "cell_type": "code",
   "execution_count": null,
   "id": "3a09d9ee-d1a1-4124-8df6-91e40e96b1ba",
   "metadata": {},
   "outputs": [],
   "source": [
    "from plots import metalearner_leverings_task\n",
    "metalearner_leverings_task(shuffles=[True], num_runs=20, num_eval_tasks=64, num_trials=150)"
   ]
  },
  {
   "cell_type": "raw",
   "id": "906b11d0-bf2e-4dd5-a85f-a30c9f3a4680",
   "metadata": {},
   "source": []
  },
  {
   "cell_type": "markdown",
   "id": "deb9b8ab-858e-4775-bdd9-22ca1c5217af",
   "metadata": {
    "jp-MarkdownHeadingCollapsed": true,
    "tags": []
   },
   "source": [
    "#### conditions"
   ]
  },
  {
   "cell_type": "code",
   "execution_count": null,
   "id": "de5a031a-d14f-4dda-ba51-d87fb1213158",
   "metadata": {},
   "outputs": [],
   "source": [
    "from envs import LeveringsTask\n",
    "levs_task = LeveringsTask(task='nonlinear')#, batch_size=1, num_blocks=1)\n",
    "a, b, c = levs_task.sample_batch()"
   ]
  },
  {
   "cell_type": "code",
   "execution_count": null,
   "id": "a5b7ebfd-56be-4ea6-882a-4733100a4e4c",
   "metadata": {},
   "outputs": [],
   "source": [
    "a[0, :6, :3], c[0][:6]"
   ]
  },
  {
   "cell_type": "raw",
   "id": "fd055adf-af3e-4ca3-b648-295d9f366146",
   "metadata": {},
   "source": []
  },
  {
   "cell_type": "markdown",
   "id": "ef0552f3-4252-49d5-bf96-af102fd631c1",
   "metadata": {
    "jp-MarkdownHeadingCollapsed": true,
    "tags": []
   },
   "source": [
    "### Nosofsky 1998: Base-rate effects"
   ]
  },
  {
   "cell_type": "code",
   "execution_count": null,
   "id": "9e9c36f3-9603-470d-b123-99dbb536112c",
   "metadata": {
    "tags": []
   },
   "outputs": [],
   "source": [
    "from plots import metalearner_nosofskys_task\n",
    "metalearner_nosofskys_task(experiment=2, noises=[0.0], shuffles=[True], num_runs=50, num_blocks=1, num_eval_tasks=64)"
   ]
  },
  {
   "cell_type": "raw",
   "id": "3c99952f-c08b-417f-abce-ca7b82a7b4a0",
   "metadata": {},
   "source": []
  },
  {
   "cell_type": "markdown",
   "id": "b28891f2-faed-449a-8bf8-2d7215311469",
   "metadata": {
    "jp-MarkdownHeadingCollapsed": true,
    "tags": []
   },
   "source": [
    "#### conditions"
   ]
  },
  {
   "cell_type": "code",
   "execution_count": null,
   "id": "3ddce25b-9fa2-4321-b0f2-c5cb2ffe6d97",
   "metadata": {
    "collapsed": true,
    "jupyter": {
     "outputs_hidden": true
    },
    "tags": []
   },
   "outputs": [],
   "source": [
    "from envs import NosofskysTask\n",
    "nosofs_task = NosofskysTask(task=[4, 1, 5], batch_size=3)\n",
    "a, b, c = nosofs_task.sample_batch()"
   ]
  },
  {
   "cell_type": "raw",
   "id": "a8af9b56-8582-4676-8fb5-828f531e2b08",
   "metadata": {},
   "source": [
    "a, b, c"
   ]
  },
  {
   "cell_type": "markdown",
   "id": "73f5d9f8-5e4d-4bbd-8bf5-7062272be3d7",
   "metadata": {
    "jp-MarkdownHeadingCollapsed": true,
    "tags": []
   },
   "source": [
    "#### Replication of figure"
   ]
  },
  {
   "cell_type": "code",
   "execution_count": null,
   "id": "68906a78-4b50-4f11-8871-648ea62cd1d8",
   "metadata": {},
   "outputs": [],
   "source": [
    "from envs import NosofskysTask\n",
    "nosofs_task = NosofskysTask(task=[4, None, None], batch_size=1)\n",
    "a, b, c = nosofs_task.sample_batch()"
   ]
  },
  {
   "cell_type": "code",
   "execution_count": null,
   "id": "db59eb1e-eb35-4338-9e6d-e3718dfb36bc",
   "metadata": {},
   "outputs": [],
   "source": [
    "f, ax = plt.subplots(1, 1, figsize=(5,5))\n",
    "ax.scatter(a[:, c[0].squeeze()==0, 1], a[:, c[0].squeeze()==0, 0])\n",
    "ax.scatter(a[:, c[0].squeeze()==1, 1], a[:, c[0].squeeze()==1, 0])\n",
    "ax.set_xlabel('Saturation', fontsize=FONTSIZE-2)\n",
    "ax.set_ylabel('Brightness', fontsize=FONTSIZE-2)\n",
    "plt.show()"
   ]
  },
  {
   "cell_type": "raw",
   "id": "5fb32f0d-eb5e-4943-ba14-526e1a5e4f99",
   "metadata": {},
   "source": []
  },
  {
   "cell_type": "raw",
   "id": "72fc3f03-75c0-4a2c-8ffa-49d81e268c8e",
   "metadata": {},
   "source": []
  },
  {
   "cell_type": "code",
   "execution_count": null,
   "id": "8621bc1f-b9d8-4951-b772-5e7c3d801f8c",
   "metadata": {},
   "outputs": [],
   "source": []
  },
  {
   "cell_type": "markdown",
   "id": "d8cfe947-09f9-48b2-9a69-287fc7713b1f",
   "metadata": {
    "jp-MarkdownHeadingCollapsed": true,
    "tags": []
   },
   "source": [
    "### Shepard et al. 1961: Learning trends"
   ]
  },
  {
   "cell_type": "code",
   "execution_count": null,
   "id": "f1dd1d79-c787-4493-9909-79b1251c130e",
   "metadata": {},
   "outputs": [],
   "source": [
    "from plots import compare_metalearners\n",
    "compare_metalearners(tasks=np.arange(1,7), noises=[0.0], shuffles=[True], shuffle_evals=[False], experiment='shepard_categorisation', num_runs=10, num_eval_tasks=32)#shepard_categorisation"
   ]
  },
  {
   "cell_type": "raw",
   "id": "fc8a6eec-f9a7-4d4f-bd0b-5371f37619c7",
   "metadata": {
    "tags": []
   },
   "source": [
    "from envs import ShepardsTask\n",
    "shepard_task = ShepardsTask(task=6, batch_size=1, max_steps=8)\n",
    "shepard_task.sample_batch()"
   ]
  },
  {
   "cell_type": "raw",
   "id": "8c23690f-e47a-4660-a324-c9ffa3190464",
   "metadata": {},
   "source": []
  },
  {
   "cell_type": "markdown",
   "id": "74ecc2f3-9d9e-454f-a3ef-c3370e0c5fb0",
   "metadata": {
    "jp-MarkdownHeadingCollapsed": true,
    "tags": []
   },
   "source": [
    "# Compare meta-learning models"
   ]
  },
  {
   "cell_type": "code",
   "execution_count": null,
   "id": "11a38478-aec8-4dba-8f12-c17be12a1fc1",
   "metadata": {},
   "outputs": [],
   "source": [
    "from plots import compare_metalearners"
   ]
  },
  {
   "cell_type": "code",
   "execution_count": null,
   "id": "c4932fc9-edcf-4234-803d-76ca0a4a9ecf",
   "metadata": {},
   "outputs": [],
   "source": [
    "compare_metalearners(num_runs=5)"
   ]
  },
  {
   "cell_type": "raw",
   "id": "aa650d7b-4ad6-4d33-ae07-05fd90151267",
   "metadata": {},
   "source": []
  },
  {
   "cell_type": "raw",
   "id": "014a52d8-e0aa-443d-beb6-d9c5dc2a2377",
   "metadata": {},
   "source": [
    "noises = [0.05, 0.1, 0.0]\n",
    "shuffles = [True, False]\n",
    "shuffle_evals = [True, False]\n",
    "num_runs=10\n",
    "NUM_EVAL_TASKS = 1113\n",
    "NUM_TRIALS=96\n",
    "corrects = np.ones(len(noises), len(shuffles), len(shuffle_evals), NUM_EVAL_TASK, NUM_TRIALS)\n",
    "\n",
    "corrects = []\n",
    "for noise in noises:\n",
    "    for shuffle in shuffles:\n",
    "        for shuffle_eval in shuffle_evals:\n",
    "            env_name='/raven/u/ajagadish/vanilla-llama/categorisation/data/claude_generated_tasks_paramsNA_dim3_data100_tasks14000.csv'\n",
    "            model_path=f\"/raven/u/ajagadish/vanilla-llama/categorisation/trained_models/env=claude_generated_tasks_paramsNA_dim3_data100_tasks14000_num_episodes500000_num_hidden=128_lr0.0003_noise{noise}_shuffle{shuffle}_run=0.pt\"\n",
    "            correct = evaluate_metalearner(env_name, model_path, shuffle_trials=shuffle_eval, num_runs=num_runs)\n",
    "            #corrects.append(correct)\n",
    "\n",
    "cc = np.stack(corrects)\n",
    "# plot the error rate over trials\n",
    "f, ax = plt.subplots(1, 1, figsize=(5,5))\n",
    "ax.plot(1-cc.mean(1).T[...,6:], lw=3)\n",
    "ax.set_xlabel('Trial', fontsize=FONTSIZE)\n",
    "ax.set_ylabel('Error rate', fontsize=FONTSIZE)\n",
    "plt.legend([''])\n",
    "plt.xticks(fontsize=FONTSIZE-2)\n",
    "plt.yticks(fontsize=FONTSIZE-2)\n",
    "sns.despine()\n",
    "f.tight_layout()\n",
    "plt.show()"
   ]
  },
  {
   "cell_type": "markdown",
   "id": "b83e9f26-ff52-4892-93a0-fb4099cb5e6f",
   "metadata": {
    "tags": []
   },
   "source": [
    "# Evaluate meta-learner on validation task"
   ]
  },
  {
   "cell_type": "code",
   "execution_count": null,
   "id": "22e5c84f-7607-4d16-9829-adb8e1ce1db9",
   "metadata": {},
   "outputs": [],
   "source": [
    "noise=0.1\n",
    "shuffle=False\n",
    "shuffle_eval=False"
   ]
  },
  {
   "cell_type": "code",
   "execution_count": null,
   "id": "f95352d2-e487-41e0-968f-5ad969e58c79",
   "metadata": {},
   "outputs": [],
   "source": [
    "env_name='/raven/u/ajagadish/vanilla-llama/categorisation/data/claude_generated_tasks_paramsNA_dim3_data100_tasks14000.csv'\n",
    "model_path=f\"/raven/u/ajagadish/vanilla-llama/categorisation/trained_models/env=claude_generated_tasks_paramsNA_dim3_data100_tasks14000_num_episodes500000_num_hidden=128_lr0.0003_noise{noise}_shuffle{shuffle}_run=0.pt\""
   ]
  },
  {
   "cell_type": "markdown",
   "id": "c833cfc5-00f6-4d14-b645-51dc2229b6a3",
   "metadata": {
    "jp-MarkdownHeadingCollapsed": true,
    "tags": []
   },
   "source": [
    "### model and training class distribution in eval"
   ]
  },
  {
   "cell_type": "code",
   "execution_count": null,
   "id": "f43588de-2f78-4e4d-ab30-8e905f52ace8",
   "metadata": {},
   "outputs": [],
   "source": [
    "num_runs=10"
   ]
  },
  {
   "cell_type": "code",
   "execution_count": null,
   "id": "1adaae5a-0d24-4628-b04b-fb03cb6929bb",
   "metadata": {},
   "outputs": [],
   "source": [
    "for run_idx in range(num_runs):\n",
    "    _, model_choices, true_choices, sequences = evaluate_1d(env_name=env_name, \\\n",
    "                      model_path=model_path, \\\n",
    "                      mode='val', return_all=True, shuffle_trials=shuffle_eval)\n",
    "    cum_sum = np.array(sequences).cumsum()\n",
    "    pooled_model_choices = np.ones((num_runs, len(cum_sum), np.diff(cum_sum).max())) if run_idx==0 else pooled_model_choices\n",
    "    pooled_true_choices = np.ones((num_runs, len(cum_sum), np.diff(cum_sum).max())) if run_idx==0 else pooled_true_choices\n",
    "    model_choices = model_choices.round()\n",
    "    for task_idx, seq in enumerate(cum_sum[:-1]):\n",
    "        task_correct = (model_choices==true_choices)[cum_sum[task_idx]:cum_sum[task_idx+1]]\n",
    "        pooled_model_choices[run_idx, task_idx,:(cum_sum[task_idx+1]-cum_sum[task_idx])] = model_choices[cum_sum[task_idx]:cum_sum[task_idx+1]]\n",
    "        pooled_true_choices[run_idx, task_idx,:(cum_sum[task_idx+1]-cum_sum[task_idx])] = true_choices[cum_sum[task_idx]:cum_sum[task_idx+1]]"
   ]
  },
  {
   "cell_type": "code",
   "execution_count": null,
   "id": "e176db49-240b-4bbf-8c35-4f641e3e7e30",
   "metadata": {
    "tags": []
   },
   "outputs": [],
   "source": [
    "plt.figure(figsize=(10,6))\n",
    "plt.plot(pooled_true_choices.mean(0).mean(0)[:50])\n",
    "plt.plot(pooled_model_choices.mean(0).mean(0)[:50])\n",
    "plt.title(\"Class distribution within the dataset\", fontsize=16)\n",
    "plt.xlabel(\"Trial\", fontsize=14)\n",
    "plt.ylabel(\"Mean class\", fontsize=14)\n",
    "plt.show()"
   ]
  },
  {
   "cell_type": "raw",
   "id": "34735f34-4277-4a3c-800b-273e4ddc391c",
   "metadata": {},
   "source": []
  },
  {
   "cell_type": "raw",
   "id": "2c86cbee-8801-40df-aa59-72e5d7f8c10b",
   "metadata": {
    "jupyter": {
     "source_hidden": true
    },
    "tags": []
   },
   "source": [
    "acc = evaluate_1d(env_name='/raven/u/ajagadish/vanilla-llama/categorisation/data/claude_generated_tasks_paramsNA_dim3_data100_tasks14000.csv', \\\n",
    "                  model_path='/raven/u/ajagadish/vanilla-llama/categorisation/trained_models/env=claude_generated_tasks_paramsNA_dim3_data100_tasks14000_num_episodes1000000_num_hidden=128_lr0.0003_run=0.pt', \\\n",
    "                  mode='test', policy='greedy', return_all=True)\n",
    "\n",
    "cum_sum = np.array(acc[3]).cumsum()\n",
    "correct = np.ones((len(cum_sum), np.diff(cum_sum).max()))\n",
    "for idx, seq in enumerate(cum_sum[:-1]):\n",
    "    part = (acc[1].round()==acc[2])[cum_sum[idx]:cum_sum[idx+1]]\n",
    "    correct[idx,:(cum_sum[idx+1]-cum_sum[idx])] = part.numpy()"
   ]
  },
  {
   "cell_type": "markdown",
   "id": "afd35683-1ab4-413e-bc81-b48a1e524338",
   "metadata": {
    "tags": []
   },
   "source": [
    "### evaluate an example model on left-out tasks"
   ]
  },
  {
   "cell_type": "code",
   "execution_count": null,
   "id": "07b1b5bc-9d54-4567-bbe1-a9f90ae3018d",
   "metadata": {},
   "outputs": [],
   "source": [
    "from plots import metalearner_evaluation\n",
    "metalearner_evaluation(env_name, model_path, shuffle_trials=shuffle_eval, num_runs=10)"
   ]
  },
  {
   "cell_type": "raw",
   "id": "5514b73e-7507-4546-aa1f-268dd1ef588c",
   "metadata": {},
   "source": []
  },
  {
   "cell_type": "raw",
   "id": "1373a2d5-983d-468c-b1f9-6e42674617fb",
   "metadata": {},
   "source": []
  },
  {
   "cell_type": "markdown",
   "id": "8b46ce62-9cdf-4195-925e-b2e06049cec8",
   "metadata": {
    "jp-MarkdownHeadingCollapsed": true,
    "tags": []
   },
   "source": [
    "# Evaluate meta-learner on Badham et al. 2017 task"
   ]
  },
  {
   "cell_type": "code",
   "execution_count": null,
   "id": "a9605fe1-e601-4fba-905d-a9fe50be56d7",
   "metadata": {},
   "outputs": [],
   "source": [
    "dat = pd.read_csv('../data/human/exp1.csv')\n",
    "model = torch.load(model_path)[1]\n",
    "dat['shifted_category'] = np.concatenate((np.array([0.]), dat['category'].values[:-1]))\n",
    "participants = dat.participant.unique()\n",
    "conditions = dat.condition.unique()\n",
    "performance = np.zeros((len(conditions), len(participants)))\n",
    "per_trial_performance = np.ones((len(conditions), len(participants), 96))\n",
    "inputs = []\n",
    "for idx1, cond in enumerate(conditions):\n",
    "    for idx2, participant in enumerate(participants):\n",
    "        CONDITION = cond #4\n",
    "        PARTICIPANT = participant #0\n",
    "        ## order of features matched to what llm generated order\n",
    "        inputs = dat[dat.participant==PARTICIPANT][dat.condition==CONDITION][['feature3','feature1','feature2', 'shifted_category']].values #shifted_category\n",
    "        targets = dat[dat.participant==PARTICIPANT][dat.condition==CONDITION]['category'].values\n",
    "\n",
    "        inputs = [torch.from_numpy(inputs)]\n",
    "        packed_inputs = rnn_utils.pad_sequence(inputs, batch_first=True)\n",
    "        sequence_lengths = [len(x) for x in inputs]\n",
    "\n",
    "        with torch.no_grad():\n",
    "            model.eval()\n",
    "            model_choices = model(packed_inputs, sequence_lengths)\n",
    "            true_choices = targets.astype(float)\n",
    "            model_choices = model_choices.view(-1).float().round()\n",
    "            #print(true_choices.shape, model_choices.shape)\n",
    "            per_trial_performance[idx1, idx2, :sequence_lengths[0]] = torch.eq(torch.tensor(true_choices), model_choices)\n",
    "            accuracy = torch.eq(torch.tensor(true_choices), model_choices).sum()/len(model_choices)\n",
    "        performance[idx1, idx2] = accuracy"
   ]
  },
  {
   "cell_type": "raw",
   "id": "09277453-e273-4e3c-980d-2035691d97e5",
   "metadata": {},
   "source": [
    "# task features: size, color, shape\n",
    "# llm features: shape, size, color"
   ]
  },
  {
   "cell_type": "raw",
   "id": "979b56f4-3ca9-4264-b0e8-4b5fb3589059",
   "metadata": {},
   "source": []
  },
  {
   "cell_type": "code",
   "execution_count": null,
   "id": "778f4dfc-3356-4d24-9cb8-3bc323b53f14",
   "metadata": {},
   "outputs": [],
   "source": [
    "plt.figure(figsize=(10,6))\n",
    "plt.bar(conditions,  performance.mean(1), yerr= performance.std(1), tick_label=[\"Type ONE\", \"Type TWO\", \"Type THREE\", \"Type FOUR\"])\n",
    "plt.title(\"Meta-Learner's performance\", fontsize=16)\n",
    "plt.xlabel(\"Task Type\", fontsize=14)\n",
    "plt.ylabel(\"Mean Accuracy\", fontsize=14)\n",
    "plt.show()"
   ]
  },
  {
   "cell_type": "code",
   "execution_count": null,
   "id": "8d81ec9f-cd20-4ca8-a4aa-66341fff4e00",
   "metadata": {},
   "outputs": [],
   "source": [
    "plt.figure(figsize=(5,5))\n",
    "plt.plot(1-per_trial_performance.mean(1).T,  label=[\"Type ONE\", \"Type TWO\", \"Type THREE\", \"Type FOUR\"])\n",
    "plt.title(\"Meta-Learner's performance\", fontsize=16)\n",
    "plt.xlabel(\"Trials\", fontsize=14)\n",
    "plt.ylabel(\"Mean error\", fontsize=14)\n",
    "plt.legend(frameon=False)#, fontsize=14)\n",
    "plt.show()"
   ]
  },
  {
   "cell_type": "raw",
   "id": "aba5d4a2-f35c-445f-8ccb-00c764f1d8d2",
   "metadata": {},
   "source": []
  },
  {
   "cell_type": "raw",
   "id": "d13df005-4e3d-40e4-b2a5-eaa4d66370e0",
   "metadata": {},
   "source": [
    "dat = pd.read_csv('../data/human/exp1.csv')\n",
    "model = torch.load('../trained_models/env=claude_generated_tasks_paramsNA_dim3_data100_tasks1000_num_episodes100000_num_hidden=128_lr0.0003_run=0_test.pt')[1]\n",
    "dat['shifted_category'] = np.concatenate((np.array([0.]), dat['category'].values[:-1]))\n",
    "participants = dat.participant.unique()\n",
    "conditions = dat.condition.unique()\n",
    "performance = np.zeros((len(conditions), len(participants)))\n",
    "input_list,target_list = [], []\n",
    "\n",
    "for idx2, participant in enumerate(participants):\n",
    "    \n",
    "    for idx1, cond in enumerate(conditions):\n",
    "        \n",
    "        CONDITION = cond\n",
    "        PARTICIPANT = participant\n",
    "        inputs = dat[dat.participant==PARTICIPANT][dat.condition==CONDITION][['feature1', 'feature2', 'feature3', 'shifted_category']].values\n",
    "        targets = dat[dat.participant==PARTICIPANT][dat.condition==CONDITION]['category'].values\n",
    "\n",
    "        input_list.append(torch.from_numpy(inputs))\n",
    "        target_list.extend(targets.astype(float))\n",
    "        \n",
    "# packed_inputs = rnn_utils.pad_sequence(inputs, batch_first=True)\n",
    "# sequence_lengths = [len(x) for x in inputs]\n",
    "# #print(sequence_lengths)\n",
    "# with torch.no_grad():\n",
    "#     model.eval()\n",
    "#     model_choices = model(packed_inputs, sequence_lengths)\n",
    "#     true_choices = targets.astype(float)\n",
    "#     model_choices = model_choices.view(-1).float().round()\n",
    "#     accuracy = (model_choices*true_choices).sum()/(model_choices.shape[0])\n",
    "# performance[idx1, idx2] = accuracy\n",
    "# #print(accuracy)\n",
    "\n",
    "packed_inputs = rnn_utils.pad_sequence(input_list, batch_first=True)\n",
    "sequence_lengths = [len(x) for x in input_list]\n",
    "\n",
    "# with torch.no_grad():\n",
    "#     model.eval()\n",
    "#     model_choices = model(packed_inputs, sequence_lengths)\n",
    "    \n",
    "# model_choices = torch.concat([model_choices[i, :seq_len] for i, seq_len in enumerate(sequence_lengths)], axis=0).squeeze().float()\n",
    "# true_choices = torch.tensor(target_list).float()\n",
    "# accuracy = torch.eq(true_choices, model_choices).sum()/len(model_choices)\n",
    "# print(accuracy)"
   ]
  },
  {
   "cell_type": "code",
   "execution_count": null,
   "id": "7d49ed2a-5228-4741-9950-e8078a72cd7c",
   "metadata": {},
   "outputs": [],
   "source": []
  },
  {
   "cell_type": "code",
   "execution_count": null,
   "id": "2297352c-6b61-4920-8133-721428df3d6a",
   "metadata": {},
   "outputs": [],
   "source": []
  }
 ],
 "metadata": {
  "kernelspec": {
   "display_name": "Python 3",
   "language": "python",
   "name": "python3"
  },
  "language_info": {
   "codemirror_mode": {
    "name": "ipython",
    "version": 3
   },
   "file_extension": ".py",
   "mimetype": "text/x-python",
   "name": "python",
   "nbconvert_exporter": "python",
   "pygments_lexer": "ipython3",
   "version": "3.9.7"
  }
 },
 "nbformat": 4,
 "nbformat_minor": 5
}
