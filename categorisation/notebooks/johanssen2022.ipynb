{
 "cells": [
  {
   "cell_type": "code",
   "execution_count": 1,
   "metadata": {},
   "outputs": [],
   "source": [
    "import pandas as pd\n",
    "import matplotlib.pyplot as plt\n",
    "import sys\n",
    "sys.path.append('/u/ajagadish/vanilla-llama/categorisation/')\n",
    "sys.path.append('/u/ajagadish/vanilla-llama/categorisation/data')\n",
    "sys.path.append('/u/ajagadish/vanilla-llama/categorisation/rl2')\n",
    "import torch\n",
    "# from rl2.model import RL2, MetaLearner\n",
    "# from evaluate import evaluate_1d, evaluate_metalearner\n",
    "import torch.nn.utils.rnn as rnn_utils\n",
    "import numpy as np\n",
    "FONTSIZE=20\n",
    "import pandas as pd\n",
    "import seaborn as sns"
   ]
  },
  {
   "cell_type": "code",
   "execution_count": 69,
   "metadata": {},
   "outputs": [
    {
     "name": "stdout",
     "output_type": "stream",
     "text": [
      "best_beta=0.9, best_task_block=32, min_distance=0.2932301711887589\n"
     ]
    }
   ],
   "source": [
    "import json\n",
    "with open('../data/human/johanssen2002.json') as f:\n",
    "    human_data = json.load(f)\n",
    "# human data procesing\n",
    "human_data_dict = {}\n",
    "for i, stimulus_id in enumerate(human_data['x']):\n",
    "    human_data_dict[stimulus_id] = human_data['y'][i]\n",
    "human_data_df = pd.DataFrame.from_dict(human_data_dict, orient='index', columns=['human_choice'])\n",
    "human_data_df['stimulus_id'] = human_data_df.index\n",
    "human_data_df = human_data_df[human_data_df['stimulus_id'].str.contains('T')]\n",
    "human_generalisation = human_data_df['human_choice'].sort_values()\n",
    "\n",
    "num_runs = 1\n",
    "min_distance = np.inf\n",
    "for beta in [0.1, 0.2, 0.3, 0.4, 0.5, 0.6, 0.7, 0.8, 0.9, 1.0]:\n",
    "    data = pd.read_csv(f'../data/meta_learner/johanssen_categorisation__tasks8950_pversion5_stage1_model=transformer_num_episodes500000_num_hidden=256_lr0.0003_num_layers=6_d_model=64_num_head=8_noise0.0_shuffleTrue_run=1_beta={beta}_num_trials=288_num_runs={num_runs}.csv')\n",
    "    transfer_stimulus_ids = data[data['stimulus_id'].str.contains('T')]['stimulus_id']\n",
    "    transfer_data = data[data['stimulus_id'].isin(transfer_stimulus_ids)]\n",
    "    # subselect stimulus_id whose values have letter 'T' in them \n",
    "    transfer_stimulus_ids = data[data['stimulus_id'].str.contains('T')]['stimulus_id']\n",
    "    transfer_data = data[data['stimulus_id'].isin(transfer_stimulus_ids)]\n",
    "    over_blocks = [32] #transfer_data.task_feature.unique()\n",
    "    for task_block in over_blocks:\n",
    "\n",
    "        # choose a subset of the transfer_data dataframe where the task_feature is equal to 1\n",
    "        transfer_data = transfer_data[transfer_data['task_feature'] == task_block]\n",
    "        if transfer_data.shape[0] == 0:\n",
    "            continue\n",
    "        # get the mean choice for each stimulus_id and sort the values in the order of the magnitude of the mean for both the transfer_data and human_data_df\n",
    "        meta_learner_generalisation = (1-transfer_data.groupby('stimulus_id')['choice'].mean())\n",
    "        meta_learner_generalisation = meta_learner_generalisation[human_generalisation.index]\n",
    "\n",
    "        # compute distance between human_generalisation and meta_learner_generalisation\n",
    "        distance = np.linalg.norm(human_generalisation.values - meta_learner_generalisation.values)\n",
    "        if distance < min_distance:\n",
    "            min_distance = distance\n",
    "            best_beta = beta\n",
    "            best_human_generalisation = human_generalisation\n",
    "            best_meta_learner_generalisation = meta_learner_generalisation\n",
    "            best_task_block = task_block   \n",
    "\n",
    "print(f'best_beta={best_beta}, best_task_block={best_task_block}, min_distance={min_distance}')"
   ]
  },
  {
   "cell_type": "code",
   "execution_count": 72,
   "metadata": {},
   "outputs": [
    {
     "data": {
      "image/png": "[encoded data removed]",
      "text/plain": [
       "<Figure size 720x360 with 2 Axes>"
      ]
     },
     "metadata": {
      "needs_background": "light"
     },
     "output_type": "display_data"
    }
   ],
   "source": [
    "# choose  params for ermi simulations\n",
    "beta = 0.9\n",
    "num_runs = 1\n",
    "# chose task block from ERMI to compare with human data\n",
    "task_block = 32\n",
    "\n",
    "data = pd.read_csv(f'../data/meta_learner/johanssen_categorisation__tasks8950_pversion5_stage1_model=transformer_num_episodes500000_num_hidden=256_lr0.0003_num_layers=6_d_model=64_num_head=8_noise0.0_shuffleTrue_run=1_beta={beta}_num_trials=288_num_runs={num_runs}.csv')\n",
    "transfer_stimulus_ids = data[data['stimulus_id'].str.contains('T')]['stimulus_id']\n",
    "transfer_data = data[data['stimulus_id'].isin(transfer_stimulus_ids)]\n",
    "import json\n",
    "with open('../data/human/johanssen2002.json') as f:\n",
    "    human_data = json.load(f)\n",
    "\n",
    "# subselect stimulus_id whose values have letter 'T' in them \n",
    "transfer_stimulus_ids = data[data['stimulus_id'].str.contains('T')]['stimulus_id']\n",
    "transfer_data = data[data['stimulus_id'].isin(transfer_stimulus_ids)]\n",
    "# choose a subset of the transfer_data dataframe where the task_feature is equal to 1\n",
    "transfer_data = transfer_data[transfer_data['task_feature'] == task_block]\n",
    "\n",
    "# human data procesing\n",
    "human_data_dict = {}\n",
    "for i, stimulus_id in enumerate(human_data['x']):\n",
    "    human_data_dict[stimulus_id] = human_data['y'][i]\n",
    "human_data_df = pd.DataFrame.from_dict(human_data_dict, orient='index', columns=['human_choice'])\n",
    "human_data_df['stimulus_id'] = human_data_df.index\n",
    "human_data_df = human_data_df[human_data_df['stimulus_id'].str.contains('T')]\n",
    "\n",
    "# get the mean choice for each stimulus_id and sort the values in the order of the magnitude of the mean for both the transfer_data and human_data_df\n",
    "human_generalisation = human_data_df['human_choice'].sort_values()\n",
    "meta_learner_generalisation = (1-transfer_data.groupby('stimulus_id')['choice'].mean())\n",
    "# keep the same order of the stimulus_ids for both human_generalisation and meta_learner_generalisation\n",
    "meta_learner_generalisation = meta_learner_generalisation[human_generalisation.index]\n",
    "\n",
    "# compare the meta_learner_generalisation with human_generalisation in two subplots side by side\n",
    "fig, ax = plt.subplots(1, 2, figsize=(10, 5))\n",
    "# plot the human_generalisation in the left subplot\n",
    "human_generalisation.plot(kind='bar', ax=ax[0], color='#8b9da7', width=0.8)\n",
    "# plot the meta_learner_generalisation in the right subplot\n",
    "meta_learner_generalisation.plot(kind='bar', ax=ax[1], color='#173b4f', width=0.8)\n",
    "# set the x-ticks for both subplots\n",
    "ax[0].set_xticks(np.arange(human_generalisation.shape[0]))\n",
    "ax[1].set_xticks(np.arange(meta_learner_generalisation.shape[0]))\n",
    "# set the x-tick labels for both subplots\n",
    "ax[0].set_xticklabels(human_generalisation.index, rotation=0)\n",
    "ax[1].set_xticklabels(meta_learner_generalisation.index, rotation=0)\n",
    "# set the y-ticks for both subplotsand only keep alternating y-tick labels\n",
    "y_ticks = np.round(np.arange(0, 1.1, 0.1)[::2],1)\n",
    "ax[0].set_yticks(y_ticks)\n",
    "ax[1].set_yticks(y_ticks)\n",
    "ax[0].set_yticklabels(y_ticks)\n",
    "ax[1].set_yticklabels(y_ticks)\n",
    "# set the x-label for both subplots\n",
    "ax[0].set_xlabel('Generalization stimulus', fontsize=FONTSIZE)\n",
    "# ax[1].set_xlabel('Generalization stimulus', fontsize=FONTSIZE)\n",
    "# set the y-label for both subplots\n",
    "ax[0].set_ylabel('p(A)', fontsize=FONTSIZE)\n",
    "# set the title for both subplots\n",
    "# ax[0].set_title('Human', fontsize=FONTSIZE)\n",
    "# ax[1].set_title('ERMI', fontsize=FONTSIZE)\n",
    "# set the fontsize for both subplots\n",
    "ax[0].tick_params(axis='both', which='major', labelsize=FONTSIZE)\n",
    "ax[1].tick_params(axis='both', which='major', labelsize=FONTSIZE)\n",
    "# set the ylim for both subplots\n",
    "ax[0].set_ylim([0, 1.0])\n",
    "ax[1].set_ylim([0, 1.0])\n",
    "# draw a horizontal line at y=0.5\n",
    "ax[0].axhline(y=0.5, linestyle='--', color='black')\n",
    "ax[1].axhline(y=0.5, linestyle='--', color='black')\n",
    "plt.tight_layout()\n",
    "sns.despine()\n",
    "plt.show()\n"
   ]
  }
 ],
 "metadata": {
  "kernelspec": {
   "display_name": "Python 3",
   "language": "python",
   "name": "python3"
  },
  "language_info": {
   "codemirror_mode": {
    "name": "ipython",
    "version": 3
   },
   "file_extension": ".py",
   "mimetype": "text/x-python",
   "name": "python",
   "nbconvert_exporter": "python",
   "pygments_lexer": "ipython3",
   "version": "3.9.13"
  }
 },
 "nbformat": 4,
 "nbformat_minor": 2
}
