{
 "cells": [
  {
   "cell_type": "code",
   "execution_count": 1,
   "id": "e66f6439-09fc-498a-bb7b-6dd78572fcc1",
   "metadata": {
    "tags": []
   },
   "outputs": [],
   "source": [
    "import sys\n",
    "sys.path.append('/raven/u/ajagadish/vanilla-llama/categorisation/')\n",
    "import pandas as pd\n",
    "import numpy as np\n",
    "import matplotlib.pyplot as plt\n",
    "import seaborn as sns\n",
    "import torch\n",
    "FONTSIZE=20"
   ]
  },
  {
   "cell_type": "code",
   "execution_count": 2,
   "id": "4280ab5b-ce64-4594-86df-55998a3c1248",
   "metadata": {
    "jupyter": {
     "source_hidden": true
    },
    "tags": []
   },
   "outputs": [],
   "source": [
    "# set plotting parameters\n",
    "COLORS = {'a':'#117733', \n",
    "          'b':'#96CAA7',\n",
    "          'lr':'#88CCEE',#882255\n",
    "          'svm':'#CC6677',\n",
    "          'optimal': '#D6BF4D',\n",
    "          'feature_1':'#882255', #332288\n",
    "          'people':'#882255', #AA4499',\n",
    "          'stats':'#44AA99', \n",
    "          'feature_2':'#44AA99',\n",
    "          'simple_grammar_constrained_noncompositonal':'#EF9EBB',\n",
    "          'feature_3':'#E2C294', #'#0571D0', \n",
    "          'metal':'#DA9138', #\"#D55E00\", \n",
    "          'people2': '#748995',\n",
    "          'metal2': '#173b4f'\n",
    "          }\n",
    "FONTSIZE=20"
   ]
  },
  {
   "cell_type": "raw",
   "id": "b3e28b7d-734d-465f-9711-3a732c976502",
   "metadata": {},
   "source": []
  },
  {
   "cell_type": "code",
   "execution_count": 3,
   "id": "8b0f94ac-d14b-4e5b-9e84-8ede53226a88",
   "metadata": {},
   "outputs": [],
   "source": [
    "data = pd.read_csv('../data/human/badham2017deficits.csv')"
   ]
  },
  {
   "cell_type": "code",
   "execution_count": 23,
   "id": "6a5eefbe-2381-4f30-b3ec-c35fdfc06638",
   "metadata": {},
   "outputs": [],
   "source": [
    "participant = 0\n",
    "task_type = 1\n",
    "categories = {'j': 0, 'f': 1}"
   ]
  },
  {
   "cell_type": "code",
   "execution_count": 19,
   "id": "39f784e6-3f1d-44e1-b205-973189a84c24",
   "metadata": {},
   "outputs": [],
   "source": [
    "data_participant = data[data['participant']==participant]"
   ]
  },
  {
   "cell_type": "code",
   "execution_count": 24,
   "id": "bf9383dc-aa1d-4eec-b894-2374a236d75d",
   "metadata": {},
   "outputs": [],
   "source": [
    "choices = data_participant[data_participant.condition==task_type].choice"
   ]
  },
  {
   "cell_type": "code",
   "execution_count": 25,
   "id": "339fde31-fe50-4e3c-b79f-e2a678ea7fca",
   "metadata": {},
   "outputs": [],
   "source": [
    "targets = np.array([1. if choice=='j' else 0. for choice in choices])"
   ]
  },
  {
   "cell_type": "code",
   "execution_count": 26,
   "id": "71947fbd-ca09-458c-9b75-ffd26310474e",
   "metadata": {},
   "outputs": [
    {
     "data": {
      "text/plain": [
       "array([1., 1., 0., 0., 0., 1., 0., 0., 0., 0., 1., 1., 0., 1., 1., 0., 0.,\n",
       "       0., 1., 1., 0., 1., 0., 0., 0., 1., 0., 1., 1., 1., 0., 1., 0., 1.,\n",
       "       1., 0., 1., 0., 0., 0., 0., 1., 1., 1., 1., 0., 0., 0., 1., 1., 0.,\n",
       "       0., 1., 0., 1., 1., 1., 1., 0., 1., 0., 0., 0., 0., 1., 1., 1., 1.,\n",
       "       0., 0., 0., 0., 1., 0., 0., 0., 1., 0., 0., 1., 0., 1., 0., 1., 1.,\n",
       "       1., 1., 1., 0., 1., 1., 0., 0., 0., 0., 0.])"
      ]
     },
     "execution_count": 26,
     "metadata": {},
     "output_type": "execute_result"
    }
   ],
   "source": [
    "targets"
   ]
  },
  {
   "cell_type": "code",
   "execution_count": 21,
   "id": "63ef6d9c-63e0-4d46-88fa-f0bf48ee06bc",
   "metadata": {},
   "outputs": [],
   "source": [
    "input_features = [eval(val) for val in data_participant[data_participant.condition==task_type].all_features.values]"
   ]
  },
  {
   "cell_type": "code",
   "execution_count": null,
   "id": "5c6bf2a0-69e9-4035-aaf6-a03da5c7c3ce",
   "metadata": {},
   "outputs": [],
   "source": [
    "choice = categories[df_trial.choice.item()] if df_trial.choice.item() in categories else df_trial.choice.item()\n",
    "true_choice = categories[df_trial.correct_choice.item()] if df_trial.correct_choice.item() in categories else df_trial.correct_choice.item()\n",
    "  "
   ]
  }
 ],
 "metadata": {
  "kernelspec": {
   "display_name": "Python 3 (ipykernel)",
   "language": "python",
   "name": "python3"
  },
  "language_info": {
   "codemirror_mode": {
    "name": "ipython",
    "version": 3
   },
   "file_extension": ".py",
   "mimetype": "text/x-python",
   "name": "python",
   "nbconvert_exporter": "python",
   "pygments_lexer": "ipython3",
   "version": "3.9.7"
  }
 },
 "nbformat": 4,
 "nbformat_minor": 5
}
