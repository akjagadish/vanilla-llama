{
 "cells": [
  {
   "cell_type": "code",
   "execution_count": 1,
   "id": "e66f6439-09fc-498a-bb7b-6dd78572fcc1",
   "metadata": {
    "tags": []
   },
   "outputs": [],
   "source": [
    "import sys\n",
    "sys.path.append('/raven/u/ajagadish/vanilla-llama/categorisation/')\n",
    "import pandas as pd\n",
    "import numpy as np\n",
    "import matplotlib.pyplot as plt\n",
    "import seaborn as sns\n",
    "import torch\n",
    "FONTSIZE=15"
   ]
  },
  {
   "cell_type": "code",
   "execution_count": 2,
   "id": "4280ab5b-ce64-4594-86df-55998a3c1248",
   "metadata": {
    "tags": []
   },
   "outputs": [],
   "source": [
    "# set plotting parameters\n",
    "COLORS = {'a':'#117733', \n",
    "          'b':'#96CAA7',\n",
    "          'lr':'#88CCEE',#882255\n",
    "          'svm':'#CC6677',\n",
    "          'optimal': '#D6BF4D',\n",
    "          'feature_1':'#882255', #332288\n",
    "          'people':'#882255', #AA4499',\n",
    "          'stats':'#44AA99', \n",
    "          'feature_2':'#44AA99',\n",
    "          'simple_grammar_constrained_noncompositonal':'#EF9EBB',\n",
    "          'feature_3':'#E2C294', #'#0571D0', \n",
    "          'metal':'#DA9138', #\"#D55E00\", \n",
    "          'people2': '#748995',\n",
    "          'metal2': '#173b4f',\n",
    "          }\n",
    "FONTSIZE=16"
   ]
  },
  {
   "cell_type": "raw",
   "id": "b3e28b7d-734d-465f-9711-3a732c976502",
   "metadata": {},
   "source": []
  },
  {
   "cell_type": "markdown",
   "id": "b0005928-3e4d-43e1-9c1c-3a45afec7850",
   "metadata": {
    "jp-MarkdownHeadingCollapsed": true,
    "tags": []
   },
   "source": [
    "## grid_search: beta sweep, epsilon sweep"
   ]
  },
  {
   "cell_type": "code",
   "execution_count": null,
   "id": "1cf27045-52d4-44f4-9264-79d4b02b9f90",
   "metadata": {},
   "outputs": [
    {
     "data": {
      "text/plain": [
       "array([384.5369873 , 426.97872925, 296.60321045, 373.74916598,\n",
       "       316.81884766])"
      ]
     },
     "execution_count": 61,
     "metadata": {},
     "output_type": "execute_result"
    }
   ],
   "source": [
    "aa.min(0)[[1, 4, 8, 9, 10,]]"
   ]
  },
  {
   "cell_type": "code",
   "execution_count": null,
   "id": "93950c80-ba65-4e08-955d-15fadeeb11a2",
   "metadata": {},
   "outputs": [
    {
     "data": {
      "text/plain": [
       "array([386.44012, 427.0993 , 305.6636 , 384.58878, 314.12183],\n",
       "      dtype=float32)"
      ]
     },
     "execution_count": 63,
     "metadata": {},
     "output_type": "execute_result"
    }
   ],
   "source": [
    "aa.min(0)[[1, 4, 8, 9, 10,]]"
   ]
  },
  {
   "cell_type": "code",
   "execution_count": null,
   "id": "d136c492-29a4-4fb2-ad54-63443c935a35",
   "metadata": {},
   "outputs": [],
   "source": [
    "### optimizer: both, beta, epsgreedy,"
   ]
  },
  {
   "cell_type": "code",
   "execution_count": null,
   "id": "73dd8f3c-1c22-40eb-85c6-e2f713ba409a",
   "metadata": {},
   "outputs": [],
   "source": [
    "min nll and parameter: (378.1149597167969, array([0.27040436, 0.10773765]))\n",
    "100%|███████████████████████████████████████████████████████████████████████████████████████████████████████████████████████████████████████████████████████████████████████████| 1/1 [00:24<00:00, 24.52s/it]\n",
    "  0%|                                                                                                                                                                                   | 0/1 [00:00<?, ?it/s]\n",
    "    min nll and parameter: (426.8493347167969, array([0.981557  , 0.93421689]))\n",
    "100%|███████████████████████████████████████████████████████████████████████████████████████████████████████████████████████████████████████████████████████████████████████████| 1/1 [00:23<00:00, 23.65s/it]\n",
    "  0%|                                                                                                                                                                                   | 0/1 [00:00<?, ?it/s]\n",
    "    min nll and parameter: (280.20550537109375, array([0.00565656, 0.14637665]))\n",
    "100%|███████████████████████████████████████████████████████████████████████████████████████████████████████████████████████████████████████████████████████████████████████████| 1/1 [00:51<00:00, 51.82s/it]\n",
    "  0%|                                                                                                                                                                                   | 0/1 [00:00<?, ?it/s]\n",
    "    min nll and parameter: (367.2142333984375, array([0.04937384, 0.09254209]))\n",
    "100%|███████████████████████████████████████████████████████████████████████████████████████████████████████████████████████████████████████████████████████████████████████████| 1/1 [00:36<00:00, 36.18s/it]\n",
    "  0%|                                                                                                                                                                                   | 0/1 [00:00<?, ?it/s]\n",
    "    min nll and parameter: (304.7475891113281, array([0.07942565, 0.154848  ]))"
   ]
  },
  {
   "cell_type": "code",
   "execution_count": null,
   "id": "a268f221-f70f-41b9-9cde-a778c37d5149",
   "metadata": {},
   "outputs": [],
   "source": [
    "  0%|                                                                                                                                                                                   | 0/1 [00:00<?, ?it/s]\n",
    "    min nll and parameter: (377.52493119239807, array([0.07530501]))\n",
    "100%|███████████████████████████████████████████████████████████████████████████████████████████████████████████████████████████████████████████████████████████████████████████| 1/1 [00:07<00:00,  7.52s/it]\n",
    "  0%|                                                                                                                                                                                   | 0/1 [00:00<?, ?it/s]\n",
    "    min nll and parameter: (426.97808837890625, array([0.0003042]))\n",
    "100%|███████████████████████████████████████████████████████████████████████████████████████████████████████████████████████████████████████████████████████████████████████████| 1/1 [00:12<00:00, 12.95s/it]\n",
    "  0%|                                                                                                                                                                                   | 0/1 [00:00<?, ?it/s]\n",
    "    min nll and parameter: (279.6707067936659, array([0.1459953]))\n",
    "100%|███████████████████████████████████████████████████████████████████████████████████████████████████████████████████████████████████████████████████████████████████████████| 1/1 [00:20<00:00, 20.72s/it]\n",
    "  0%|                                                                                                                                                                                   | 0/1 [00:00<?, ?it/s]\n",
    "    min nll and parameter: (367.0121031999588, array([0.08658644]))\n",
    "100%|███████████████████████████████████████████████████████████████████████████████████████████████████████████████████████████████████████████████████████████████████████████| 1/1 [00:12<00:00, 12.12s/it]\n",
    "  0%|                                                                                                                                                                                   | 0/1 [00:00<?, ?it/s]\n",
    "    min nll and parameter: (304.3959814161062, array([0.12927252]))"
   ]
  },
  {
   "cell_type": "code",
   "execution_count": null,
   "id": "18a79f02-f37e-4ed9-a87d-d3e2367b1543",
   "metadata": {},
   "outputs": [],
   "source": [
    "min nll and parameter: (386.35345458984375, array([0.64014322]))\n",
    "100%|███████████████████████████████████████████████████████████████████████████████████████████████████████████████████████████████████████████████████████████████████████████| 1/1 [00:05<00:00,  5.11s/it]\n",
    "  0%|                                                                                                                                                                                   | 0/1 [00:00<?, ?it/s]\n",
    "    min nll and parameter: (426.8365478515625, array([0.98001848]))\n",
    "100%|███████████████████████████████████████████████████████████████████████████████████████████████████████████████████████████████████████████████████████████████████████████| 1/1 [00:09<00:00,  9.83s/it]\n",
    "  0%|                                                                                                                                                                                   | 0/1 [00:00<?, ?it/s]\n",
    "    min nll and parameter: (305.6806640625, array([0.36459244]))\n",
    "100%|███████████████████████████████████████████████████████████████████████████████████████████████████████████████████████████████████████████████████████████████████████████| 1/1 [00:11<00:00, 11.03s/it]\n",
    "  0%|                                                                                                                                                                                   | 0/1 [00:00<?, ?it/s]\n",
    "    min nll and parameter: (384.52374267578125, array([0.64556632]))\n",
    "100%|███████████████████████████████████████████████████████████████████████████████████████████████████████████████████████████████████████████████████████████████████████████| 1/1 [00:08<00:00,  8.65s/it]\n",
    "  0%|                                                                                                                                                                                   | 0/1 [00:00<?, ?it/s]m\n",
    "    in nll and parameter: (313.13037, array([0.40134269]))"
   ]
  },
  {
   "cell_type": "markdown",
   "id": "9ee4b649-8509-47d1-9672-0f5ce5c2ba2b",
   "metadata": {
    "jp-MarkdownHeadingCollapsed": true,
    "tags": []
   },
   "source": [
    "## devraj 2022\n",
    "\n"
   ]
  },
  {
   "cell_type": "code",
   "execution_count": 5,
   "id": "47e344e9-d664-4768-8783-9c139ab3ad50",
   "metadata": {
    "tags": []
   },
   "outputs": [
    {
     "data": {
      "image/png": "[encoded data removed]",
      "text/plain": [
       "<Figure size 360x360 with 1 Axes>"
      ]
     },
     "metadata": {
      "needs_background": "light"
     },
     "output_type": "display_data"
    },
    {
     "data": {
      "image/png": "[encoded data removed]",
      "text/plain": [
       "<Figure size 360x360 with 1 Axes>"
      ]
     },
     "metadata": {
      "needs_background": "light"
     },
     "output_type": "display_data"
    },
    {
     "data": {
      "image/png": "[encoded data removed]",
      "text/plain": [
       "<Figure size 360x360 with 1 Axes>"
      ]
     },
     "metadata": {
      "needs_background": "light"
     },
     "output_type": "display_data"
    }
   ],
   "source": [
    "models = ['devraj2022_env=claude_generated_tasks_paramsNA_dim6_data500_tasks12910_pversion5_stage2_model=transformer_num_episodes500000_num_hidden=256_lr0.0003_num_layers=6_d_model=64_num_head=8_noise0.0_shuffleTrue_run=1_soft_sigmoid_differential_evolution', \\\n",
    "         'devraj2022_env=dim6synthetic_model=transformer_num_episodes500000_num_hidden=256_lr0.0003_num_layers=6_d_model=64_num_head=8_noise0.0_shuffleTrue_run=2_synthetic_soft_sigmoid_differential_evolution', \\\n",
    "          'devraj2022_env=dim6synthetic_model=transformer_num_episodes500000_num_hidden=256_lr0.0003_num_layers=6_d_model=64_num_head=8_noise0.0_shuffleTrue_run=2_syntheticnonlinear_soft_sigmoid_differential_evolution',\\\n",
    "          'devraj2022_gcm_runs=1_iters=1_blocks=1_loss=nll',\\\n",
    "          'devraj2022_pm_runs=1_iters=1_blocks=1_loss=nll',\\\n",
    "          'devraj2022_rulex_runs=1_iters=1_blocks=1_loss=nll_exception=True', \\\n",
    "          'devraj2022_rulex_runs=1_iters=1_blocks=1_loss=nll_exception=False', \n",
    "         ]\n",
    "        \n",
    "# models = [model + \"_true\" for model in models]\n",
    "# models = [model + \"_random\" for model in models]\n",
    "\n",
    "nlls,fitted_betas, r2s = [], [], []\n",
    "model_accs = []\n",
    "bics = []\n",
    "num_trials = 616\n",
    "num_tasks = 1\n",
    "\n",
    "for model_name in models:\n",
    "    fits =  np.load(f'../data/model_comparison/{model_name}.npz')\n",
    "    if 'model=transformer' in model_name:\n",
    "        betas, pnlls, pr2s = fits['betas'], fits['nlls'], fits['pr2s']\n",
    "        model_accs.append(fits['accs'].max(0).mean())\n",
    "        nlls_min_nlls = np.array(pnlls).squeeze()\n",
    "        pr2s_min_nll = np.array(pr2s).squeeze()\n",
    "        fitted_betas.append(betas)\n",
    "        ## CHANGED HERE for diff evolution\n",
    "        # pr2s = np.array(pr2s)\n",
    "        # min_nll_index = np.argmin(np.stack(pnlls), 0)\n",
    "        # pr2s_min_nll = np.stack([pr2s[min_nll_index[idx], idx] for idx in range(pr2s.shape[1])])\n",
    "        # nlls_min_nlls = np.stack([pnlls[min_nll_index[idx], idx] for idx in range(pnlls.shape[1])])\n",
    "        # fitted_betas.append(betas[min_nll_index])\n",
    "        bic = np.array(nlls_min_nlls)*2 + np.log(num_trials)*1\n",
    "    elif ('gcm' in model_name) or ('pm' in model_name):\n",
    "        betas, pnlls, pr2s = fits['params'], fits['lls'], fits['r2s']\n",
    "        nlls_min_nlls = np.array(pnlls).squeeze()\n",
    "        pr2s_min_nll = np.array(pr2s).squeeze()\n",
    "        ## CHANGED HERE to fix parameters for badham task which has 4 conditions\n",
    "        num_parameters = 8*num_tasks \n",
    "        bic = np.array(nlls_min_nlls)*2 + np.log(num_trials)*num_parameters\n",
    "        fitted_betas.append(betas.squeeze()[:, 1])\n",
    "    elif ('rulex' in model_name):\n",
    "        betas, pnlls, pr2s = fits['params'], fits['lls'], fits['r2s']\n",
    "        nlls_min_nlls = np.array(pnlls).squeeze()\n",
    "        pr2s_min_nll = np.array(pr2s).squeeze()\n",
    "        num_parameters = 2*num_tasks\n",
    "        bic = np.array(nlls_min_nlls)*2 + np.log(num_trials)*num_parameters\n",
    "\n",
    "    nlls.append(nlls_min_nlls)\n",
    "    r2s.append(pr2s_min_nll)\n",
    "    bics.append(bic)\n",
    "\n",
    "num_participants = len(nlls[0])\n",
    "MODELS = ['LLM', 'Linear', 'N-linear', 'GCM', 'PM', 'Rulex', 'Rule']\n",
    "MODELS = MODELS[:len(nlls)]\n",
    "# set colors depending on number of models in MODELS\n",
    "colors = ['#173b4f', '#8b9da7', '#5d7684', '#2f4a5a', '#0d2c3d', '#4d6a75', '#748995']\n",
    "# compare mean nlls across models in a bar plot\n",
    "f, ax = plt.subplots(1, 1, figsize=(5,5))\n",
    "bar_positions = np.arange(len(nlls))*0.5\n",
    "ax.bar(bar_positions, np.array(nlls).mean(1), color=colors, width=0.4)\n",
    "ax.errorbar(bar_positions, np.array(nlls).mean(1), yerr=np.array(nlls).std(1)/np.sqrt(num_participants-1), c='k', lw=3, fmt=\"o\")\n",
    "# add chance level line for 616 trials with binary choices\n",
    "ax.axhline(y=-np.log(0.5)*num_trials, color='k', linestyle='--', lw=3)\n",
    "ax.set_xlabel('Meta-learner trained on', fontsize=FONTSIZE)\n",
    "ax.set_ylabel('NLL', fontsize=FONTSIZE)\n",
    "ax.set_xticks(bar_positions)  # Set x-tick positions to bar_positions\n",
    "ax.set_xticklabels(MODELS, fontsize=FONTSIZE-5)  # Assign category names to x-tick labels\n",
    "ax.set_title(f'Model comparison for Devraj et al. (2022)', fontsize=FONTSIZE)\n",
    "# plt.xticks(fontsize=FONTSIZE-2)\n",
    "plt.yticks(fontsize=FONTSIZE-2)\n",
    "sns.despine()\n",
    "f.tight_layout()\n",
    "plt.show()\n",
    "\n",
    "# compare mean bics across models in a bar plot\n",
    "f, ax = plt.subplots(1, 1, figsize=(5,5))\n",
    "bar_positions = np.arange(len(bics))*0.5\n",
    "ax.bar(bar_positions, np.array(bics).mean(1), color=colors, width=0.4)\n",
    "ax.errorbar(bar_positions, np.array(bics).mean(1), yerr=np.array(bics).std(1)/np.sqrt(num_participants-1), c='k', lw=3, fmt=\"o\")\n",
    "# add chance level line for 616 trials with binary choices\n",
    "ax.axhline(y=-np.log(0.5)*num_trials*2, color='k', linestyle='--', lw=3)\n",
    "ax.set_xlabel('Meta-learner trained on', fontsize=FONTSIZE)\n",
    "ax.set_ylabel('BIC', fontsize=FONTSIZE)\n",
    "ax.set_xticks(bar_positions)  # Set x-tick positions to bar_positions\n",
    "ax.set_xticklabels(MODELS, fontsize=FONTSIZE-5)  # Assign category names to x-tick labels\n",
    "ax.set_title(f'Model comparison for Devraj et al. (2022)', fontsize=FONTSIZE)\n",
    "# plt.xticks(fontsize=FONTSIZE-2)\n",
    "plt.yticks(fontsize=FONTSIZE-2)\n",
    "sns.despine()\n",
    "f.tight_layout()\n",
    "plt.show()\n",
    "\n",
    "num_participants = len(nlls[0])\n",
    "# compare mean r2s across models in a bar plot\n",
    "f, ax = plt.subplots(1, 1, figsize=(5,5))\n",
    "bar_positions = np.arange(len(r2s))*0.5\n",
    "ax.bar(bar_positions, np.array(r2s).mean(1), color=colors, width=0.4)\n",
    "ax.errorbar(bar_positions, np.array(r2s).mean(1), yerr=np.array(r2s).std(1)/np.sqrt(num_participants-1), c='k', lw=3, fmt=\"o\")\n",
    "ax.set_xlabel('Meta-learner trained on', fontsize=FONTSIZE)\n",
    "ax.set_ylabel('R2', fontsize=FONTSIZE)\n",
    "ax.set_xticks(bar_positions)  # Set x-tick positions to bar_positions\n",
    "ax.set_xticklabels(MODELS, fontsize=FONTSIZE-5)  # Assign category names to x-tick labels\n",
    "ax.set_title(f'Model comparison for Devraj et al. (2022)', fontsize=FONTSIZE)\n",
    "plt.yticks(fontsize=FONTSIZE-2)\n",
    "sns.despine()\n",
    "f.tight_layout()\n",
    "plt.show()"
   ]
  },
  {
   "cell_type": "code",
   "execution_count": 10,
   "id": "bc4a6945-4c19-4d0c-acf7-ef99ba533871",
   "metadata": {},
   "outputs": [
    {
     "data": {
      "text/plain": [
       "0.07805927339282895"
      ]
     },
     "execution_count": 10,
     "metadata": {},
     "output_type": "execute_result"
    }
   ],
   "source": [
    "np.median(fits['betas'])"
   ]
  },
  {
   "cell_type": "code",
   "execution_count": null,
   "id": "e7262ec0-d03c-46cc-9975-7b0c78389137",
   "metadata": {},
   "outputs": [
    {
     "data": {
      "text/plain": [
       "0.09495665880995116"
      ]
     },
     "execution_count": 11,
     "metadata": {},
     "output_type": "execute_result"
    }
   ],
   "source": [
    "fits['betas'].mean()"
   ]
  },
  {
   "cell_type": "code",
   "execution_count": null,
   "id": "82205d56-94d1-4f6b-8ad8-3666adae31aa",
   "metadata": {},
   "outputs": [],
   "source": []
  },
  {
   "cell_type": "markdown",
   "id": "c3019000-5d10-478f-af18-0bb20987690f",
   "metadata": {
    "jp-MarkdownHeadingCollapsed": true,
    "tags": []
   },
   "source": [
    "#### overfitting to true or randomm"
   ]
  },
  {
   "cell_type": "raw",
   "id": "67ea8f3a-e347-4ac7-b47a-3199572dd5b8",
   "metadata": {
    "tags": []
   },
   "source": [
    "models = ['devraj2022_env=claude_generated_tasks_paramsNA_dim6_data500_tasks12910_pversion5_stage2_model=transformer_num_episodes500000_num_hidden=256_lr0.0003_num_layers=6_d_model=64_num_head=8_noise0.0_shuffleTrue_run=1_eps_greedy', \\\n",
    "          'devraj2022_env=dim6synthetic_model=transformer_num_episodes500000_num_hidden=256_lr0.0003_num_layers=6_d_model=64_num_head=8_noise0.0_shuffleTrue_run=0_synthetic_eps_greedy', \\\n",
    "          'devraj2022_env=dim6synthetic_model=transformer_num_episodes500000_num_hidden=256_lr0.0003_num_layers=6_d_model=64_num_head=8_noise0.0_shuffleTrue_run=0_syntheticnonlinear_eps_greedy',\\\n",
    "          'devraj2022_gcm_runs=1_iters=1_blocks=1_loss=nll',\n",
    "          'devraj2022_pm_runs=1_iters=1_blocks=1_loss=nll',\n",
    "         ]\n",
    "        \n",
    "#models = [model + \"_true\" for model in models]\n",
    "models = [model + \"_random\" for model in models]\n",
    "\n",
    "nlls,fitted_betas, r2s = [], [], []\n",
    "model_accs = []\n",
    "bics = []\n",
    "num_trials = 616\n",
    "num_tasks = 1\n",
    "\n",
    "for model_name in models:\n",
    "    fits =  np.load(f'../data/model_comparison/{model_name}.npz')\n",
    "    if 'model=transformer' in model_name:\n",
    "        betas, pnlls, pr2s = fits['betas'], fits['nlls'], fits['pr2s']\n",
    "        model_accs.append(fits['accs'].max(0).mean())\n",
    "        pr2s = np.array(pr2s)\n",
    "        min_nll_index = np.argmin(np.stack(pnlls), 0)\n",
    "        aa = pnlls\n",
    "        pr2s_min_nll = np.stack([pr2s[min_nll_index[idx], idx] for idx in range(pr2s.shape[1])])\n",
    "        nlls_min_nlls = np.stack([pnlls[min_nll_index[idx], idx] for idx in range(pnlls.shape[1])])\n",
    "        fitted_betas.append(betas[min_nll_index])\n",
    "        bic = np.array(nlls_min_nlls)*2 + np.log(num_trials)*1\n",
    "    elif ('gcm' in model_name) or ('pm' in model_name):\n",
    "        betas, pnlls, pr2s = fits['params'], fits['lls'], fits['r2s']\n",
    "        nlls_min_nlls = np.array(pnlls).squeeze()\n",
    "        pr2s_min_nll = np.array(pr2s).squeeze()\n",
    "        ## CHANGED HERE\n",
    "        num_parameters = 8*num_tasks \n",
    "        bic = np.array(nlls_min_nlls)*2 + np.log(num_trials)*num_parameters\n",
    "        fitted_betas.append(betas.squeeze()[:, 1])\n",
    "    elif ('rulex' in model_name):\n",
    "        betas, pnlls, pr2s = fits['params'], fits['lls'], fits['r2s']\n",
    "        nlls_min_nlls = np.array(pnlls).squeeze()\n",
    "        pr2s_min_nll = np.array(pr2s).squeeze()\n",
    "        num_parameters = 2*num_tasks\n",
    "        bic = np.array(nlls_min_nlls)*2 + np.log(num_trials)*num_parameters\n",
    "\n",
    "    nlls.append(nlls_min_nlls)\n",
    "    r2s.append(pr2s_min_nll)\n",
    "    bics.append(bic)\n",
    "\n",
    "num_participants = len(nlls[0])\n",
    "MODELS = ['LLM', 'Linear', 'N-linear', 'GCM', 'PM', 'Rulex', 'Rule']\n",
    "MODELS = MODELS[:len(nlls)]\n",
    "# set colors depending on number of models in MODELS\n",
    "colors = ['#173b4f', '#8b9da7', '#5d7684', '#2f4a5a', '#0d2c3d', '#4d6a75', '#748995']\n",
    "# compare mean nlls across models in a bar plot\n",
    "f, ax = plt.subplots(1, 1, figsize=(5,5))\n",
    "bar_positions = np.arange(len(nlls))*0.5\n",
    "ax.bar(bar_positions, np.array(nlls).mean(1), color=colors, width=0.4)\n",
    "ax.errorbar(bar_positions, np.array(nlls).mean(1), yerr=np.array(nlls).std(1)/np.sqrt(num_participants-1), c='k', lw=3, fmt=\"o\")\n",
    "# add chance level line for 616 trials with binary choices\n",
    "ax.axhline(y=-np.log(0.5)*num_trials, color='k', linestyle='--', lw=3)\n",
    "ax.set_xlabel('Meta-learner trained on', fontsize=FONTSIZE)\n",
    "ax.set_ylabel('NLL', fontsize=FONTSIZE)\n",
    "ax.set_xticks(bar_positions)  # Set x-tick positions to bar_positions\n",
    "ax.set_xticklabels(MODELS, fontsize=FONTSIZE-5)  # Assign category names to x-tick labels\n",
    "ax.set_title(f'Model comparison for Devraj et al. (2022)', fontsize=FONTSIZE)\n",
    "# plt.xticks(fontsize=FONTSIZE-2)\n",
    "plt.yticks(fontsize=FONTSIZE-2)\n",
    "sns.despine()\n",
    "f.tight_layout()\n",
    "plt.show()\n",
    "\n",
    "# compare mean bics across models in a bar plot\n",
    "f, ax = plt.subplots(1, 1, figsize=(5,5))\n",
    "bar_positions = np.arange(len(bics))*0.5\n",
    "ax.bar(bar_positions, np.array(bics).mean(1), color=colors, width=0.4)\n",
    "ax.errorbar(bar_positions, np.array(bics).mean(1), yerr=np.array(bics).std(1)/np.sqrt(num_participants-1), c='k', lw=3, fmt=\"o\")\n",
    "# add chance level line for 616 trials with binary choices\n",
    "ax.axhline(y=-np.log(0.5)*num_trials*2, color='k', linestyle='--', lw=3)\n",
    "ax.set_xlabel('Meta-learner trained on', fontsize=FONTSIZE)\n",
    "ax.set_ylabel('BIC', fontsize=FONTSIZE)\n",
    "ax.set_xticks(bar_positions)  # Set x-tick positions to bar_positions\n",
    "ax.set_xticklabels(MODELS, fontsize=FONTSIZE-5)  # Assign category names to x-tick labels\n",
    "ax.set_title(f'Model comparison for Devraj et al. (2022)', fontsize=FONTSIZE)\n",
    "# plt.xticks(fontsize=FONTSIZE-2)\n",
    "plt.yticks(fontsize=FONTSIZE-2)\n",
    "sns.despine()\n",
    "f.tight_layout()\n",
    "plt.show()\n",
    "\n",
    "num_participants = len(nlls[0])\n",
    "# compare mean r2s across models in a bar plot\n",
    "f, ax = plt.subplots(1, 1, figsize=(5,5))\n",
    "bar_positions = np.arange(len(r2s))*0.5\n",
    "ax.bar(bar_positions, np.array(r2s).mean(1), color=colors, width=0.4)\n",
    "ax.errorbar(bar_positions, np.array(r2s).mean(1), yerr=np.array(r2s).std(1)/np.sqrt(num_participants-1), c='k', lw=3, fmt=\"o\")\n",
    "ax.set_xlabel('Meta-learner trained on', fontsize=FONTSIZE)\n",
    "ax.set_ylabel('R2', fontsize=FONTSIZE)\n",
    "ax.set_xticks(bar_positions)  # Set x-tick positions to bar_positions\n",
    "ax.set_xticklabels(MODELS, fontsize=FONTSIZE-5)  # Assign category names to x-tick labels\n",
    "ax.set_title(f'Model comparison for Devraj et al. (2022)', fontsize=FONTSIZE)\n",
    "plt.yticks(fontsize=FONTSIZE-2)\n",
    "sns.despine()\n",
    "f.tight_layout()\n",
    "plt.show()"
   ]
  },
  {
   "cell_type": "code",
   "execution_count": 74,
   "id": "f928b60e-1803-4073-8c8c-3ebcc31c50c1",
   "metadata": {},
   "outputs": [
    {
     "data": {
      "text/plain": [
       "[0.9237013, 0.66233766, 0.862013]"
      ]
     },
     "execution_count": 74,
     "metadata": {},
     "output_type": "execute_result"
    }
   ],
   "source": [
    "model_accs"
   ]
  },
  {
   "cell_type": "code",
   "execution_count": 76,
   "id": "2f0a9f35-b63e-4916-bf3a-b748e1fae979",
   "metadata": {},
   "outputs": [
    {
     "ename": "IndexError",
     "evalue": "list index out of range",
     "output_type": "error",
     "traceback": [
      "\u001b[0;31m---------------------------------------------------------------------------\u001b[0m",
      "\u001b[0;31mIndexError\u001b[0m                                Traceback (most recent call last)",
      "Cell \u001b[0;32mIn[76], line 4\u001b[0m\n\u001b[1;32m      2\u001b[0m \u001b[38;5;66;03m# colors = ['#173b4f', '#8b9da7', '#5d7684']\u001b[39;00m\n\u001b[1;32m      3\u001b[0m \u001b[38;5;28;01mfor\u001b[39;00m m_idx, model \u001b[38;5;129;01min\u001b[39;00m \u001b[38;5;28menumerate\u001b[39m(models):\n\u001b[0;32m----> 4\u001b[0m     ax[m_idx]\u001b[38;5;241m.\u001b[39mhist(\u001b[43mfitted_betas\u001b[49m\u001b[43m[\u001b[49m\u001b[43mm_idx\u001b[49m\u001b[43m]\u001b[49m, color\u001b[38;5;241m=\u001b[39mcolors[m_idx])\n\u001b[1;32m      5\u001b[0m     ax[m_idx]\u001b[38;5;241m.\u001b[39mset_xlabel(\u001b[38;5;124m'\u001b[39m\u001b[38;5;124mBeta\u001b[39m\u001b[38;5;124m'\u001b[39m, fontsize\u001b[38;5;241m=\u001b[39mFONTSIZE)\n\u001b[1;32m      6\u001b[0m     ax[m_idx]\u001b[38;5;241m.\u001b[39mset_ylabel(\u001b[38;5;124m'\u001b[39m\u001b[38;5;124mCounts\u001b[39m\u001b[38;5;124m'\u001b[39m, fontsize\u001b[38;5;241m=\u001b[39mFONTSIZE)\n",
      "\u001b[0;31mIndexError\u001b[0m: list index out of range"
     ]
    },
    {
     "data": {
      "image/png": "[encoded data removed]",
      "text/plain": [
       "<Figure size 1080x360 with 8 Axes>"
      ]
     },
     "metadata": {
      "needs_background": "light"
     },
     "output_type": "display_data"
    }
   ],
   "source": [
    "f, ax = plt.subplots(1, len(models)+1, figsize=(15,5))\n",
    "# colors = ['#173b4f', '#8b9da7', '#5d7684']\n",
    "for m_idx, model in enumerate(models):\n",
    "    ax[m_idx].hist(fitted_betas[m_idx], color=colors[m_idx])\n",
    "    ax[m_idx].set_xlabel('Beta', fontsize=FONTSIZE)\n",
    "    ax[m_idx].set_ylabel('Counts', fontsize=FONTSIZE)\n",
    "    sns.despine()\n",
    "plt.show()"
   ]
  },
  {
   "cell_type": "code",
   "execution_count": null,
   "id": "b1590bf1",
   "metadata": {},
   "outputs": [],
   "source": []
  },
  {
   "cell_type": "markdown",
   "id": "9110cf26-06b4-457d-8ae0-7f0763bc0ac1",
   "metadata": {
    "tags": []
   },
   "source": [
    "## badham et al. 2017"
   ]
  },
  {
   "cell_type": "code",
   "execution_count": 11,
   "id": "4d91773d",
   "metadata": {},
   "outputs": [
    {
     "data": {
      "image/png": "[encoded data removed]",
      "text/plain": [
       "<Figure size 360x360 with 1 Axes>"
      ]
     },
     "metadata": {
      "needs_background": "light"
     },
     "output_type": "display_data"
    },
    {
     "data": {
      "image/png": "[encoded data removed]",
      "text/plain": [
       "<Figure size 432x432 with 1 Axes>"
      ]
     },
     "metadata": {
      "needs_background": "light"
     },
     "output_type": "display_data"
    },
    {
     "data": {
      "image/png": "[encoded data removed]",
      "text/plain": [
       "<Figure size 360x360 with 1 Axes>"
      ]
     },
     "metadata": {
      "needs_background": "light"
     },
     "output_type": "display_data"
    }
   ],
   "source": [
    "models = ['badham2017_env=claude_generated_tasks_paramsNA_dim3_data100_tasks11518_pversion4_model=transformer_num_episodes500000_num_hidden=256_lr0.0003_num_layers=6_d_model=64_num_head=8_noise0.0_shuffleTrue_run=0_soft_sigmoid_differential_evolution',\\\n",
    "          'badham2017_env=dim3RMC_model=transformer_num_episodes500000_num_hidden=256_lr0.0003_num_layers=6_d_model=64_num_head=8_noise0.0_shuffleTrue_run=0_rmc_soft_sigmoid_differential_evolution',\n",
    "            'badham2017_env=dim3synthetic_model=transformer_num_episodes500000_num_hidden=256_lr0.0003_num_layers=6_d_model=64_num_head=8_noise0.0_shuffleTrue_run=0_syntheticnonlinear_soft_sigmoid_differential_evolution',\\\n",
    "            'badham2017_env=dim3synthetic_model=transformer_num_episodes500000_num_hidden=256_lr0.0003_num_layers=6_d_model=64_num_head=8_noise0.0_shuffleTrue_run=0_synthetic_soft_sigmoid_differential_evolution',\\\n",
    "            'badham2017_gcm_runs=1_iters=1_blocks=1_loss=nll',\\\n",
    "            'badham2017_rulex_runs=1_iters=1_blocks=1_loss=nll_exception=True',\\\n",
    "            'badham2017_rulex_runs=1_iters=1_blocks=1_loss=nll_exception=False',\\\n",
    "            'badham2017_pm_runs=1_iters=1_blocks=1_loss=nll',\\\n",
    "         ]\n",
    "nlls,fitted_betas, r2s = [], [], []\n",
    "model_accs = []\n",
    "bics = []\n",
    "num_tasks = 4\n",
    "num_trials = 96*num_tasks\n",
    "\n",
    "for model_name in models:\n",
    "    fits =  np.load(f'../data/model_comparison/{model_name}.npz')\n",
    "    if 'model=transformer' in model_name:\n",
    "        betas, pnlls, pr2s = fits['betas'], fits['nlls'], fits['pr2s']\n",
    "        model_accs.append(fits['accs'].max(0).mean())\n",
    "        nlls_min_nlls = np.array(pnlls).squeeze()\n",
    "        pr2s_min_nll = np.array(pr2s).squeeze()\n",
    "        fitted_betas.append(betas)\n",
    "        ## (deprecated) grid search-based nlls\n",
    "        # model_accs.append(fits['accs'].max(0).mean())\n",
    "        # pr2s = np.array(pr2s)\n",
    "        # min_nll_index = np.argmin(np.stack(pnlls), 0)\n",
    "        # pr2s_min_nll = np.stack([pr2s[min_nll_index[idx], idx] for idx in range(pr2s.shape[1])])\n",
    "        # nlls_min_nlls = np.stack([pnlls[min_nll_index[idx], idx] for idx in range(pnlls.shape[1])])\n",
    "        # fitted_betas.append(betas[min_nll_index])\n",
    "        bic = np.array(nlls_min_nlls)*2 + np.log(num_trials)*1\n",
    "    elif ('gcm' in model_name) or ('pm' in model_name):\n",
    "        betas, pnlls, pr2s = fits['params'], fits['lls'], fits['r2s']\n",
    "        #TODO: note that here I summing the fits across the four conditions fit separately\n",
    "        nlls_min_nlls = np.array(pnlls).squeeze().sum(1)\n",
    "        pr2s_min_nll = np.array(pr2s).squeeze().mean(1)\n",
    "        num_parameters = 5*num_tasks if ('gcm' in model_name) else 11*num_tasks\n",
    "        bic = np.array(nlls_min_nlls)*2 + np.log(num_trials)*num_parameters\n",
    "        fitted_betas.append(betas.squeeze()[..., 1].mean(1))\n",
    "    elif ('rulex' in model_name):\n",
    "        betas, pnlls, pr2s = fits['params'], fits['lls'], fits['r2s']\n",
    "        nlls_min_nlls = np.array(pnlls).squeeze().sum(1)\n",
    "        pr2s_min_nll = np.array(pr2s).squeeze().mean(1)\n",
    "        num_parameters = 2*num_tasks\n",
    "        bic = np.array(nlls_min_nlls)*2 + np.log(num_trials)*num_parameters\n",
    "\n",
    "    nlls.append(nlls_min_nlls)\n",
    "    r2s.append(pr2s_min_nll)\n",
    "    bics.append(bic)\n",
    "\n",
    "num_participants = len(nlls[0])\n",
    "MODELS = ['LLM', 'RMC', 'Linear', 'N-linear', 'GCM', 'Rulex', 'Rule',  'PM']\n",
    "MODELS = MODELS[:len(nlls)]\n",
    "# set colors depending on number of models in MODELS\n",
    "colors = ['#173b4f', '#8b9da7', '#5d7684', '#2f4a5a', '#0d2c3d', '#4d6a75', '#748995', '#748995']\n",
    "# compare mean nlls across models in a bar plot\n",
    "f, ax = plt.subplots(1, 1, figsize=(5,5))\n",
    "bar_positions = np.arange(len(nlls))*0.5\n",
    "\n",
    "ax.bar(bar_positions, np.array(nlls).mean(1), color=colors, width=0.4)\n",
    "ax.errorbar(bar_positions, np.array(nlls).mean(1), yerr=np.array(nlls).std(1)/np.sqrt(num_participants-1), c='k', lw=3, fmt=\"o\")\n",
    "# add chance level line for 616 trials with binary choices\n",
    "ax.axhline(y=-np.log(0.5)*num_trials, color='k', linestyle='--', lw=3)\n",
    "ax.set_xlabel('Meta-learner trained on', fontsize=FONTSIZE)\n",
    "ax.set_ylabel('NLL', fontsize=FONTSIZE)\n",
    "ax.set_xticks(bar_positions)  # Set x-tick positions to bar_positions\n",
    "ax.set_xticklabels(MODELS, fontsize=FONTSIZE-5)  # Assign category names to x-tick labels\n",
    "ax.set_title(f'Model comparison for Badham et al. (2017)', fontsize=FONTSIZE)\n",
    "# plt.xticks(fontsize=FONTSIZE-2)\n",
    "plt.yticks(fontsize=FONTSIZE-2)\n",
    "sns.despine()\n",
    "f.tight_layout()\n",
    "plt.show()\n",
    "\n",
    "# compare mean nlls across models in a bar plot\n",
    "f, ax = plt.subplots(1, 1, figsize=(6,6))\n",
    "bar_positions = np.arange(len(bics))*0.5\n",
    "ax.bar(bar_positions, np.array(bics).mean(1), color=colors, width=0.4)\n",
    "ax.errorbar(bar_positions, np.array(bics).mean(1), yerr=np.array(bics).std(1)/np.sqrt(num_participants-1), c='k', lw=3, fmt=\"o\")\n",
    "# add chance level line for 616 trials with binary choices\n",
    "ax.axhline(y=-np.log(0.5)*num_trials*2, color='k', linestyle='--', lw=3)\n",
    "ax.set_xlabel('Meta-learner trained on', fontsize=FONTSIZE)\n",
    "ax.set_ylabel('BIC', fontsize=FONTSIZE)\n",
    "ax.set_xticks(bar_positions)  # Set x-tick positions to bar_positions\n",
    "ax.set_xticklabels(MODELS, fontsize=FONTSIZE-5)  # Assign category names to x-tick labels\n",
    "ax.set_title(f'Model comparison for Badham et al. (2017)', fontsize=FONTSIZE)\n",
    "# plt.xticks(fontsize=FONTSIZE-2)\n",
    "plt.yticks(fontsize=FONTSIZE-2)\n",
    "sns.despine()\n",
    "f.tight_layout()\n",
    "plt.show()\n",
    "\n",
    "num_participants = len(nlls[0])\n",
    "# compare mean r2s across models in a bar plot\n",
    "f, ax = plt.subplots(1, 1, figsize=(5,5))\n",
    "bar_positions = np.arange(len(r2s))*0.5\n",
    "ax.bar(bar_positions, np.array(r2s).mean(1), color=colors, width=0.4)\n",
    "ax.errorbar(bar_positions, np.array(r2s).mean(1), yerr=np.array(r2s).std(1)/np.sqrt(num_participants-1), c='k', lw=3, fmt=\"o\")\n",
    "ax.set_xlabel('Meta-learner trained on', fontsize=FONTSIZE)\n",
    "ax.set_ylabel('R2', fontsize=FONTSIZE)\n",
    "ax.set_xticks(bar_positions)  # Set x-tick positions to bar_positions\n",
    "ax.set_xticklabels(MODELS, fontsize=FONTSIZE-5)  # Assign category names to x-tick labels\n",
    "ax.set_title(f'Model comparison for  Badham et al. (2017)', fontsize=FONTSIZE)\n",
    "plt.yticks(fontsize=FONTSIZE-2)\n",
    "sns.despine()\n",
    "f.tight_layout()\n",
    "plt.show()"
   ]
  },
  {
   "cell_type": "raw",
   "id": "2c4b7c73-6a4b-4f1c-bd99-cbe9c4c27517",
   "metadata": {
    "jupyter": {
     "source_hidden": true
    },
    "tags": []
   },
   "source": [
    "models = ['badham2017_env=claude_generated_tasks_paramsNA_dim3_data100_tasks11518_pversion4_model=transformer_num_episodes500000_num_hidden=256_lr0.0003_num_layers=6_d_model=64_num_head=8_noise0.0_shuffleTrue_run=0_eps_greedy',\\\n",
    "            'badham2017_env=dim3synthetic_model=transformer_num_episodes500000_num_hidden=256_lr0.0003_num_layers=6_d_model=64_num_head=8_noise0.0_shuffleTrue_run=0_syntheticnonlinear_eps_greedy',\\\n",
    "            'badham2017_env=dim3synthetic_model=transformer_num_episodes500000_num_hidden=256_lr0.0003_num_layers=6_d_model=64_num_head=8_noise0.0_shuffleTrue_run=0_synthetic_eps_greedy',\\\n",
    "            'badham2017_gcm_runs=1_iters=1_blocks=1_loss=nll',\\\n",
    "            'badham2017_pm_runs=1_iters=1_blocks=1_loss=nll',]\n",
    "nlls,fitted_betas, r2s = [], [], []\n",
    "model_accs = []\n",
    "bics = []\n",
    "num_tasks = 4\n",
    "num_trials = 96*num_tasks\n",
    "\n",
    "for model_name in models:\n",
    "    fits =  np.load(f'../data/model_comparison/{model_name}.npz')\n",
    "    if 'model=transformer' in model_name:\n",
    "        betas, pnlls, pr2s = fits['betas'], fits['nlls'], fits['pr2s']\n",
    "        model_accs.append(fits['accs'].max(0).mean())\n",
    "        pr2s = np.array(pr2s)\n",
    "        min_nll_index = np.argmin(np.stack(pnlls), 0)\n",
    "        pr2s_min_nll = np.stack([pr2s[min_nll_index[idx], idx] for idx in range(pr2s.shape[1])])\n",
    "        nlls_min_nlls = np.stack([pnlls[min_nll_index[idx], idx] for idx in range(pnlls.shape[1])])\n",
    "        fitted_betas.append(betas[min_nll_index])\n",
    "        bic = np.array(nlls_min_nlls)*2 + np.log(num_trials)*1\n",
    "    elif ('gcm' in model_name) or ('pm' in model_name):\n",
    "        betas, pnlls, pr2s = fits['params'], fits['lls'], fits['r2s']\n",
    "        #TODO: note that here I summing the fits across the four conditions fit separately\n",
    "        nlls_min_nlls = np.array(pnlls).squeeze().sum(1)\n",
    "        pr2s_min_nll = np.array(pr2s).squeeze().mean(1)\n",
    "        num_parameters = 5*num_tasks if ('gcm' in model_name) else 11*num_tasks\n",
    "        bic = np.array(nlls_min_nlls)*2 + np.log(num_trials)*num_parameters\n",
    "        fitted_betas.append(betas.squeeze()[..., 1].mean(1))\n",
    "    elif ('rulex' in model_name):\n",
    "        betas, pnlls, pr2s = fits['params'], fits['lls'], fits['r2s']\n",
    "        nlls_min_nlls = np.array(pnlls).squeeze()\n",
    "        pr2s_min_nll = np.array(pr2s).squeeze()\n",
    "        bic = np.array(nlls_min_nlls)*2 + np.log(num_trials)*2*num_tasks\n",
    "\n",
    "    nlls.append(nlls_min_nlls)\n",
    "    r2s.append(pr2s_min_nll)\n",
    "    bics.append(bic)\n",
    "\n",
    "num_participants = len(nlls[0])\n",
    "MODELS = ['LLM', 'Linear', 'N-linear', 'GCM', 'PM']#, 'Rulex', 'Rule']\n",
    "# set colors depending on number of models in MODELS\n",
    "colors = ['#173b4f', '#8b9da7', '#5d7684', '#2f4a5a', '#0d2c3d', '#4d6a75', '#748995']\n",
    "# compare mean nlls across models in a bar plot\n",
    "f, ax = plt.subplots(1, 1, figsize=(5,5))\n",
    "bar_positions = np.arange(len(nlls))*0.5\n",
    "\n",
    "ax.bar(bar_positions, np.array(nlls).mean(1), color=colors, width=0.4)\n",
    "ax.errorbar(bar_positions, np.array(nlls).mean(1), yerr=np.array(nlls).std(1)/np.sqrt(num_participants-1), c='k', lw=3, fmt=\"o\")\n",
    "# add chance level line for 616 trials with binary choices\n",
    "ax.axhline(y=-np.log(0.5)*num_trials, color='k', linestyle='--', lw=3)\n",
    "ax.set_xlabel('Meta-learner trained on', fontsize=FONTSIZE)\n",
    "ax.set_ylabel('NLL', fontsize=FONTSIZE)\n",
    "ax.set_xticks(bar_positions)  # Set x-tick positions to bar_positions\n",
    "ax.set_xticklabels(MODELS, fontsize=FONTSIZE-5)  # Assign category names to x-tick labels\n",
    "ax.set_title(f'Model comparison for Badham et al. (2017)', fontsize=FONTSIZE)\n",
    "# plt.xticks(fontsize=FONTSIZE-2)\n",
    "plt.yticks(fontsize=FONTSIZE-2)\n",
    "sns.despine()\n",
    "f.tight_layout()\n",
    "plt.show()\n",
    "\n",
    "# compare mean nlls across models in a bar plot\n",
    "f, ax = plt.subplots(1, 1, figsize=(5,5))\n",
    "bar_positions = np.arange(len(bics))*0.5\n",
    "ax.bar(bar_positions, np.array(bics).mean(1), color=colors, width=0.4)\n",
    "ax.errorbar(bar_positions, np.array(bics).mean(1), yerr=np.array(bics).std(1)/np.sqrt(num_participants-1), c='k', lw=3, fmt=\"o\")\n",
    "# add chance level line for 616 trials with binary choices\n",
    "ax.axhline(y=-np.log(0.5)*num_trials*2, color='k', linestyle='--', lw=3)\n",
    "ax.set_xlabel('Meta-learner trained on', fontsize=FONTSIZE)\n",
    "ax.set_ylabel('BIC', fontsize=FONTSIZE)\n",
    "ax.set_xticks(bar_positions)  # Set x-tick positions to bar_positions\n",
    "ax.set_xticklabels(MODELS, fontsize=FONTSIZE-5)  # Assign category names to x-tick labels\n",
    "ax.set_title(f'Model comparison for Badham et al. (2017)', fontsize=FONTSIZE)\n",
    "# plt.xticks(fontsize=FONTSIZE-2)\n",
    "plt.yticks(fontsize=FONTSIZE-2)\n",
    "sns.despine()\n",
    "f.tight_layout()\n",
    "plt.show()\n",
    "\n",
    "num_participants = len(nlls[0])\n",
    "# compare mean r2s across models in a bar plot\n",
    "f, ax = plt.subplots(1, 1, figsize=(5,5))\n",
    "bar_positions = np.arange(len(r2s))*0.5\n",
    "ax.bar(bar_positions, np.array(r2s).mean(1), color=colors, width=0.4)\n",
    "ax.errorbar(bar_positions, np.array(r2s).mean(1), yerr=np.array(r2s).std(1)/np.sqrt(num_participants-1), c='k', lw=3, fmt=\"o\")\n",
    "ax.set_xlabel('Meta-learner trained on', fontsize=FONTSIZE)\n",
    "ax.set_ylabel('R2', fontsize=FONTSIZE)\n",
    "ax.set_xticks(bar_positions)  # Set x-tick positions to bar_positions\n",
    "ax.set_xticklabels(MODELS, fontsize=FONTSIZE-5)  # Assign category names to x-tick labels\n",
    "ax.set_title(f'Model comparison for  Badham et al. (2017)', fontsize=FONTSIZE)\n",
    "plt.yticks(fontsize=FONTSIZE-2)\n",
    "sns.despine()\n",
    "f.tight_layout()\n",
    "plt.show()"
   ]
  },
  {
   "cell_type": "code",
   "execution_count": 15,
   "id": "67efda4f-370f-4157-a18c-f6b9d7ccb9b9",
   "metadata": {},
   "outputs": [
    {
     "data": {
      "text/plain": [
       "[0.8932292]"
      ]
     },
     "execution_count": 15,
     "metadata": {},
     "output_type": "execute_result"
    }
   ],
   "source": [
    "model_accs"
   ]
  },
  {
   "cell_type": "raw",
   "id": "498927a7-17f5-49cc-87da-e9af7e52c03b",
   "metadata": {},
   "source": []
  },
  {
   "cell_type": "code",
   "execution_count": 16,
   "id": "9f478597-a450-4895-9123-3edb00f9a730",
   "metadata": {},
   "outputs": [
    {
     "data": {
      "text/plain": [
       "0.1581290203119925"
      ]
     },
     "execution_count": 16,
     "metadata": {},
     "output_type": "execute_result"
    }
   ],
   "source": [
    "np.median(fits['betas'])"
   ]
  },
  {
   "cell_type": "code",
   "execution_count": 17,
   "id": "750a3141-f6b4-4455-b6b7-5ef017da533d",
   "metadata": {},
   "outputs": [
    {
     "data": {
      "text/plain": [
       "0.18564321475504575"
      ]
     },
     "execution_count": 17,
     "metadata": {},
     "output_type": "execute_result"
    }
   ],
   "source": [
    "fits['betas'].mean()"
   ]
  },
  {
   "cell_type": "code",
   "execution_count": null,
   "id": "617d5bb2-72bb-4271-8785-ed700283ff40",
   "metadata": {},
   "outputs": [],
   "source": []
  },
  {
   "cell_type": "code",
   "execution_count": 55,
   "id": "5d58d2e5-dd74-4bdb-9426-5498c2d15d1c",
   "metadata": {},
   "outputs": [
    {
     "data": {
      "image/png": "[encoded data removed]",
      "text/plain": [
       "<Figure size 1080x360 with 5 Axes>"
      ]
     },
     "metadata": {
      "needs_background": "light"
     },
     "output_type": "display_data"
    }
   ],
   "source": [
    "f, ax = plt.subplots(1, len(models), figsize=(15,5))\n",
    "# colors = ['#173b4f', '#8b9da7', '#5d7684']\n",
    "for m_idx, model in enumerate(models):\n",
    "    ax[m_idx].hist(fitted_betas[m_idx], color=colors[m_idx])\n",
    "    ax[m_idx].set_xlabel('Beta', fontsize=FONTSIZE)\n",
    "    ax[m_idx].set_ylabel('Counts', fontsize=FONTSIZE)\n",
    "    sns.despine()\n",
    "plt.show()"
   ]
  },
  {
   "cell_type": "markdown",
   "id": "64423ffb-a87f-4140-90ba-a8017733188f",
   "metadata": {
    "jp-MarkdownHeadingCollapsed": true,
    "tags": []
   },
   "source": [
    "## choosing an optimisation approach"
   ]
  },
  {
   "cell_type": "raw",
   "id": "e342f3f4-fa30-4ce5-8192-8627e58c3704",
   "metadata": {},
   "source": []
  },
  {
   "cell_type": "raw",
   "id": "94636deb-a8dd-457f-9a41-bd3b9e15c40d",
   "metadata": {},
   "source": []
  },
  {
   "cell_type": "code",
   "execution_count": null,
   "id": "faad95ed",
   "metadata": {},
   "outputs": [
    {
     "data": {
      "image/png": "[encoded data removed]",
      "text/plain": [
       "<Figure size 360x360 with 1 Axes>"
      ]
     },
     "metadata": {},
     "output_type": "display_data"
    },
    {
     "data": {
      "image/png": "[encoded data removed]",
      "text/plain": [
       "<Figure size 360x360 with 1 Axes>"
      ]
     },
     "metadata": {},
     "output_type": "display_data"
    }
   ],
   "source": [
    "models = ['badham2017_env=claude_generated_tasks_paramsNA_dim3_data100_tasks11518_pversion4_model=transformer_num_episodes500000_num_hidden=256_lr0.0003_num_layers=6_d_model=64_num_head=8_noise0.0_shuffleTrue_run=0_beta_sweep',\\\n",
    "            'badham2017_env=dim3synthetic_model=transformer_num_episodes500000_num_hidden=256_lr0.0003_num_layers=6_d_model=64_num_head=8_noise0.0_shuffleTrue_run=0_syntheticnonlinear_beta_sweep', \\\n",
    "            'badham2017_env=dim3synthetic_model=transformer_num_episodes500000_num_hidden=256_lr0.0003_num_layers=6_d_model=64_num_head=8_noise0.0_shuffleTrue_run=0_synthetic_beta_sweep']\n",
    "nlls,fitted_betas, r2s = [], [], []\n",
    "model_accs = []\n",
    "for model_name in models:\n",
    "    fits =  np.load(f'../data/model_comparison/{model_name}.npz')\n",
    "    betas, pnlls, pr2s = fits['betas'], fits['nlls'], fits['pr2s']\n",
    "    pr2s = np.array(pr2s)\n",
    "    min_nll_index = np.argmin(np.stack(pnlls), 0)\n",
    "    pr2s_min_nll = np.stack([pr2s[min_nll_index[idx], idx] for idx in range(pr2s.shape[1])])\n",
    "    nlls_min_nlls = np.stack([pnlls[min_nll_index[idx], idx] for idx in range(pnlls.shape[1])])\n",
    "    nlls.append(nlls_min_nlls)\n",
    "    r2s.append(pr2s_min_nll)\n",
    "    fitted_betas.append(betas[min_nll_index])\n",
    "    model_accs.append(fits['accs'].max(0).mean())\n",
    "\n",
    "num_participants = len(nlls[0])\n",
    "# compare mean nlls across models in a bar plot\n",
    "f, ax = plt.subplots(1, 1, figsize=(5,5))\n",
    "bar_positions = np.arange(len(nlls))*0.5\n",
    "colors = ['#173b4f', '#8b9da7', '#5d7684']\n",
    "ax.bar(bar_positions, np.array(nlls).mean(1), color=colors, width=0.4)\n",
    "ax.errorbar(bar_positions, np.array(nlls).mean(1), yerr=np.array(nlls).std(1)/np.sqrt(num_participants-1), c='k', lw=3, fmt=\"o\")\n",
    "# add chance level line for 96*4=384 trials with binary choices\n",
    "ax.axhline(y=-np.log(0.5)*384, color='k', linestyle='--', lw=3)\n",
    "ax.set_xlabel('Meta-learner trained on', fontsize=FONTSIZE)\n",
    "ax.set_ylabel('NLL', fontsize=FONTSIZE)\n",
    "ax.set_xticks(bar_positions)  # Set x-tick positions to bar_positions\n",
    "ax.set_xticklabels(['LLM', 'Linear', 'Non-linear'], fontsize=FONTSIZE-2)  # Assign category names to x-tick labels\n",
    "ax.set_title(f'Model comparison for Badham et al. (2017)', fontsize=FONTSIZE)\n",
    "plt.xticks(fontsize=FONTSIZE-2)\n",
    "plt.yticks(fontsize=FONTSIZE-2)\n",
    "sns.despine()\n",
    "f.tight_layout()\n",
    "plt.show()\n",
    "\n",
    "num_participants = len(nlls[0])\n",
    "# compare mean nlls across models in a bar plot\n",
    "f, ax = plt.subplots(1, 1, figsize=(5,5))\n",
    "bar_positions = np.arange(len(nlls))*0.5\n",
    "# colors = ['#173b4f', '#8b9da7', '#5d7684']\n",
    "# ax.bar(bar_positions, np.array(r2s).mean(1), color=colors, width=0.4)\n",
    "# ax.errorbar(bar_positions, np.array(r2s).mean(1), yerr=np.array(r2s).std(1)/np.sqrt(num_participants-1), c='k', lw=3, fmt=\"o\")\n",
    "ax.bar(bar_positions, 1-(np.array(nlls).mean(1)/(-np.log(0.5)*384)), color=colors, width=0.4)\n",
    "ax.set_xlabel('Meta-learner trained on', fontsize=FONTSIZE)\n",
    "ax.set_ylabel('R2', fontsize=FONTSIZE)\n",
    "ax.set_xticks(bar_positions)  # Set x-tick positions to bar_positions\n",
    "ax.set_xticklabels(['LLM', 'Linear', 'Non-linear'], fontsize=FONTSIZE-2)  # Assign category names to x-tick labels\n",
    "ax.set_title(f'Model comparison for Badham et al. (2017)', fontsize=FONTSIZE)\n",
    "plt.xticks(fontsize=FONTSIZE-2)\n",
    "plt.yticks(fontsize=FONTSIZE-2)\n",
    "sns.despine()\n",
    "f.tight_layout()\n",
    "plt.show()"
   ]
  },
  {
   "cell_type": "code",
   "execution_count": 15,
   "id": "3a5e03a5-9fba-4d7c-9aca-a84f3e8bd2f7",
   "metadata": {},
   "outputs": [],
   "source": [
    "fits =  np.load('../model_comparison/badham2017_env=claude_generated_tasks_paramsNA_dim3_data100_tasks11518_pversion4_model=transformer_num_episodes500000_num_hidden=256_lr0.0003_num_layers=6_d_model=64_num_head=8_noise0.0_shuffleTrue_run=0_beta_sweep.npy.npz')"
   ]
  },
  {
   "cell_type": "code",
   "execution_count": 16,
   "id": "557832bf-9d2f-41a6-8a66-94630f496700",
   "metadata": {},
   "outputs": [],
   "source": [
    "betas, nlls, pr2s = fits['betas'], fits['nlls'], fits['pr2s']\n",
    "pr2s = np.array(pr2s)\n",
    "min_nll_index = np.argmin(np.stack(nlls), 0)\n",
    "pr2s_min_nll = np.stack([pr2s[min_nll_index[idx], idx] for idx in range(pr2s.shape[1])])\n",
    "nlls_min_nlls = np.stack([nlls[min_nll_index[idx], idx] for idx in range(nlls.shape[1])])"
   ]
  },
  {
   "cell_type": "code",
   "execution_count": 17,
   "id": "4a030717-d3a7-4150-9067-b8eb6da57346",
   "metadata": {},
   "outputs": [
    {
     "name": "stdout",
     "output_type": "stream",
     "text": [
      "beta with min nll: [0.15 0.15 0.1  0.35 0.7  0.65 0.75 0.   0.4  0.75 0.75 0.7  0.85 0.3\n",
      " 0.75 0.4  0.45 0.95 0.45 0.65 0.9  0.05 0.7  0.3  0.35 0.4  0.9  0.8\n",
      " 0.8  0.05 0.85 0.25 0.5  0.25 0.5  0.95 0.85 0.2  0.35 0.75 0.8  0.75\n",
      " 0.85 0.4  0.45 0.85 0.95 0.75 0.65 0.35 0.   0.05 0.85 0.65 0.9  0.1\n",
      " 0.2  0.   0.1  0.75 0.85 0.7  0.4  0.25 0.5  0.   0.35 0.4  0.25 0.\n",
      " 0.2  0.2  0.8  0.15 0.95 0.   0.25 0.75 0.7  0.55 0.1  0.55 0.4  0.15\n",
      " 0.85 0.05 0.9  0.25 0.9  0.95 0.75 0.6  0.95 0.65 0.7 ]\n"
     ]
    }
   ],
   "source": [
    "print(f\"beta with min nll: {betas[min_nll_index]}\")"
   ]
  },
  {
   "cell_type": "code",
   "execution_count": 33,
   "id": "fe6835ec-a81c-46ce-bdac-c0d513a801e2",
   "metadata": {},
   "outputs": [
    {
     "data": {
      "text/plain": [
       "229.36994227582687"
      ]
     },
     "execution_count": 33,
     "metadata": {},
     "output_type": "execute_result"
    }
   ],
   "source": [
    "nlls_min_nlls.mean()"
   ]
  },
  {
   "cell_type": "markdown",
   "id": "21f3db20-a12f-40bd-bdb6-86cab4ac0d5a",
   "metadata": {
    "jp-MarkdownHeadingCollapsed": true,
    "tags": []
   },
   "source": [
    "## prepare badham2017deficits"
   ]
  },
  {
   "cell_type": "code",
   "execution_count": 3,
   "id": "8b0f94ac-d14b-4e5b-9e84-8ede53226a88",
   "metadata": {},
   "outputs": [],
   "source": [
    "data = pd.read_csv('../data/human/badham2017deficits.csv')"
   ]
  },
  {
   "cell_type": "code",
   "execution_count": 23,
   "id": "6a5eefbe-2381-4f30-b3ec-c35fdfc06638",
   "metadata": {},
   "outputs": [],
   "source": [
    "participant = 0\n",
    "task_type = 1\n",
    "categories = {'j': 0, 'f': 1}"
   ]
  },
  {
   "cell_type": "code",
   "execution_count": 19,
   "id": "39f784e6-3f1d-44e1-b205-973189a84c24",
   "metadata": {},
   "outputs": [],
   "source": [
    "data_participant = data[data['participant']==participant]"
   ]
  },
  {
   "cell_type": "code",
   "execution_count": 24,
   "id": "bf9383dc-aa1d-4eec-b894-2374a236d75d",
   "metadata": {},
   "outputs": [],
   "source": [
    "choices = data_participant[data_participant.condition==task_type].choice"
   ]
  },
  {
   "cell_type": "code",
   "execution_count": 25,
   "id": "339fde31-fe50-4e3c-b79f-e2a678ea7fca",
   "metadata": {},
   "outputs": [],
   "source": [
    "targets = np.array([1. if choice=='j' else 0. for choice in choices])"
   ]
  },
  {
   "cell_type": "code",
   "execution_count": 26,
   "id": "71947fbd-ca09-458c-9b75-ffd26310474e",
   "metadata": {},
   "outputs": [
    {
     "data": {
      "text/plain": [
       "array([1., 1., 0., 0., 0., 1., 0., 0., 0., 0., 1., 1., 0., 1., 1., 0., 0.,\n",
       "       0., 1., 1., 0., 1., 0., 0., 0., 1., 0., 1., 1., 1., 0., 1., 0., 1.,\n",
       "       1., 0., 1., 0., 0., 0., 0., 1., 1., 1., 1., 0., 0., 0., 1., 1., 0.,\n",
       "       0., 1., 0., 1., 1., 1., 1., 0., 1., 0., 0., 0., 0., 1., 1., 1., 1.,\n",
       "       0., 0., 0., 0., 1., 0., 0., 0., 1., 0., 0., 1., 0., 1., 0., 1., 1.,\n",
       "       1., 1., 1., 0., 1., 1., 0., 0., 0., 0., 0.])"
      ]
     },
     "execution_count": 26,
     "metadata": {},
     "output_type": "execute_result"
    }
   ],
   "source": [
    "targets"
   ]
  },
  {
   "cell_type": "code",
   "execution_count": 21,
   "id": "63ef6d9c-63e0-4d46-88fa-f0bf48ee06bc",
   "metadata": {},
   "outputs": [],
   "source": [
    "input_features = [eval(val) for val in data_participant[data_participant.condition==task_type].all_features.values]"
   ]
  },
  {
   "cell_type": "code",
   "execution_count": null,
   "id": "5c6bf2a0-69e9-4035-aaf6-a03da5c7c3ce",
   "metadata": {},
   "outputs": [],
   "source": [
    "choice = categories[df_trial.choice.item()] if df_trial.choice.item() in categories else df_trial.choice.item()\n",
    "true_choice = categories[df_trial.correct_choice.item()] if df_trial.correct_choice.item() in categories else df_trial.correct_choice.item()\n",
    "  "
   ]
  }
 ],
 "metadata": {
  "kernelspec": {
   "display_name": "Python 3",
   "language": "python",
   "name": "python3"
  },
  "language_info": {
   "codemirror_mode": {
    "name": "ipython",
    "version": 3
   },
   "file_extension": ".py",
   "mimetype": "text/x-python",
   "name": "python",
   "nbconvert_exporter": "python",
   "pygments_lexer": "ipython3",
   "version": "3.9.7"
  }
 },
 "nbformat": 4,
 "nbformat_minor": 5
}
