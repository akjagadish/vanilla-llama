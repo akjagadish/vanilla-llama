{
 "cells": [
  {
   "cell_type": "code",
   "execution_count": 2,
   "metadata": {},
   "outputs": [],
   "source": [
    "import sys\n",
    "sys.path.append('/raven/u/ajagadish/vanilla-llama/categorisation/')\n",
    "import pandas as pd\n",
    "import numpy as np\n",
    "import matplotlib.pyplot as plt\n",
    "import seaborn as sns\n",
    "import torch\n",
    "FONTSIZE=22\n",
    "SYS_PATH = '/u/ajagadish/vanilla-llama'"
   ]
  },
  {
   "cell_type": "markdown",
   "metadata": {
    "jp-MarkdownHeadingCollapsed": true,
    "tags": []
   },
   "source": [
    "# data distribution"
   ]
  },
  {
   "cell_type": "code",
   "execution_count": 53,
   "metadata": {},
   "outputs": [],
   "source": [
    "def load_stats(mode):\n",
    "    stats = np.load(f'{SYS_PATH}/categorisation/data/stats/stats_{str(mode)}.npz')\n",
    "    all_corr = stats['all_corr']\n",
    "    gini_coeff = stats['gini_coeff']\n",
    "    posterior_logprob = stats['posterior_logprob']\n",
    "    all_accuraries_linear = stats['all_accuraries_linear']\n",
    "    return all_corr, gini_coeff, posterior_logprob, all_accuraries_linear\n",
    "\n",
    "# load data for mode 0: llm\n",
    "all_corr_llm, gini_coeff_llm, posterior_logprob_llm, all_accuraries_linear_llm = load_stats(0)\n",
    "# load data for mode 1: linear\n",
    "all_corr_linear, gini_coeff_linear, posterior_logprob_linear, all_accuraries_linear_linear = load_stats(1)\n",
    "# load data for mode 2: real\n",
    "all_corr_real, gini_coeff_real, posterior_logprob_real, all_accuraries_linear_real = load_stats(2)\n",
    "## keep only non nan values for real\n",
    "non_nan_idx = ~np.isnan(all_corr_real)\n",
    "all_corr_real = all_corr_real[non_nan_idx]\n"
   ]
  },
  {
   "cell_type": "code",
   "execution_count": 54,
   "metadata": {},
   "outputs": [
    {
     "name": "stdout",
     "output_type": "stream",
     "text": [
      "mean and sem for real data:  0.21348689496851092 0.014583119830117714\n",
      "mean and sem for llm data:  0.11486352352750175 0.02534976524960511\n",
      "mean and sem for linear data:  -0.0007564300467203832 0.0011668981721970893\n"
     ]
    }
   ],
   "source": [
    "# compute mean, std, and sem for correlations\n",
    "mean_all_corr_real = np.mean(all_corr_real, axis=0)\n",
    "std_all_corr_real = np.std(all_corr_real, axis=0)\n",
    "sem_all_corr_real = std_all_corr_real / np.sqrt(all_corr_real.shape[0])\n",
    "print('mean and sem for real data: ', mean_all_corr_real, sem_all_corr_real)\n",
    "mean_all_corr_llm = np.mean(all_corr_llm, axis=0)\n",
    "std_all_corr_llm = np.std(all_corr_llm, axis=0)\n",
    "sem_all_corr_llm = std_all_corr_llm / np.sqrt(all_corr_llm.shape[0])\n",
    "print('mean and sem for llm data: ', mean_all_corr_llm, sem_all_corr_llm)\n",
    "mean_all_corr_linear = np.mean(all_corr_linear, axis=0)\n",
    "std_all_corr_linear = np.std(all_corr_linear, axis=0)\n",
    "sem_all_corr_linear = std_all_corr_linear / np.sqrt(all_corr_linear.shape[0])\n",
    "print('mean and sem for linear data: ', mean_all_corr_linear, sem_all_corr_linear)"
   ]
  },
  {
   "cell_type": "code",
   "execution_count": 55,
   "metadata": {},
   "outputs": [
    {
     "name": "stdout",
     "output_type": "stream",
     "text": [
      "mean and sem for real data:  0.4504237970763127 0.010394008227834494\n",
      "mean and sem for llm data:  0.38355672230549837 0.015331219710892217\n",
      "mean and sem for linear data:  0.32084427588087067 0.005902497622043881\n"
     ]
    }
   ],
   "source": [
    "# compute mean, std, and sem for gini coeff\n",
    "mean_gini_coeff_real = np.mean(gini_coeff_real, axis=0)\n",
    "std_gini_coeff_real = np.std(gini_coeff_real, axis=0)\n",
    "sem_gini_coeff_real = std_gini_coeff_real / np.sqrt(gini_coeff_real.shape[0])\n",
    "print('mean and sem for real data: ', mean_gini_coeff_real, sem_gini_coeff_real)\n",
    "mean_gini_coeff_llm = np.mean(gini_coeff_llm, axis=0)\n",
    "std_gini_coeff_llm = np.std(gini_coeff_llm, axis=0)\n",
    "sem_gini_coeff_llm = std_gini_coeff_llm / np.sqrt(gini_coeff_llm.shape[0])\n",
    "print('mean and sem for llm data: ', mean_gini_coeff_llm, sem_gini_coeff_llm)\n",
    "mean_gini_coeff_linear = np.mean(gini_coeff_linear, axis=0)\n",
    "std_gini_coeff_linear = np.std(gini_coeff_linear, axis=0)\n",
    "sem_gini_coeff_linear = std_gini_coeff_linear / np.sqrt(gini_coeff_linear.shape[0])\n",
    "print('mean and sem for linear data: ', mean_gini_coeff_linear, sem_gini_coeff_linear)"
   ]
  },
  {
   "cell_type": "code",
   "execution_count": 70,
   "metadata": {},
   "outputs": [],
   "source": [
    "# choose two samples to compare\n",
    "sample1 = all_corr_real #all_corr_llm \n",
    "sample2 = all_corr_linear # all_corr_real"
   ]
  },
  {
   "cell_type": "code",
   "execution_count": 71,
   "metadata": {},
   "outputs": [
    {
     "name": "stdout",
     "output_type": "stream",
     "text": [
      "t and p values for t-test:  15.60413351087927 3.341295809574759e-52\n"
     ]
    }
   ],
   "source": [
    "# compare t-test comparing means of two samples\n",
    "from scipy import stats\n",
    "t, p = stats.ttest_ind(sample1, sample2, axis=0)\n",
    "print('t and p values for t-test: ', t, p)"
   ]
  },
  {
   "cell_type": "code",
   "execution_count": 72,
   "metadata": {},
   "outputs": [
    {
     "name": "stdout",
     "output_type": "stream",
     "text": [
      "t-statistic:  14.637435441624525\n",
      "p-value:  2.388409315842787e-44\n",
      "t(2252) = 14.64, p = 0.000\n"
     ]
    }
   ],
   "source": [
    "# perform Two-Sample t-Test (Including Welch's t-test) given the numpy arrays of the two samples\n",
    "from scipy import stats\n",
    "t_statistic, p_value = stats.ttest_ind(sample1, sample2, equal_var = False)\n",
    "print('t-statistic: ', t_statistic)\n",
    "print('p-value: ', p_value)\n",
    "# print it in the APA format\n",
    "print('t(%d) = %.2f, p = %.3f' % (sample1.shape[0]+sample2.shape[0]-2, t_statistic, p_value))"
   ]
  },
  {
   "cell_type": "code",
   "execution_count": 63,
   "metadata": {},
   "outputs": [
    {
     "name": "stdout",
     "output_type": "stream",
     "text": [
      "z-statistic:  4.65052759601151\n",
      "p-value:  3.310869373859695e-06\n"
     ]
    }
   ],
   "source": [
    "# Z-test for Two Means (Independent Samples) given the numpy arrays of the two samples\n",
    "from statsmodels.stats import weightstats as stests\n",
    "z_statistic, p_value = stests.ztest(sample1, sample2, value=0, alternative='two-sided')\n",
    "print('z-statistic: ', z_statistic)\n",
    "print('p-value: ', p_value)"
   ]
  },
  {
   "cell_type": "code",
   "execution_count": 61,
   "metadata": {},
   "outputs": [
    {
     "data": {
      "text/plain": [
       "Text(0.5, 1.0, '')"
      ]
     },
     "execution_count": 61,
     "metadata": {},
     "output_type": "execute_result"
    },
    {
     "data": {
      "image/png": "[encoded data removed]",
      "text/plain": [
       "<Figure size 720x576 with 1 Axes>"
      ]
     },
     "metadata": {
      "needs_background": "light"
     },
     "output_type": "display_data"
    }
   ],
   "source": [
    "# plot Box Plots comparing the two samples\n",
    "plt.figure(figsize=(10, 8))\n",
    "plt.boxplot([all_corr_real, all_corr_llm, all_corr_linear], labels=['real', 'llm', 'linear'])\n",
    "plt.xticks([1, 2, 3], ['real', 'llm', 'linear'], fontsize=FONTSIZE-2)\n",
    "plt.ylabel('Correlation', fontsize=FONTSIZE)\n",
    "plt.yticks(fontsize=FONTSIZE-2)\n",
    "sns.despine()\n",
    "plt.title('', fontsize=FONTSIZE)\n"
   ]
  },
  {
   "cell_type": "code",
   "execution_count": 62,
   "metadata": {},
   "outputs": [
    {
     "name": "stdout",
     "output_type": "stream",
     "text": [
      "ks-statistic:  0.14773866535861657\n",
      "p-value:  2.1649249182520137e-06\n"
     ]
    }
   ],
   "source": [
    "# Kolmogorov-Smirnov Test: compare two samples\n",
    "from scipy.stats import ks_2samp\n",
    "ks_statistic, p_value = ks_2samp(sample1, sample2)\n",
    "print('ks-statistic: ', ks_statistic)\n",
    "print('p-value: ', p_value)\n"
   ]
  },
  {
   "cell_type": "code",
   "execution_count": 65,
   "metadata": {},
   "outputs": [
    {
     "name": "stdout",
     "output_type": "stream",
     "text": [
      "Statistic: 33.498\n",
      "15.000: 0.574, data does not look normal (reject H0)\n",
      "10.000: 0.654, data does not look normal (reject H0)\n",
      "5.000: 0.784, data does not look normal (reject H0)\n",
      "2.500: 0.915, data does not look normal (reject H0)\n",
      "1.000: 1.088, data does not look normal (reject H0)\n"
     ]
    }
   ],
   "source": [
    "# Anderson-Darling Test: compare sample1 and sample2\n",
    "from scipy.stats import anderson\n",
    "result = anderson(sample2, dist='norm')\n",
    "print('Statistic: %.3f' % result.statistic)\n",
    "p = 0\n",
    "for i in range(len(result.critical_values)):\n",
    "    sl, cv = result.significance_level[i], result.critical_values[i]\n",
    "    if result.statistic < result.critical_values[i]:\n",
    "        print('%.3f: %.3f, data looks normal (fail to reject H0)' % (sl, cv))\n",
    "    else:\n",
    "        print('%.3f: %.3f, data does not look normal (reject H0)' % (sl, cv))\n",
    " \n"
   ]
  },
  {
   "cell_type": "markdown",
   "metadata": {
    "jp-MarkdownHeadingCollapsed": true,
    "tags": []
   },
   "source": [
    "# Shepard 1961"
   ]
  },
  {
   "cell_type": "code",
   "execution_count": 225,
   "metadata": {},
   "outputs": [],
   "source": [
    "tasks=np.arange(1,7)\n",
    "\n",
    "models = ['humans',\\\n",
    "            'env=claude_generated_tasks_paramsNA_dim3_data100_tasks11518_pversion4_model=transformer_num_episodes500000_num_hidden=256_lr0.0003_num_layers=6_d_model=64_num_head=8_noise0.0_shuffleTrue_run=0',\n",
    "            'env=dim3synthetic_model=transformer_num_episodes500000_num_hidden=256_lr0.0003_num_layers=6_d_model=64_num_head=8_noise0.0_shuffleTrue_run=0_synthetic',\\\n",
    "            #'env=rmc_tasks_dim3_data100_tasks11499_model=transformer_num_episodes500000_num_hidden=256_lr0.0003_num_layers=6_d_model=64_num_head=8_noise0.0_shuffleTrue_run=1_rmc',\n",
    "            #'env=dim3synthetic_model=transformer_num_episodes500000_num_hidden=256_lr0.0003_num_layers=6_d_model=64_num_head=8_noise0.0_shuffleTrue_run=0_synthetic_nonlinear',\\\n",
    "        ]\n",
    "num_blocks = 15 # 16 blocks doesn't work for current ERMI model\n",
    "num_trials_per_block = 16\n",
    "num_runs = 50\n",
    "betas = []\n",
    "errors = np.ones((len(models), len(tasks), num_blocks))\n",
    "for m_idx, model in enumerate(models):\n",
    "    if model == 'humans':\n",
    "        betas.append(None)\n",
    "    else:\n",
    "        model_name = 'ermi' if 'claude' in models[m_idx] else 'rmc' if 'rmc' in models[m_idx] else 'pfn' if 'syntheticnonlinear' in models[m_idx] else 'mi'\n",
    "        mse_distances, beta_range = np.load(f'{SYS_PATH}/categorisation/data/fitted_simulation/shepard1961_{model_name}_num_runs={num_runs}_num_blocks={num_blocks}_num_trials_per_block={num_trials_per_block}.npy', allow_pickle=True)\n",
    "        block_errors = np.load(f'{SYS_PATH}/categorisation/data/fitted_simulation/shepard1961_{model_name}_num_runs={num_runs}_num_blocks={num_blocks}_num_trials_per_block={num_trials_per_block}_block_errors.npy', allow_pickle=True)\n",
    "        betas.append(beta_range[np.argmin(mse_distances)])\n",
    "        # the block errors contain distance between humans and another model hence consider only idx==1\n",
    "        errors[m_idx] = block_errors[np.argmin(mse_distances), 1]\n",
    "\n",
    "assert len(models)==len(betas), \"Number of models and betas should be the same\"\n",
    "\n",
    "# load json file containing the human data\n",
    "import json\n",
    "with open(f'{SYS_PATH}/categorisation/data/human/nosofsky1994.json') as json_file:\n",
    "    data = json.load(json_file)\n",
    "\n",
    "human_data = []\n",
    "for i, rule in enumerate(data.keys()):\n",
    "    human_data.append(data[rule]['y'][:num_blocks])\n",
    "errors[0] = np.stack(human_data)\n"
   ]
  },
  {
   "cell_type": "code",
   "execution_count": null,
   "metadata": {},
   "outputs": [],
   "source": []
  },
  {
   "cell_type": "code",
   "execution_count": 227,
   "metadata": {},
   "outputs": [
    {
     "name": "stdout",
     "output_type": "stream",
     "text": [
      "        Mixed Linear Model Regression Results\n",
      "=====================================================\n",
      "Model:            MixedLM Dependent Variable: errors \n",
      "No. Observations: 60      Method:             REML   \n",
      "No. Groups:       6       Scale:              0.0049 \n",
      "Min. group size:  10      Log-Likelihood:     66.8418\n",
      "Max. group size:  10      Converged:          Yes    \n",
      "Mean group size:  10.0                               \n",
      "-----------------------------------------------------\n",
      "           Coef.  Std.Err.   z    P>|z| [0.025 0.975]\n",
      "-----------------------------------------------------\n",
      "Intercept   0.102    0.009 10.828 0.000  0.083  0.120\n",
      "trials     -0.022    0.003 -6.996 0.000 -0.028 -0.016\n",
      "Group Var   0.000    0.006                           \n",
      "=====================================================\n",
      "\n"
     ]
    },
    {
     "name": "stderr",
     "output_type": "stream",
     "text": [
      "/eris/scratch/ajagadish/conda-envs/pytorch-gpu/lib/python3.9/site-packages/statsmodels/base/model.py:604: ConvergenceWarning: Maximum Likelihood optimization failed to converge. Check mle_retvals\n",
      "  warnings.warn(\"Maximum Likelihood optimization failed to \"\n",
      "/eris/scratch/ajagadish/conda-envs/pytorch-gpu/lib/python3.9/site-packages/statsmodels/regression/mixed_linear_model.py:2200: ConvergenceWarning: Retrying MixedLM optimization with lbfgs\n",
      "  warnings.warn(\n",
      "/eris/scratch/ajagadish/conda-envs/pytorch-gpu/lib/python3.9/site-packages/statsmodels/regression/mixed_linear_model.py:2237: ConvergenceWarning: The MLE may be on the boundary of the parameter space.\n",
      "  warnings.warn(msg, ConvergenceWarning)\n"
     ]
    }
   ],
   "source": [
    "nb = 10\n",
    "model_id = 1\n",
    "model_errors = errors[model_id][...,:nb]#*100\n",
    "trials = np.arange(1, nb+1)\n",
    "trials = trials - trials.mean()\n",
    "\n",
    "import statsmodels.api as sm\n",
    "import statsmodels.formula.api as smf\n",
    "# make a dataframe from data which is a numpy array of shape (6 types, nb trials) into a datafram containing two columns: errors, trials and type\n",
    "data = pd.DataFrame({'errors': model_errors.flatten(), 'trials': np.tile(trials, model_errors.shape[0]), 'type': np.repeat(np.arange(model_errors.shape[0]), model_errors.shape[1])})\n",
    "md = smf.mixedlm(\"errors ~ trials\", data=data, groups=data[\"type\"])\n",
    "mdf = md.fit()\n",
    "print(mdf.summary())\n",
    "data.to_csv(f'{SYS_PATH}/categorisation/slopes', index=False)\n"
   ]
  },
  {
   "cell_type": "code",
   "execution_count": 228,
   "metadata": {},
   "outputs": [
    {
     "name": "stderr",
     "output_type": "stream",
     "text": [
      "<ipython-input-228-b8e0107c7911>:3: FutureWarning: \n",
      "\n",
      "The `ci` parameter is deprecated. Use `errorbar=('ci', 68)` for the same effect.\n",
      "\n",
      "  sns.lineplot(x='trials', y='errors', data=data, hue='type', ci=68)\n"
     ]
    },
    {
     "data": {
      "text/plain": [
       "<Axes: xlabel='trials', ylabel='errors'>"
      ]
     },
     "execution_count": 228,
     "metadata": {},
     "output_type": "execute_result"
    },
    {
     "data": {
      "image/png": "[encoded data removed]",
      "text/plain": [
       "<Figure size 720x576 with 1 Axes>"
      ]
     },
     "metadata": {
      "needs_background": "light"
     },
     "output_type": "display_data"
    }
   ],
   "source": [
    "# plot the erorrs over trials from the dataframe\n",
    "plt.figure(figsize=(10, 8))\n",
    "sns.lineplot(x='trials', y='errors', data=data, hue='type', ci=68)"
   ]
  },
  {
   "cell_type": "code",
   "execution_count": 229,
   "metadata": {},
   "outputs": [
    {
     "name": "stdout",
     "output_type": "stream",
     "text": [
      "0.10189518229166669 0.10268888888888889\n"
     ]
    },
    {
     "data": {
      "image/png": "[encoded data removed]",
      "text/plain": [
       "<Figure size 720x576 with 1 Axes>"
      ]
     },
     "metadata": {
      "needs_background": "light"
     },
     "output_type": "display_data"
    }
   ],
   "source": [
    "# show that errors for model decreases with trials faster than humans\n",
    "plt.figure(figsize=(10, 8))\n",
    "plt.plot(model_errors.mean(axis=0), label='model')\n",
    "plt.plot(errors[0].mean(axis=0), label='human')\n",
    "plt.legend(fontsize=FONTSIZE)\n",
    "\n",
    "\n",
    "print(model_errors.mean(axis=0).mean(),errors[0].mean(axis=0).mean())"
   ]
  },
  {
   "cell_type": "code",
   "execution_count": 250,
   "metadata": {},
   "outputs": [
    {
     "name": "stdout",
     "output_type": "stream",
     "text": [
      "[5.10824747e-05 1.23999661e+00 5.87707078e-02]\n"
     ]
    },
    {
     "data": {
      "image/png": "[encoded data removed]",
      "text/plain": [
       "<Figure size 720x576 with 1 Axes>"
      ]
     },
     "metadata": {
      "needs_background": "light"
     },
     "output_type": "display_data"
    }
   ],
   "source": [
    "import numpy as np\n",
    "from scipy.stats import linregress\n",
    "\n",
    "nb = 15\n",
    "model_id = 1\n",
    "model_errors = errors[model_id][...,:nb]#*100\n",
    "trials = np.arange(1, nb+1)\n",
    "trials = trials - trials.mean()\n",
    "\n",
    "import statsmodels.api as sm\n",
    "import statsmodels.formula.api as smf\n",
    "from scipy.optimize import curve_fit\n",
    "# make a dataframe from data which is a numpy array of shape (6 types, nb trials) into a datafram containing two columns: errors, trials and type\n",
    "data = pd.DataFrame({'errors': model_errors.flatten(), 'trials': np.tile(trials, model_errors.shape[0]), 'type': np.repeat(np.arange(model_errors.shape[0]), model_errors.shape[1])})\n",
    "\n",
    "# fit an exponential curve to the data\n",
    "def func(x, a, b, c):\n",
    "    return a * np.exp(-b * x) + c\n",
    "popt, pcov = curve_fit(func, data['trials'], data['errors'])\n",
    "print(popt)\n",
    "\n",
    "# mean data across types\n",
    "data_mean = data.groupby('trials').mean().reset_index()\n",
    "plt.figure(figsize=(10, 8))\n",
    "plt.plot(data_mean['trials'], data_mean.errors, 'b-', label='data')\n",
    "plt.plot(data_mean['trials'], func(data_mean['trials'], *popt), 'r-', label='fit')\n",
    "plt.legend(fontsize=FONTSIZE)\n",
    "plt.show()"
   ]
  },
  {
   "cell_type": "markdown",
   "metadata": {
    "jp-MarkdownHeadingCollapsed": true,
    "tags": []
   },
   "source": [
    "# Smith 1998"
   ]
  },
  {
   "cell_type": "code",
   "execution_count": 3,
   "metadata": {},
   "outputs": [],
   "source": [
    "import numpy as np\n",
    "ermi_betas = np.load(f'{SYS_PATH}/categorisation/data/model_comparison/devraj2022_env=claude_generated_tasks_paramsNA_dim6_data500_tasks12910_pversion5_stage2_model=transformer_num_episodes500000_num_hidden=256_lr0.0003_num_layers=6_d_model=64_num_head=8_noise0.0_shuffleTrue_run=1_soft_sigmoid_differential_evolution.npz', allow_pickle=True)['betas']\n",
    "mi_betas = np.load(f'{SYS_PATH}/categorisation/data/model_comparison/devraj2022_env=dim6synthetic_model=transformer_num_episodes500000_num_hidden=256_lr0.0003_num_layers=6_d_model=64_num_head=8_noise0.0_shuffleTrue_run=2_synthetic_soft_sigmoid_differential_evolution.npz', allow_pickle=True)['betas']\n",
    "pfn_betas = np.load(f'{SYS_PATH}/categorisation/data/model_comparison/devraj2022_env=dim6synthetic_model=transformer_num_episodes500000_num_hidden=256_lr0.0003_num_layers=6_d_model=64_num_head=8_noise0.0_shuffleTrue_run=2_syntheticnonlinear_soft_sigmoid_differential_evolution.npz', allow_pickle=True)['betas']"
   ]
  },
  {
   "cell_type": "code",
   "execution_count": 4,
   "metadata": {},
   "outputs": [
    {
     "name": "stdout",
     "output_type": "stream",
     "text": [
      "ermi betas:  0.09495665880995116 0.010071444232304239\n",
      "mi betas:  0.17172268179039654 0.01598052503223283\n",
      "pfn betas:  0.13771849993346905 0.01524141931165501\n"
     ]
    }
   ],
   "source": [
    "# print mean and sem for betas\n",
    "print('ermi betas: ', ermi_betas.mean(), ermi_betas.std()/np.sqrt(ermi_betas.shape[0]))\n",
    "print('mi betas: ', mi_betas.mean(), mi_betas.std()/np.sqrt(mi_betas.shape[0]))\n",
    "print('pfn betas: ', pfn_betas.mean(), pfn_betas.std()/np.sqrt(pfn_betas.shape[0]))"
   ]
  },
  {
   "cell_type": "code",
   "execution_count": 7,
   "metadata": {},
   "outputs": [
    {
     "name": "stdout",
     "output_type": "stream",
     "text": [
      "      errors  trials  model\n",
      "0   0.660546    -4.5      1\n",
      "1   0.616055    -3.5      1\n",
      "2   0.559934    -2.5      1\n",
      "3   0.521320    -1.5      1\n",
      "4   0.541014    -0.5      1\n",
      "5   0.473330     0.5      1\n",
      "6   0.497495     1.5      1\n",
      "7   0.484545     2.5      1\n",
      "8   0.515658     3.5      1\n",
      "9   0.483568     4.5      1\n",
      "10  0.693199    -4.5     -1\n",
      "11  0.687987    -3.5     -1\n",
      "12  0.637660    -2.5     -1\n",
      "13  0.597327    -1.5     -1\n",
      "14  0.602667    -0.5     -1\n",
      "15  0.580879     0.5     -1\n",
      "16  0.585506     1.5     -1\n",
      "17  0.558043     2.5     -1\n",
      "18  0.562451     3.5     -1\n",
      "19  0.538958     4.5     -1\n"
     ]
    }
   ],
   "source": [
    "models = ['smith1998', 'ermi', 'synthetic' 'syntheticnonlinear']#,'human',\n",
    "model = 'syntheticnonlinear'\n",
    "if model=='smith1998':\n",
    "    import json \n",
    "    with open(f'{SYS_PATH}/categorisation/data/human/{model}.json') as file:\n",
    "        human_data = json.load(file)\n",
    "\n",
    "    # human data procesing\n",
    "    fits_gcm, fits_pm = {}, {}\n",
    "    mses_gcm = np.array(human_data['exemplar']['y'])\n",
    "    mses_pm = np.array(human_data['prototype']['y'])\n",
    "    # std error of mean across participants set to 0.\n",
    "    stds_gcm = np.zeros_like(mses_gcm)\n",
    "    stds_pm = np.zeros_like(mses_pm)\n",
    "    # unsquezze to add a dimension for participants\n",
    "    mses_gcm = np.expand_dims(mses_gcm, axis=0)\n",
    "    mses_pm = np.expand_dims(mses_pm, axis=0)\n",
    "\n",
    "else:\n",
    "\n",
    "    fits_gcm = np.load(f'{SYS_PATH}/categorisation/data/fitted_simulation/devraj2022_gcm_runs=1_iters=10_blocks=11_loss=mse_transfer_model={model}.npz')\n",
    "    fits_pm = np.load(f'{SYS_PATH}/categorisation/data/fitted_simulation/devraj2022_pm_runs=1_iters=10_blocks=11_loss=mse_transfer_model={model}.npz')\n",
    "    # load mses\n",
    "    mses_gcm = fits_gcm['lls']\n",
    "    mses_pm = fits_pm['lls']\n",
    "    # mean mses across participants: mses are of shape (n_runs=1, n_participants, n_conditions=1, n_blocks)\n",
    "    mses_gcm = np.squeeze(mses_gcm)\n",
    "    mses_pm = np.squeeze(mses_pm)\n",
    "    # std error of mean across participants\n",
    "    stds_gcm = np.std(mses_gcm, axis=0)/np.sqrt(len(mses_gcm)-1)\n",
    "    stds_pm = np.std(mses_pm, axis=0)/np.sqrt(len(mses_pm)-1)\n",
    "\n",
    "# keep only the first num_blocks (useful when using smith1998 data)\n",
    "num_blocks = 10 if 'smith1998' in models else 11\n",
    "mses_gcm = mses_gcm[:, :num_blocks].mean(0)\n",
    "mses_pm = mses_pm[:, :num_blocks].mean(0)\n",
    "stds_gcm = stds_gcm[:num_blocks].mean(0)\n",
    "stds_pm = stds_pm[:num_blocks].mean(0)\n",
    "\n",
    "trials = np.arange(1, num_blocks+1)\n",
    "trials = trials - trials.mean()\n",
    "\n",
    "# make a dataframe that comes errors of mses_gcm and mses_pm, trials and models (gcm or pm)\n",
    "data = pd.DataFrame({'errors': np.concatenate((mses_gcm, mses_pm)), 'trials': np.tile(trials, 2), 'model': np.repeat([1, -1], num_blocks)})\n",
    "print(data)"
   ]
  },
  {
   "cell_type": "code",
   "execution_count": 8,
   "metadata": {},
   "outputs": [
    {
     "name": "stdout",
     "output_type": "stream",
     "text": [
      "         Mixed Linear Model Regression Results\n",
      "=======================================================\n",
      "Model:              MixedLM Dependent Variable: errors \n",
      "No. Observations:   20      Method:             REML   \n",
      "No. Groups:         2       Scale:              0.0008 \n",
      "Min. group size:    10      Log-Likelihood:     26.3239\n",
      "Max. group size:    10      Converged:          Yes    \n",
      "Mean group size:    10.0                               \n",
      "-------------------------------------------------------\n",
      "             Coef.  Std.Err.   z    P>|z| [0.025 0.975]\n",
      "-------------------------------------------------------\n",
      "Intercept     0.570    0.021 27.308 0.000  0.529  0.611\n",
      "trials       -0.017    0.002 -7.655 0.000 -0.021 -0.012\n",
      "model        -0.035    0.021 -1.656 0.098 -0.075  0.006\n",
      "trials:model -0.000    0.002 -0.124 0.902 -0.005  0.004\n",
      "Group Var     0.001                                    \n",
      "=======================================================\n",
      "\n"
     ]
    },
    {
     "name": "stderr",
     "output_type": "stream",
     "text": [
      "/mpcdf/soft/CentOS_7/packages/x86_64/anaconda/3/2021.11/lib/python3.9/site-packages/statsmodels/regression/mixed_linear_model.py:2237: ConvergenceWarning: The MLE may be on the boundary of the parameter space.\n",
      "  warnings.warn(msg, ConvergenceWarning)\n",
      "/mpcdf/soft/CentOS_7/packages/x86_64/anaconda/3/2021.11/lib/python3.9/site-packages/statsmodels/regression/mixed_linear_model.py:2261: ConvergenceWarning: The Hessian matrix at the estimated parameter values is not positive definite.\n",
      "  warnings.warn(msg, ConvergenceWarning)\n"
     ]
    }
   ],
   "source": [
    "import statsmodels.api as sm\n",
    "import statsmodels.formula.api as smf\n",
    "\n",
    "# run an lme (probably only with an ri) predicting error using trial and model as predictors, and test the interaction between trial and model \n",
    "md = smf.mixedlm(\"errors ~ trials*model\", data=data, groups=data[\"model\"], )\n",
    "mdf = md.fit()\n",
    "print(mdf.summary())\n",
    "# say it is from model \n"
   ]
  },
  {
   "cell_type": "raw",
   "metadata": {},
   "source": []
  },
  {
   "cell_type": "code",
   "execution_count": null,
   "metadata": {},
   "outputs": [
    {
     "name": "stdout",
     "output_type": "stream",
     "text": [
      "                            OLS Regression Results                            \n",
      "==============================================================================\n",
      "Dep. Variable:                 errors   R-squared:                       0.879\n",
      "Model:                            OLS   Adj. R-squared:                  0.856\n",
      "Method:                 Least Squares   F-statistic:                     38.66\n",
      "Date:                Wed, 24 Jan 2024   Prob (F-statistic):           1.47e-07\n",
      "Time:                        18:17:14   Log-Likelihood:                 31.532\n",
      "No. Observations:                  20   AIC:                            -55.06\n",
      "Df Residuals:                      16   BIC:                            -51.08\n",
      "Df Model:                           3                                         \n",
      "Covariance Type:            nonrobust                                         \n",
      "================================================================================\n",
      "                   coef    std err          t      P>|t|      [0.025      0.975]\n",
      "--------------------------------------------------------------------------------\n",
      "Intercept        0.6257      0.013     50.046      0.000       0.599       0.652\n",
      "trials          -0.0055      0.004     -1.261      0.226      -0.015       0.004\n",
      "model           -0.1299      0.013    -10.389      0.000      -0.156      -0.103\n",
      "trials:model    -0.0111      0.004     -2.543      0.022      -0.020      -0.002\n",
      "==============================================================================\n",
      "Omnibus:                        3.268   Durbin-Watson:                   1.665\n",
      "Prob(Omnibus):                  0.195   Jarque-Bera (JB):                1.541\n",
      "Skew:                           0.606   Prob(JB):                        0.463\n",
      "Kurtosis:                       3.618   Cond. No.                         2.87\n",
      "==============================================================================\n",
      "\n",
      "Notes:\n",
      "[1] Standard Errors assume that the covariance matrix of the errors is correctly specified.\n"
     ]
    }
   ],
   "source": [
    "# find the slope of the errors over trials for each model\n",
    "import statsmodels.api as sm\n",
    "import statsmodels.formula.api as smf\n",
    "# fit a linear model to the data\n",
    "md = smf.ols(\"errors ~ trials*model\", data=data)\n",
    "mdf = md.fit()\n",
    "print(mdf.summary())"
   ]
  }
 ],
 "metadata": {
  "kernelspec": {
   "display_name": "Python 3",
   "language": "python",
   "name": "python3"
  },
  "language_info": {
   "codemirror_mode": {
    "name": "ipython",
    "version": 3
   },
   "file_extension": ".py",
   "mimetype": "text/x-python",
   "name": "python",
   "nbconvert_exporter": "python",
   "pygments_lexer": "ipython3",
   "version": "3.9.7"
  }
 },
 "nbformat": 4,
 "nbformat_minor": 4
}
