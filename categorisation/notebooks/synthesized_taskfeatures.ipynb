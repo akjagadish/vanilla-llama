{
 "cells": [
  {
   "cell_type": "code",
   "execution_count": 16,
   "id": "a19a4850-5a07-4e2a-9918-e21261235d9d",
   "metadata": {
    "tags": []
   },
   "outputs": [],
   "source": [
    "import sys\n",
    "sys.path.append('/raven/u/ajagadish/vanilla-llama/categorisation/')\n",
    "import pandas as pd\n",
    "import numpy as np\n",
    "import matplotlib.pyplot as plt\n",
    "import seaborn as sns\n",
    "import torch\n",
    "from collections import Counter\n",
    "FONTSIZE=22\n",
    "SYS_PATH = '/u/ajagadish/vanilla-llama' #'/raven/u/ajagadish/vanilla-llama/'"
   ]
  },
  {
   "cell_type": "code",
   "execution_count": 37,
   "id": "1bb89f9d-be78-45d1-92f7-838aa3175aad",
   "metadata": {},
   "outputs": [],
   "source": [
    "def plot_frequency_tasklabels(file_name, path='/u/ajagadish/vanilla-llama/categorisation/data/tasklabels', feature_names=True, pairs=True, top_labels=50):\n",
    "\n",
    "    df = pd.read_csv(f'{path}/{file_name}.csv')\n",
    "    df.feature_names = df['feature_names'].apply(lambda x: eval(x))\n",
    "    df.category_names = df['category_names'].apply(lambda x: eval(x))\n",
    "    \n",
    "    def to_lower(ff):\n",
    "        return [x.lower() for x in ff]\n",
    "    \n",
    "    df.feature_names = df['feature_names'].apply(lambda x: to_lower(x))\n",
    "    df.category_names = df['category_names'].apply(lambda x: to_lower(x))\n",
    "\n",
    "    # name of the column containing the feature names\n",
    "    column_name = 'feature_names' if feature_names else 'category_names'\n",
    "    # count of number of times a type of features occurs\n",
    "    list_counts = Counter([tuple(features) for features in df[column_name]] if pairs else np.stack(df[column_name].values).reshape(-1))\n",
    "\n",
    "    # sort the Counter by counts in descending order\n",
    "    sorted_list_counts = sorted(list_counts.items(), key=lambda x: x[1], reverse=True)\n",
    "\n",
    "    # extract the counts and names for the top 50 labels\n",
    "    task_labels = np.array([task_label[0] for task_label in sorted_list_counts[:top_labels]])\n",
    "    label_counts= np.array([task_label[1] for task_label in sorted_list_counts[:top_labels]])\n",
    "    label_names = ['-'.join(task_labels[idx]) for idx in range(len(task_labels))] if pairs else task_labels\n",
    "\n",
    "    # plot the bars of labels and counts\n",
    "    f, ax = plt.subplots(1, 1, figsize=(15,10))\n",
    "    ax.bar(label_names, label_counts)\n",
    "    plt.xticks(label_names, label_names, rotation=90, fontsize=FONTSIZE-2)#6.5)\n",
    "    plt.yticks(fontsize=FONTSIZE-2)#6)\n",
    "    ax.set_xlabel('Features' if feature_names else 'Categories', fontsize=FONTSIZE)\n",
    "    ax.set_ylabel('Counts', fontsize=FONTSIZE)\n",
    "    ax.set_title(f'Top {top_labels}', fontsize=FONTSIZE)\n",
    "    sns.despine()\n",
    "    f.tight_layout()\n",
    "    plt.show()\n",
    "    \n",
    "    f.savefig(f'{SYS_PATH}/categorisation/figures/frequency_plot_tasklabels_{file_name}_{column_name}_paired={pairs}_top{top_labels}.svg', bbox_inches='tight', dpi=300)\n"
   ]
  },
  {
   "cell_type": "code",
   "execution_count": 39,
   "id": "963a0c57-7c19-41f8-ac23-617f7191cfc0",
   "metadata": {},
   "outputs": [],
   "source": [
    "plot_frequency_tasklabels('claude_generated_tasklabels_paramsNA_dim3_tasks23421_pversion5', feature_names=False, pairs=False)\n",
    "plot_frequency_tasklabels('claude_generated_tasklabels_paramsNA_dim3_tasks23421_pversion5', feature_names=True, pairs=False)\n",
    "\n",
    "plot_frequency_tasklabels('claude_generated_tasklabels_paramsNA_dim4_tasks20690_pversion5', feature_names=False, pairs=False)\n",
    "plot_frequency_tasklabels('claude_generated_tasklabels_paramsNA_dim4_tasks20690_pversion5', feature_names=True, pairs=False)\n",
    "\n",
    "plot_frequency_tasklabels('claude_generated_tasklabels_paramsNA_dim6_tasks13693_pversion5', feature_names=False, pairs=False)\n",
    "plot_frequency_tasklabels('claude_generated_tasklabels_paramsNA_dim6_tasks13693_pversion5', feature_names=True, pairs=False)"
   ]
  },
  {
   "cell_type": "code",
   "execution_count": null,
   "id": "1433fb90-8f9a-4eae-968c-534747fb9129",
   "metadata": {},
   "outputs": [],
   "source": []
  }
 ],
 "metadata": {
  "kernelspec": {
   "display_name": "Python 3",
   "language": "python",
   "name": "python3"
  },
  "language_info": {
   "codemirror_mode": {
    "name": "ipython",
    "version": 3
   },
   "file_extension": ".py",
   "mimetype": "text/x-python",
   "name": "python",
   "nbconvert_exporter": "python",
   "pygments_lexer": "ipython3",
   "version": "3.9.7"
  }
 },
 "nbformat": 4,
 "nbformat_minor": 5
}
