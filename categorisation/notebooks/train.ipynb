{
 "cells": [
  {
   "cell_type": "code",
   "execution_count": 1,
   "id": "761688cf-9b87-4a25-b83f-a0812bfdd26b",
   "metadata": {},
   "outputs": [],
   "source": [
    "import pandas as pd\n",
    "import numpy as np\n",
    "import sys\n",
    "sys.path.append('/raven/u/ajagadish/vanilla-llama/categorisation/')\n",
    "sys.path.append('/raven/u/ajagadish/vanilla-llama/categorisation/data')\n",
    "sys.path.append('/raven/u/ajagadish/vanilla-llama/categorisation/rl2')"
   ]
  },
  {
   "cell_type": "code",
   "execution_count": 2,
   "id": "ce218c65-6eeb-4f7a-9b60-ba8dd28a545f",
   "metadata": {},
   "outputs": [],
   "source": [
    "COLORS = {'compositional':'#117733', \n",
    "          'noncompositional':'#96CAA7',\n",
    "          'lr':'#88CCEE',#882255\n",
    "          'svm':'#CC6677',\n",
    "          'optimal': '#D6BF4D',\n",
    "          'mean_tracker':'#882255', #332288\n",
    "          'mean_tracker_compositional':'#882255', #AA4499',\n",
    "          'rbf_nocontext_nomemory':'#44AA99', \n",
    "          'simple_grammar_constrained':'#44AA99',\n",
    "          'simple_grammar_constrained_noncompositonal':'#EF9EBB',\n",
    "          'rl2':'#E2C294', #'#0571D0', \n",
    "          'metal':'#DA9138', #\"#D55E00\", \n",
    "          }\n",
    "FONTSIZE=20"
   ]
  },
  {
   "cell_type": "raw",
   "id": "7599065f-0504-4d9c-9927-332d22029d25",
   "metadata": {},
   "source": []
  },
  {
   "cell_type": "code",
   "execution_count": 3,
   "id": "b0eaf91c-b74a-4948-a54c-d9abf515d2a2",
   "metadata": {},
   "outputs": [],
   "source": [
    "from envs import CategorisationTask"
   ]
  },
  {
   "cell_type": "code",
   "execution_count": null,
   "id": "cf4ace97-be00-46e3-8fef-51547149f865",
   "metadata": {},
   "outputs": [],
   "source": []
  },
  {
   "cell_type": "raw",
   "id": "211d1990-68e9-4651-bcf9-82efdbdc22d5",
   "metadata": {},
   "source": [
    "import torch\n",
    "import torch.nn as nn\n",
    "import torch.nn.utils.rnn as rnn_utils\n",
    "\n",
    "class LSTM(nn.Module):\n",
    "    def __init__(self, input_size, hidden_size, num_layers):\n",
    "        super(LSTM, self).__init__()\n",
    "        self.lstm = nn.LSTM(input_size, hidden_size, num_layers)\n",
    "\n",
    "    def forward(self, inputs, lengths):\n",
    "        # Sort the batch in descending order of sequence length\n",
    "        sorted_lengths, sorted_idx = lengths.sort(0, descending=True)\n",
    "        sorted_inputs = inputs[sorted_idx]\n",
    "\n",
    "        # Pack the sorted batch\n",
    "        packed_inputs = rnn_utils.pack_sequence(sorted_inputs, enforce_sorted=False)\n",
    "\n",
    "        # Pass the packed sequence to the LSTM\n",
    "        packed_outputs, _ = self.lstm(packed_inputs)\n",
    "\n",
    "        # Unpack the output\n",
    "        outputs, _ = rnn_utils.pad_packed_sequence(packed_outputs)\n",
    "\n",
    "        # Unsort the batch\n",
    "        _, unsorted_idx = sorted_idx.sort(0)\n",
    "        outputs = outputs[unsorted_idx]\n",
    "\n",
    "        return outputs\n",
    "\n",
    "# Example usage\n",
    "input_size = 10\n",
    "hidden_size = 20\n",
    "num_layers = 2\n",
    "batch_size = 3\n",
    "seq_lengths = [5, 3, 4]\n",
    "max_seq_length = max(seq_lengths)\n",
    "\n",
    "# Generate some random input data\n",
    "inputs = [torch.randn(seq_length, input_size) for seq_length in seq_lengths]\n",
    "\n",
    "# Pad the input data to the maximum sequence length\n",
    "padded_inputs = torch.zeros(batch_size, max_seq_length, input_size)\n",
    "for i, seq_length in enumerate(seq_lengths):\n",
    "    padded_inputs[i, :seq_length, :] = inputs[i]\n",
    "\n",
    "# Convert the input data to a PackedSequence\n",
    "packed_inputs = rnn_utils.pack_sequence([padded_inputs[i, :seq_length, :] for i, seq_length in enumerate(seq_lengths)], enforce_sorted=False)\n",
    "\n",
    "# Create the LSTM model\n",
    "lstm = LSTM(input_size, hidden_size, num_layers)"
   ]
  },
  {
   "cell_type": "code",
   "execution_count": null,
   "id": "4129adf3-71e6-41e3-9249-461b0ff9fb6b",
   "metadata": {},
   "outputs": [],
   "source": []
  },
  {
   "cell_type": "code",
   "execution_count": null,
   "id": "b530db8f-6392-4485-b8e5-0f9fec24a76c",
   "metadata": {},
   "outputs": [],
   "source": [
    "# Pass the input data to the LSTM\n",
    "outputs = lstm(packed_inputs.data, packed_inputs.batch_sizes)\n",
    "\n",
    "# Print the output shape\n",
    "print(outputs.shape)"
   ]
  },
  {
   "cell_type": "code",
   "execution_count": null,
   "id": "a5d67fc0-2715-4ec4-a69a-a4c5ab992324",
   "metadata": {},
   "outputs": [],
   "source": []
  },
  {
   "cell_type": "code",
   "execution_count": 10,
   "id": "1c5da697-6f03-4cb8-96ba-8451fb4b4ffd",
   "metadata": {},
   "outputs": [],
   "source": [
    "data = pd.read_csv('../data/claude_generated_tasks_paramsNA_dim3_data100_tasks1000.csv')"
   ]
  },
  {
   "cell_type": "code",
   "execution_count": null,
   "id": "0426673d-1096-480f-9448-168a4448ef83",
   "metadata": {},
   "outputs": [],
   "source": []
  },
  {
   "cell_type": "markdown",
   "id": "505f973f-72fb-4877-a02d-8ef5059028b3",
   "metadata": {
    "tags": []
   },
   "source": [
    "### eval model per task per trial"
   ]
  },
  {
   "cell_type": "code",
   "execution_count": 3,
   "id": "0531438f-62bf-4ee5-a36a-7bdccc4b39e1",
   "metadata": {},
   "outputs": [
    {
     "name": "stderr",
     "output_type": "stream",
     "text": [
      "/mpcdf/soft/SLE_15/packages/x86_64/anaconda/3/2021.11/lib/python3.9/site-packages/scipy/__init__.py:146: UserWarning: A NumPy version >=1.16.5 and <1.23.0 is required for this version of SciPy (detected version 1.24.2\n",
      "  warnings.warn(f\"A NumPy version >={np_minversion} and <{np_maxversion}\"\n"
     ]
    }
   ],
   "source": [
    "import torch\n",
    "from rl2.envs import CategorisationTask\n",
    "import argparse\n",
    "from baseline_classifiers import SVMModel, LogisticRegressionModel\n",
    "import matplotlib.pyplot as plt\n",
    "from rl2.evaluate import evaluate_against_baselines, evaluate\n",
    "import seaborn as sns"
   ]
  },
  {
   "cell_type": "code",
   "execution_count": 4,
   "id": "92cf9ca6-1e8e-431a-b1ff-445278f2f1cd",
   "metadata": {},
   "outputs": [],
   "source": [
    "env_name = '/raven/u/ajagadish/vanilla-llama/categorisation/data/llama_generated_tasks_params65B_dim3_data8_tasks14500.csv'\n",
    "model_path = '../trained_models/env=llama_generated_tasks_params65B_dim3_data8_tasks14500_num_episodes1000000_num_hidden=128_lr0.0003_run=0.pt'\n",
    "mode = 'val'\n",
    "return_all = True"
   ]
  },
  {
   "cell_type": "markdown",
   "id": "7ce0b0dc-2c7b-4063-b119-ba01b73a2c3d",
   "metadata": {
    "jp-MarkdownHeadingCollapsed": true,
    "tags": []
   },
   "source": [
    "#### using predict instead of predict_prob and choosing greedily on that"
   ]
  },
  {
   "cell_type": "code",
   "execution_count": 12,
   "id": "730bd268-18dd-40f6-a47c-060b90dfa049",
   "metadata": {},
   "outputs": [
    {
     "name": "stdout",
     "output_type": "stream",
     "text": [
      "error\n",
      "error\n",
      "error\n",
      "error\n",
      "error\n",
      "error\n",
      "error\n"
     ]
    },
    {
     "name": "stderr",
     "output_type": "stream",
     "text": [
      "/mpcdf/soft/SLE_15/packages/x86_64/anaconda/3/2021.11/lib/python3.9/site-packages/sklearn/linear_model/_sag.py:328: ConvergenceWarning: The max_iter was reached which means the coef_ did not converge\n",
      "  warnings.warn(\"The max_iter was reached which means \"\n"
     ]
    },
    {
     "name": "stdout",
     "output_type": "stream",
     "text": [
      "error\n",
      "error\n",
      "error\n",
      "error\n"
     ]
    },
    {
     "name": "stderr",
     "output_type": "stream",
     "text": [
      "/mpcdf/soft/SLE_15/packages/x86_64/anaconda/3/2021.11/lib/python3.9/site-packages/sklearn/linear_model/_sag.py:328: ConvergenceWarning: The max_iter was reached which means the coef_ did not converge\n",
      "  warnings.warn(\"The max_iter was reached which means \"\n"
     ]
    },
    {
     "name": "stdout",
     "output_type": "stream",
     "text": [
      "error\n",
      "error\n",
      "error\n",
      "error\n"
     ]
    },
    {
     "name": "stderr",
     "output_type": "stream",
     "text": [
      "/mpcdf/soft/SLE_15/packages/x86_64/anaconda/3/2021.11/lib/python3.9/site-packages/sklearn/linear_model/_sag.py:328: ConvergenceWarning: The max_iter was reached which means the coef_ did not converge\n",
      "  warnings.warn(\"The max_iter was reached which means \"\n",
      "/mpcdf/soft/SLE_15/packages/x86_64/anaconda/3/2021.11/lib/python3.9/site-packages/sklearn/linear_model/_sag.py:328: ConvergenceWarning: The max_iter was reached which means the coef_ did not converge\n",
      "  warnings.warn(\"The max_iter was reached which means \"\n"
     ]
    }
   ],
   "source": [
    "# load environment\n",
    "env = CategorisationTask(data=env_name, mode=mode)\n",
    "\n",
    "# load models\n",
    "_, _, _, done, info = env.reset()\n",
    "inputs, targets = info['inputs'], info['targets']\n",
    "baseline_model_choices, true_choices, tasks = [], [], []\n",
    "num_tasks =targets.shape[0]\n",
    "\n",
    "num_trials = env.max_steps\n",
    "\n",
    "# loop over dataset making predictions for next trial using model trained on all previous trials\n",
    "for task in range(num_tasks):\n",
    "    trial = env.max_steps-1 # only evaluate on last trial; not possible to evaluate on first trial as it will only have one class\n",
    "    # loop over trials\n",
    "    while trial < num_trials:\n",
    "        trial_inputs = inputs[task, :trial]\n",
    "        trial_targets = targets[task, :trial]\n",
    "        #print(trial, trial_inputs, trial_targets, trial_inputs.shape)\n",
    "        try:\n",
    "            lr_model = LogisticRegressionModel(trial_inputs, trial_targets)\n",
    "            svm_model = SVMModel(trial_inputs, trial_targets)\n",
    "            lr_model_choice = lr_model.predict(inputs[task, trial:trial+1])\n",
    "            svm_model_choice = svm_model.predict(inputs[task, trial:trial+1])\n",
    "            lr_model_full_choice = LogisticRegressionModel(inputs[task], targets[task]).predict(inputs[task, trial:trial+1])\n",
    "            svm_model_full_choice = SVMModel(inputs[task], targets[task]).predict(inputs[task, trial:trial+1])\n",
    "            #print(lr_model.predict(inputs[task, trial:trial+1]), svm_model.predict(inputs[task, trial:trial+1]))\n",
    "            #print(torch.tensor([lr_model_choice, svm_model_choice]))\n",
    "            true_choice = targets[task, trial:trial+1]\n",
    "            baseline_model_choices.append(torch.tensor([lr_model_choice, svm_model_choice, lr_model_full_choice, svm_model_full_choice, true_choice]))\n",
    "            true_choices.append(true_choice)\n",
    "            tasks.append(task)\n",
    "        except:\n",
    "            print('error')\n",
    "        trial += 1"
   ]
  },
  {
   "cell_type": "code",
   "execution_count": 13,
   "id": "23a59cdd-f00d-4e51-8b71-98a5c5e2961e",
   "metadata": {},
   "outputs": [],
   "source": [
    "baseline_model_choices, true_choices = torch.stack(baseline_model_choices).squeeze(), torch.stack(true_choices).squeeze()"
   ]
  },
  {
   "cell_type": "code",
   "execution_count": 14,
   "id": "247c4a94-62ef-48c4-99c4-b8a86b03e460",
   "metadata": {},
   "outputs": [
    {
     "data": {
      "text/plain": [
       "[tensor(0.4120), tensor(0.5120), tensor(0.7017), tensor(0.8940), tensor(1.)]"
      ]
     },
     "execution_count": 14,
     "metadata": {},
     "output_type": "execute_result"
    }
   ],
   "source": [
    "[(baseline_model_choices[:, model_id] == true_choices).sum()/len(tasks) for model_id in range(5)]"
   ]
  },
  {
   "cell_type": "markdown",
   "id": "fdfb907c-f73e-4bfe-ad6b-0df2a233e204",
   "metadata": {
    "jp-MarkdownHeadingCollapsed": true,
    "tags": []
   },
   "source": [
    "#### choosing choices greedily on predicted probs"
   ]
  },
  {
   "cell_type": "code",
   "execution_count": 15,
   "id": "9bb59e2c-8317-4970-9449-ae271f40da8e",
   "metadata": {
    "collapsed": true,
    "jupyter": {
     "outputs_hidden": true
    },
    "tags": []
   },
   "outputs": [
    {
     "name": "stdout",
     "output_type": "stream",
     "text": [
      "error\n",
      "error\n",
      "error\n",
      "error\n",
      "error\n",
      "error\n",
      "error\n",
      "error\n",
      "error\n",
      "error\n",
      "error\n",
      "error\n",
      "error\n",
      "error\n",
      "error\n"
     ]
    }
   ],
   "source": [
    "a_, model_, true_ = evaluate_against_baselines(env_name, model_path, mode, return_all)"
   ]
  },
  {
   "cell_type": "code",
   "execution_count": 16,
   "id": "a79d77b3-4023-4523-8be7-9357f35dee83",
   "metadata": {},
   "outputs": [
    {
     "data": {
      "text/plain": [
       "[tensor(0.4120), tensor(0.4410), tensor(0.6060)]"
      ]
     },
     "execution_count": 16,
     "metadata": {},
     "output_type": "execute_result"
    }
   ],
   "source": [
    "a_"
   ]
  },
  {
   "cell_type": "code",
   "execution_count": null,
   "id": "165eb08a-efb8-4778-b5fa-86287381ab27",
   "metadata": {},
   "outputs": [],
   "source": []
  },
  {
   "cell_type": "code",
   "execution_count": 6,
   "id": "f7d038df-4772-4b41-be35-295c19d62533",
   "metadata": {},
   "outputs": [
    {
     "data": {
      "image/png": "[encoded data removed]",
      "text/plain": [
       "<Figure size 360x360 with 1 Axes>"
      ]
     },
     "metadata": {
      "needs_background": "light"
     },
     "output_type": "display_data"
    }
   ],
   "source": [
    "# performance = np.stack(performance)\n",
    "# means = performance.mean(0)\n",
    "# std_errors = performance.std(0)#/np.sqrt(num_tasks-1)\n",
    "conditions = ['LR', 'SVM', 'Meta-L']\n",
    "colors = [COLORS['lr'], COLORS['svm'], COLORS['metal']]\n",
    "FIGSIZE=(5,5)\n",
    "f, ax = plt.subplots(1, 1, figsize=FIGSIZE)\n",
    "## bar plot\n",
    "ax.bar(np.arange(0, len(conditions)), a_, color=colors, label=conditions)\n",
    "# ax.errorbar(np.arange(0,len(conditions)), means, yerr=std_errors, color='k', lw=3, fmt='o') #linestyle='solid')\n",
    "\n",
    "# ## plot individual points\n",
    "# w = 0.5\n",
    "ax.hlines(0.5, -0.5, 2.5, color='k', linestyles='dotted', lw=5)#, label='Random')\n",
    "# for i in range(len(conditions)):\n",
    "#     # distribute scatter randomly across whole width of bar\n",
    "#     ax.scatter(i + np.random.random(performance.shape[0]) * w - w / 2, performance[:, i], color='k', alpha=.3, zorder=3)\n",
    "\n",
    "## formatting    \n",
    "# ax.set_ylim(ymin=0., ymax=1.)\n",
    "plt.xticks(np.arange(0,len(conditions)))\n",
    "plt.yticks(fontsize=FONTSIZE-2)\n",
    "ax.set_xlabel('Models', fontsize=FONTSIZE)\n",
    "ax.set_ylabel(f'Score', fontsize=FONTSIZE)#$a_{trials}$\n",
    "ax.set_xticklabels(conditions, fontsize=FONTSIZE-2)#['', '']\n",
    "sns.despine()\n",
    "f.tight_layout()\n",
    "plt.show()"
   ]
  },
  {
   "cell_type": "raw",
   "id": "8cb8b366-54f1-46b9-925d-e68f45fef845",
   "metadata": {},
   "source": []
  },
  {
   "cell_type": "code",
   "execution_count": 9,
   "id": "1331a2d4-49bb-4e29-bc04-fbd28177051d",
   "metadata": {},
   "outputs": [
    {
     "data": {
      "text/plain": [
       "(array([[808.,   0.,   0.,   0.,   0.,   0.,   0.,   0.,   0., 362.],\n",
       "        [751.,   0.,   0.,   0.,   0.,   0.,   0.,   0.,   0., 419.],\n",
       "        [579.,   0.,   0.,   0.,   0.,   0.,   0.,   0.,   0., 591.]]),\n",
       " array([0. , 0.1, 0.2, 0.3, 0.4, 0.5, 0.6, 0.7, 0.8, 0.9, 1. ]),\n",
       " <a list of 3 BarContainer objects>)"
      ]
     },
     "execution_count": 9,
     "metadata": {},
     "output_type": "execute_result"
    },
    {
     "data": {
      "image/png": "[encoded data removed]",
      "text/plain": [
       "<Figure size 360x360 with 1 Axes>"
      ]
     },
     "metadata": {
      "needs_background": "light"
     },
     "output_type": "display_data"
    }
   ],
   "source": [
    "FIGSIZE=(5,5)\n",
    "f, ax = plt.subplots(1, 1, figsize=FIGSIZE)\n",
    "ax.hist(true_.numpy(), color='k')\n",
    "ax.hist(model_.numpy())"
   ]
  },
  {
   "cell_type": "code",
   "execution_count": null,
   "id": "8745916d-c79a-4fbc-b6f6-d39710700f78",
   "metadata": {},
   "outputs": [],
   "source": []
  },
  {
   "cell_type": "code",
   "execution_count": null,
   "id": "fab88d20-30e2-48c3-815a-996e8460d7b3",
   "metadata": {},
   "outputs": [],
   "source": []
  },
  {
   "cell_type": "markdown",
   "id": "83a80bf2-3e10-475d-b6ee-de730244af27",
   "metadata": {
    "jp-MarkdownHeadingCollapsed": true,
    "tags": []
   },
   "source": [
    "### make synthetic dataset to test the model"
   ]
  },
  {
   "cell_type": "raw",
   "id": "7c6c3a7a-e43a-4acc-a3bc-829886eaa451",
   "metadata": {},
   "source": [
    "num_tasks = 10000\n",
    "x = torch.randn(8, num_tasks, 3)\n",
    "w = torch.randn(num_tasks, 3)\n",
    "c = torch.sigmoid((x * w).sum(-1)).round()"
   ]
  },
  {
   "cell_type": "raw",
   "id": "aa0bafe6-7a89-49ed-865b-160220a997a6",
   "metadata": {},
   "source": [
    "info['inputs'].shape, info['targets'].shape, "
   ]
  },
  {
   "cell_type": "raw",
   "id": "68a9839f-2609-4048-887c-33d6b3d3ad7a",
   "metadata": {},
   "source": [
    "x.permute(1, 0, 2).shape, c.permute(1, 0).shape"
   ]
  },
  {
   "cell_type": "code",
   "execution_count": null,
   "id": "c5dcb449-c621-4554-9452-ef6caa797c4b",
   "metadata": {},
   "outputs": [],
   "source": []
  },
  {
   "cell_type": "markdown",
   "id": "c14eb578-2077-40bf-a8c9-030df7268cbc",
   "metadata": {
    "jp-MarkdownHeadingCollapsed": true,
    "tags": []
   },
   "source": [
    "### eval model per task"
   ]
  },
  {
   "cell_type": "code",
   "execution_count": 3,
   "id": "5d6a8281-dda8-463d-97b6-ed5fa7ac03c8",
   "metadata": {},
   "outputs": [
    {
     "name": "stderr",
     "output_type": "stream",
     "text": [
      "/mpcdf/soft/SLE_15/packages/x86_64/anaconda/3/2021.11/lib/python3.9/site-packages/scipy/__init__.py:146: UserWarning: A NumPy version >=1.16.5 and <1.23.0 is required for this version of SciPy (detected version 1.24.2\n",
      "  warnings.warn(f\"A NumPy version >={np_minversion} and <{np_maxversion}\"\n"
     ]
    }
   ],
   "source": [
    "import torch\n",
    "from rl2.envs import CategorisationTask\n",
    "import argparse\n",
    "from baseline_classifiers import SVMModel, LogisticRegressionModel\n",
    "import matplotlib.pyplot as plt\n",
    "from rl2.evaluate import evaluate\n",
    "import seaborn as sns"
   ]
  },
  {
   "cell_type": "code",
   "execution_count": 21,
   "id": "1914ac8d-b9fb-414e-9e80-076e4df37076",
   "metadata": {},
   "outputs": [
    {
     "name": "stdout",
     "output_type": "stream",
     "text": [
      "doesnt work\n"
     ]
    },
    {
     "name": "stderr",
     "output_type": "stream",
     "text": [
      "/mpcdf/soft/SLE_15/packages/x86_64/anaconda/3/2021.11/lib/python3.9/site-packages/sklearn/linear_model/_sag.py:328: ConvergenceWarning: The max_iter was reached which means the coef_ did not converge\n",
      "  warnings.warn(\"The max_iter was reached which means \"\n",
      "/mpcdf/soft/SLE_15/packages/x86_64/anaconda/3/2021.11/lib/python3.9/site-packages/sklearn/linear_model/_sag.py:328: ConvergenceWarning: The max_iter was reached which means the coef_ did not converge\n",
      "  warnings.warn(\"The max_iter was reached which means \"\n",
      "/mpcdf/soft/SLE_15/packages/x86_64/anaconda/3/2021.11/lib/python3.9/site-packages/sklearn/linear_model/_sag.py:328: ConvergenceWarning: The max_iter was reached which means the coef_ did not converge\n",
      "  warnings.warn(\"The max_iter was reached which means \"\n",
      "/mpcdf/soft/SLE_15/packages/x86_64/anaconda/3/2021.11/lib/python3.9/site-packages/sklearn/linear_model/_sag.py:328: ConvergenceWarning: The max_iter was reached which means the coef_ did not converge\n",
      "  warnings.warn(\"The max_iter was reached which means \"\n",
      "/mpcdf/soft/SLE_15/packages/x86_64/anaconda/3/2021.11/lib/python3.9/site-packages/sklearn/linear_model/_sag.py:328: ConvergenceWarning: The max_iter was reached which means the coef_ did not converge\n",
      "  warnings.warn(\"The max_iter was reached which means \"\n"
     ]
    },
    {
     "name": "stdout",
     "output_type": "stream",
     "text": [
      "doesnt work\n",
      "doesnt work\n",
      "doesnt work\n"
     ]
    },
    {
     "name": "stderr",
     "output_type": "stream",
     "text": [
      "/mpcdf/soft/SLE_15/packages/x86_64/anaconda/3/2021.11/lib/python3.9/site-packages/sklearn/linear_model/_sag.py:328: ConvergenceWarning: The max_iter was reached which means the coef_ did not converge\n",
      "  warnings.warn(\"The max_iter was reached which means \"\n"
     ]
    }
   ],
   "source": [
    "env_name = '/raven/u/ajagadish/vanilla-llama/categorisation/data/llama_generated_tasks_params65B_dim3_data8_tasks14500.csv'\n",
    "model_path = '../trained_models/env=llama_generated_tasks_params65B_dim3_data8_tasks14500_num_episodes1000000_num_hidden=128_lr0.0003_run=0.pt'\n",
    "#env=llama_generated_tasks_params65B_dim3_data8_tasks14500_run=0.pt'\n",
    "mode = 'val'\n",
    "# load the eval data from environment\n",
    "env = CategorisationTask(data=env_name, mode=mode)\n",
    "_, _, _, _, info = env.reset()\n",
    "performance = []\n",
    "\n",
    "for ii in range(info['inputs'].shape[0]):\n",
    "    \n",
    "    # train svm classified on the same\n",
    "    X = info['inputs'][ii]\n",
    "    y = info['targets'][ii]\n",
    "    try:\n",
    "        lr = LogisticRegressionModel(X,y)\n",
    "        svm = SVMModel(X,y)\n",
    "    except:\n",
    "        print('doesnt work')\n",
    "    if ii == 0:\n",
    "        _, model_choices, true_choices = evaluate(env_name=env_name, model_path=model_path, mode=mode, policy='greedy', return_all=True)\n",
    "        ml2 = (model_choices.argmax(2)==true_choices).sum(0)/8\n",
    "        \n",
    "    performance.append([lr.score(X, y), svm.score(X, y), ml2[ii]])"
   ]
  },
  {
   "cell_type": "code",
   "execution_count": null,
   "id": "6b0be012-3ff4-41ce-aeaf-0c7460538e4a",
   "metadata": {},
   "outputs": [],
   "source": [
    "COLORS = {'compositional':'#117733', \n",
    "          'noncompositional':'#96CAA7',\n",
    "          'lr':'#88CCEE',#882255\n",
    "          'svm':'#CC6677',\n",
    "          'optimal': '#D6BF4D',\n",
    "          'mean_tracker':'#882255', #332288\n",
    "          'mean_tracker_compositional':'#882255', #AA4499',\n",
    "          'rbf_nocontext_nomemory':'#44AA99', \n",
    "          'simple_grammar_constrained':'#44AA99',\n",
    "          'simple_grammar_constrained_noncompositonal':'#EF9EBB',\n",
    "          'rl2':'#E2C294', #'#0571D0', \n",
    "          'metal':'#DA9138', #\"#D55E00\", \n",
    "          }\n",
    "FONTSIZE=20"
   ]
  },
  {
   "cell_type": "code",
   "execution_count": null,
   "id": "6b49cb97-0148-4eb5-9553-00c4162ef8e6",
   "metadata": {},
   "outputs": [],
   "source": []
  },
  {
   "cell_type": "code",
   "execution_count": 23,
   "id": "b9ae21ce-de37-403e-95ef-3f32f61496f8",
   "metadata": {},
   "outputs": [
    {
     "data": {
      "image/png": "[encoded data removed]",
      "text/plain": [
       "<Figure size 360x360 with 1 Axes>"
      ]
     },
     "metadata": {
      "needs_background": "light"
     },
     "output_type": "display_data"
    }
   ],
   "source": [
    "performance = np.stack(performance)\n",
    "means = performance.mean(0)\n",
    "std_errors = performance.std(0)#/np.sqrt(num_tasks-1)\n",
    "conditions = ['LR', 'SVM', 'Meta-L']\n",
    "colors = [COLORS['lr'], COLORS['svm'], COLORS['metal']]\n",
    "FIGSIZE=(5,5)\n",
    "f, ax = plt.subplots(1, 1, figsize=FIGSIZE)\n",
    "## bar plot\n",
    "ax.bar(np.arange(0, len(conditions)), means, color=colors, label=conditions)\n",
    "ax.errorbar(np.arange(0,len(conditions)), means, yerr=std_errors, color='k', lw=3, fmt='o') #linestyle='solid')\n",
    "\n",
    "## plot individual points\n",
    "w = 0.5\n",
    "ax.hlines(0.5, -0.5, 1.5, color='k', linestyles='dotted', lw=5)#, label='Random')\n",
    "for i in range(len(conditions)):\n",
    "    # distribute scatter randomly across whole width of bar\n",
    "    ax.scatter(i + np.random.random(performance.shape[0]) * w - w / 2, performance[:, i], color='k', alpha=.3, zorder=3)\n",
    "\n",
    "## formatting    \n",
    "# ax.set_ylim(ymin=0., ymax=1.)\n",
    "plt.xticks(np.arange(0,len(conditions)))\n",
    "plt.yticks(fontsize=FONTSIZE-2)\n",
    "ax.set_xlabel('Models', fontsize=FONTSIZE)\n",
    "ax.set_ylabel(f'Score', fontsize=FONTSIZE)#$a_{trials}$\n",
    "ax.set_xticklabels(conditions, fontsize=FONTSIZE-2)#['', '']\n",
    "sns.despine()\n",
    "f.tight_layout()\n",
    "plt.show()"
   ]
  },
  {
   "cell_type": "code",
   "execution_count": 41,
   "id": "fab9b9f8-aef7-4414-93aa-d42c6d50ba0e",
   "metadata": {},
   "outputs": [
    {
     "data": {
      "image/png": "[encoded data removed]",
      "text/plain": [
       "<Figure size 504x360 with 1 Axes>"
      ]
     },
     "metadata": {
      "needs_background": "light"
     },
     "output_type": "display_data"
    }
   ],
   "source": [
    "\n",
    "FIGSIZE=(7,5)\n",
    "f, ax = plt.subplots(1, 1, figsize=FIGSIZE)\n",
    "\n",
    "## plot individual points\n",
    "ax.plot(np.arange(true_choices.shape[0]), (model_choices.argmax(2)==true_choices).sum(1)/true_choices.shape[1], c=COLORS['metal'])\n",
    "\n",
    "## formatting    \n",
    "# ax.set_ylim(ymin=0., ymax=1.)\n",
    "plt.yticks(fontsize=FONTSIZE-2)\n",
    "ax.set_xlabel('Datapoints', fontsize=FONTSIZE)\n",
    "ax.set_ylabel(f'Score', fontsize=FONTSIZE)#$a_{trials}$\n",
    "plt.xticks(fontsize=FONTSIZE-2)#['', '']\n",
    "sns.despine()\n",
    "f.tight_layout()\n",
    "plt.show()"
   ]
  },
  {
   "cell_type": "raw",
   "id": "526da7f6-a859-4987-af4c-77ee359c44fd",
   "metadata": {},
   "source": []
  },
  {
   "cell_type": "markdown",
   "id": "d699463e-f449-4ced-a519-5935ef2f3905",
   "metadata": {
    "tags": []
   },
   "source": [
    "### check if performance of trained meta-learning model makes sesne"
   ]
  },
  {
   "cell_type": "raw",
   "id": "5d174b01-71d2-46c4-8437-ff90492be12e",
   "metadata": {},
   "source": [
    "# load the eval data from env\n",
    "# train svm classified on the same\n",
    "# plot its performance against the meta-learning models performance"
   ]
  },
  {
   "cell_type": "code",
   "execution_count": 3,
   "id": "1400ce7d-fb78-4e5c-871d-107a644848e0",
   "metadata": {},
   "outputs": [
    {
     "name": "stderr",
     "output_type": "stream",
     "text": [
      "/mpcdf/soft/SLE_15/packages/x86_64/anaconda/3/2021.11/lib/python3.9/site-packages/scipy/__init__.py:146: UserWarning: A NumPy version >=1.16.5 and <1.23.0 is required for this version of SciPy (detected version 1.24.2\n",
      "  warnings.warn(f\"A NumPy version >={np_minversion} and <{np_maxversion}\"\n"
     ]
    }
   ],
   "source": [
    "import torch\n",
    "from rl2.envs import CategorisationTask\n",
    "import argparse\n",
    "from baseline_classifiers import SVMModel, LogisticRegressionModel\n",
    "import matplotlib.pyplot as plt\n",
    "from rl2.evaluate import evaluate\n",
    "import seaborn as sns"
   ]
  },
  {
   "cell_type": "code",
   "execution_count": 4,
   "id": "1836a158-03d6-4712-82c1-9af58fb6b8b7",
   "metadata": {},
   "outputs": [],
   "source": [
    "env_name = '/raven/u/ajagadish/vanilla-llama/categorisation/data/llama_generated_tasks_params65B_dim3_data8_tasks14500.csv'\n",
    "model_path = '../trained_models/env=llama_generated_tasks_params65B_dim3_data8_tasks14500_num_episodes1000000_num_hidden=128_lr0.0003_run=0.pt'\n",
    "#env=llama_generated_tasks_params65B_dim3_data8_tasks14500_run=0.pt'\n",
    "mode = 'val'\n",
    "# load the eval data from environment\n",
    "env = CategorisationTask(data=env_name, mode=mode)\n",
    "_, _, _, _, info = env.reset()\n",
    "\n",
    "# train svm classified on the same\n",
    "X = info['inputs']\n",
    "y = info['targets']\n",
    "X = X.view(X.shape[0]*X.shape[1], X.shape[2])\n",
    "y = y.view(y.shape[0]*y.shape[1])\n",
    "performance = []\n",
    "lr = LogisticRegressionModel(X,y)\n",
    "svm = SVMModel(X,y)\n",
    "ml2 = evaluate(env_name=env_name, model_path=model_path, mode=mode, policy='greedy')\n",
    "performance.append([lr.score(X, y), svm.score(X, y), ml2])"
   ]
  },
  {
   "cell_type": "code",
   "execution_count": 5,
   "id": "778d343e-9177-4e4b-8db0-a11feb4f9c02",
   "metadata": {},
   "outputs": [
    {
     "data": {
      "text/plain": [
       "Text(0, 0.5, 'Score')"
      ]
     },
     "execution_count": 5,
     "metadata": {},
     "output_type": "execute_result"
    },
    {
     "data": {
      "image/png": "[encoded data removed]",
      "text/plain": [
       "<Figure size 432x288 with 1 Axes>"
      ]
     },
     "metadata": {
      "needs_background": "light"
     },
     "output_type": "display_data"
    }
   ],
   "source": [
    "# plot its performance against the meta-learning models performance\n",
    "plt.bar(['LR', 'SVM', 'Meta-L'], performance[0])\n",
    "plt.ylabel('Score')"
   ]
  },
  {
   "cell_type": "code",
   "execution_count": null,
   "id": "89d710e7-64a1-4bc9-931d-18fdc17d1c6c",
   "metadata": {},
   "outputs": [],
   "source": []
  },
  {
   "cell_type": "code",
   "execution_count": null,
   "id": "ab7fa556-04c8-4552-b512-7e0107ccd527",
   "metadata": {},
   "outputs": [],
   "source": []
  },
  {
   "cell_type": "markdown",
   "id": "272c6547-935c-411e-b6ae-5f88f4ac2e89",
   "metadata": {
    "jp-MarkdownHeadingCollapsed": true,
    "tags": []
   },
   "source": [
    "### evaluate trained model"
   ]
  },
  {
   "cell_type": "code",
   "execution_count": 2,
   "id": "806a36ad-2048-40da-9595-fbdf30fe1ce3",
   "metadata": {},
   "outputs": [],
   "source": [
    "from rl2.evaluate import evaluate"
   ]
  },
  {
   "cell_type": "code",
   "execution_count": 36,
   "id": "3eed7ee0-cdc3-4b77-9ab7-d8462af16723",
   "metadata": {},
   "outputs": [
    {
     "data": {
      "text/plain": [
       "tensor(0.5575)"
      ]
     },
     "execution_count": 3,
     "metadata": {},
     "output_type": "execute_result"
    }
   ],
   "source": [
    "evaluate(env_name='/raven/u/ajagadish/vanilla-llama/categorisation/data/llama_generated_tasks_params65B_dim3_data8_tasks14500.csv', model_path='../trained_models/env=llama_generated_tasks_params65B_dim3_data8_tasks14500_run=0.pt', mode='val', policy='greedy')"
   ]
  },
  {
   "cell_type": "code",
   "execution_count": 10,
   "id": "a33d2cf7-3d8d-4665-b9c5-f024294e38e4",
   "metadata": {
    "jupyter": {
     "source_hidden": true
    },
    "tags": []
   },
   "outputs": [],
   "source": [
    "from rl2.rl2 import RL2\n",
    "from envs import CategorisationTask\n",
    "import torch"
   ]
  },
  {
   "cell_type": "code",
   "execution_count": 12,
   "id": "180bb750-86f7-484f-b444-40e88d73c3c2",
   "metadata": {
    "jupyter": {
     "source_hidden": true
    },
    "tags": []
   },
   "outputs": [
    {
     "name": "stdout",
     "output_type": "stream",
     "text": [
      "tensor(0.5623)\n"
     ]
    }
   ],
   "source": [
    "env_name = '/raven/u/ajagadish/vanilla-llama/categorisation/data/llama_generated_tasks_params65B_dim3_data8_tasks14500.csv'# if args.env_name is None else args.env_name\n",
    "env = CategorisationTask(data=env_name, mode='test')\n",
    "policy = 'greedy'\n",
    "\n",
    "model = torch.load('./test')[1]\n",
    "model.eval()\n",
    "\n",
    "inputs, targets, done, info = env.reset()\n",
    "hx, cx = model.initial_states(env.batch_size)\n",
    "model_choices = []\n",
    "true_choices = []\n",
    "while not done:\n",
    "    model_choice, hx, cx = model(inputs.unsqueeze(1).float(), hx, cx)\n",
    "    true_choice = targets\n",
    "    model_choices.append(model_choice)\n",
    "    true_choices.append(true_choice)\n",
    "    inputs, targets, done, info = env.step() \n",
    "model_choices = torch.stack(model_choices).squeeze()\n",
    "true_choices = torch.stack(true_choices)\n",
    "\n",
    "true_choices.shape, model_choices.shape\n",
    "\n",
    "#predictions = model_choices.squeeze().argmax(2).reshape(-1)\n",
    "predictions = model_choices.argmax(2).reshape(-1) if policy=='greedy' else \\\n",
    "          model_choices.view(model_choices.shape[0]*model_choices.shape[1], model_choices.shape[2]).multinomial(1).reshape(-1)\n",
    "accuracy = (true_choices.reshape(-1)==predictions).sum()/(len(predictions))\n",
    "print(accuracy)"
   ]
  },
  {
   "cell_type": "raw",
   "id": "0d7f842a-1091-4f47-84e9-4e6accc23101",
   "metadata": {
    "jupyter": {
     "source_hidden": true
    },
    "tags": []
   },
   "source": [
    "tasks = env.return_tasks() #np.arange(100)\n",
    "batch_size = len(tasks)\n",
    "data = env.data[env.data.task_id.isin(tasks)]\n",
    "inputs = torch.from_numpy(np.stack([eval(val) for val in data.input.values]))\n",
    "targets = torch.from_numpy(np.stack([0. if val=='A' else 1. for val in data.target.values]))\n",
    "inputs = inputs.reshape(env.batch_size, env.max_steps, env.num_dims)\n",
    "targets = targets.reshape(env.batch_size, env.max_steps)\n",
    "done = False\n",
    "model_choices = []\n",
    "hx, cx = model.initial_states(batch_size)\n",
    "for time in range(env.max_steps):\n",
    "    ii = inputs[:, time]\n",
    "    tt = targets[:, time]\n",
    "    model_choice, hx, cx = model(ii.unsqueeze(1).float(), hx, cx)\n",
    "    model_choices.append(model_choice)\n",
    "model_choices = torch.stack(model_choices)\n",
    "\n",
    "predictions = model_choices.squeeze().argmax(2).reshape(-1)\n",
    "accuracy = (targets.T.reshape(-1)==predictions).sum()/(env.max_steps*len(tasks))\n",
    "print(accuracy)"
   ]
  },
  {
   "cell_type": "markdown",
   "id": "d2029647-5d66-4973-a3ef-1dc40a89c477",
   "metadata": {
    "jp-MarkdownHeadingCollapsed": true,
    "tags": []
   },
   "source": [
    "###  test trainer "
   ]
  },
  {
   "cell_type": "code",
   "execution_count": 2,
   "id": "d359ded5-1f4e-4d65-b9ff-0457c065009d",
   "metadata": {},
   "outputs": [],
   "source": [
    "from rl2.train import run\n",
    "import matplotlib.pyplot as plt"
   ]
  },
  {
   "cell_type": "code",
   "execution_count": 3,
   "id": "3f89cb24-0d62-428e-b68b-1ff40b5a83bb",
   "metadata": {},
   "outputs": [],
   "source": [
    "env_name = '/raven/u/ajagadish/vanilla-llama/categorisation/data/llama_generated_tasks_params65B_dim3_data8_tasks14500.csv'# if args.env_name is None else args.env_name\n",
    "num_episodes = 10\n",
    "print_every = 1\n",
    "save_every = 1\n",
    "num_hidden = 128\n",
    "save_dir = 'test'\n",
    "device = 'cpu'\n",
    "lr = 0.001\n",
    "batch_size= 32"
   ]
  },
  {
   "cell_type": "raw",
   "id": "4e68248e-8e77-49d3-806f-60122f5bc178",
   "metadata": {
    "tags": []
   },
   "source": [
    "loss = run(env_name, num_episodes, print_every, save_every, num_hidden, save_dir, device, lr, batch_size)"
   ]
  },
  {
   "cell_type": "raw",
   "id": "15913397-cc2a-4936-a32b-d075cbb48ced",
   "metadata": {},
   "source": [
    "%debug"
   ]
  },
  {
   "cell_type": "code",
   "execution_count": 6,
   "id": "cf827af3-3635-4552-8569-32e3ee6baa0f",
   "metadata": {},
   "outputs": [
    {
     "data": {
      "text/plain": [
       "[<matplotlib.lines.Line2D at 0x14b69d1e0880>]"
      ]
     },
     "execution_count": 6,
     "metadata": {},
     "output_type": "execute_result"
    },
    {
     "data": {
      "image/png": "[encoded data removed]",
      "text/plain": [
       "<Figure size 432x288 with 1 Axes>"
      ]
     },
     "metadata": {
      "needs_background": "light"
     },
     "output_type": "display_data"
    }
   ],
   "source": [
    "plt.plot(loss[0])"
   ]
  },
  {
   "cell_type": "raw",
   "id": "81991426-dcfc-47d6-81fc-f8965ed0a92d",
   "metadata": {},
   "source": [
    "%debug"
   ]
  },
  {
   "cell_type": "markdown",
   "id": "45db2439-0248-476f-b397-5f6f65c1bd7a",
   "metadata": {
    "jp-MarkdownHeadingCollapsed": true,
    "tags": []
   },
   "source": [
    "### test model "
   ]
  },
  {
   "cell_type": "code",
   "execution_count": 5,
   "id": "84be8ace-4ef0-4142-bf01-5b18ba480c52",
   "metadata": {},
   "outputs": [],
   "source": [
    "from model import RL2\n",
    "import torch"
   ]
  },
  {
   "cell_type": "code",
   "execution_count": 6,
   "id": "9c0edbfa-70ef-4de8-8b19-bc35336ca88e",
   "metadata": {},
   "outputs": [],
   "source": [
    "model = RL2(3, 2, 10, 1)\n",
    "hx, cx = torch.randn(1, 32, 10), torch.randn(1, 32, 10)"
   ]
  },
  {
   "cell_type": "code",
   "execution_count": 7,
   "id": "e9fc65a8-0fa9-4cd4-9dee-ef84f082657e",
   "metadata": {},
   "outputs": [],
   "source": [
    "model_choice, hx, cx = model(torch.zeros(32, 1, 3), hx, cx)"
   ]
  },
  {
   "cell_type": "code",
   "execution_count": 8,
   "id": "35e69b6f-9e5b-4e05-8b52-9ce0429cc4b9",
   "metadata": {},
   "outputs": [
    {
     "data": {
      "text/plain": [
       "tensor([[[0.6750, 0.3250]],\n",
       "\n",
       "        [[0.5648, 0.4352]],\n",
       "\n",
       "        [[0.6343, 0.3657]],\n",
       "\n",
       "        [[0.5977, 0.4023]],\n",
       "\n",
       "        [[0.4539, 0.5461]],\n",
       "\n",
       "        [[0.5511, 0.4489]],\n",
       "\n",
       "        [[0.5057, 0.4943]],\n",
       "\n",
       "        [[0.6200, 0.3800]],\n",
       "\n",
       "        [[0.5727, 0.4273]],\n",
       "\n",
       "        [[0.5265, 0.4735]],\n",
       "\n",
       "        [[0.4817, 0.5183]],\n",
       "\n",
       "        [[0.5613, 0.4387]],\n",
       "\n",
       "        [[0.5925, 0.4075]],\n",
       "\n",
       "        [[0.6215, 0.3785]],\n",
       "\n",
       "        [[0.6662, 0.3338]],\n",
       "\n",
       "        [[0.5796, 0.4204]],\n",
       "\n",
       "        [[0.6932, 0.3068]],\n",
       "\n",
       "        [[0.5999, 0.4001]],\n",
       "\n",
       "        [[0.6275, 0.3725]],\n",
       "\n",
       "        [[0.6274, 0.3726]],\n",
       "\n",
       "        [[0.6589, 0.3411]],\n",
       "\n",
       "        [[0.5171, 0.4829]],\n",
       "\n",
       "        [[0.4670, 0.5330]],\n",
       "\n",
       "        [[0.5960, 0.4040]],\n",
       "\n",
       "        [[0.6114, 0.3886]],\n",
       "\n",
       "        [[0.6740, 0.3260]],\n",
       "\n",
       "        [[0.4488, 0.5512]],\n",
       "\n",
       "        [[0.6199, 0.3801]],\n",
       "\n",
       "        [[0.6522, 0.3478]],\n",
       "\n",
       "        [[0.5969, 0.4031]],\n",
       "\n",
       "        [[0.6030, 0.3970]],\n",
       "\n",
       "        [[0.5364, 0.4636]]], grad_fn=<SoftmaxBackward0>)"
      ]
     },
     "execution_count": 8,
     "metadata": {},
     "output_type": "execute_result"
    }
   ],
   "source": [
    "model_choice"
   ]
  },
  {
   "cell_type": "code",
   "execution_count": null,
   "id": "87f8dd1a-e2cb-4f3c-80d7-1452314f8b3c",
   "metadata": {},
   "outputs": [],
   "source": [
    "%debug"
   ]
  },
  {
   "cell_type": "markdown",
   "id": "1ebb1e85-a01e-4eaf-8a6c-e4946eb9f9b7",
   "metadata": {
    "jp-MarkdownHeadingCollapsed": true,
    "tags": []
   },
   "source": [
    "### test env"
   ]
  },
  {
   "cell_type": "code",
   "execution_count": 2,
   "id": "dd709a7b-4386-492e-928a-24dc910e8b04",
   "metadata": {},
   "outputs": [],
   "source": [
    "from rl2.envs import CategorisationTask"
   ]
  },
  {
   "cell_type": "code",
   "execution_count": 3,
   "id": "8c505449-0061-4575-9bdf-6fbaf527c529",
   "metadata": {},
   "outputs": [],
   "source": [
    "cat = CategorisationTask(data='/raven/u/ajagadish/vanilla-llama/categorisation/data/llama_generated_tasks_params65B_dim3_data8_tasks14500.csv')\n",
    "cat.reset()\n",
    "inputs, targets, prev_targets, done, info = cat.step()"
   ]
  },
  {
   "cell_type": "code",
   "execution_count": 4,
   "id": "91185ea2-b8f5-4dd4-8e2f-082f0cdd4532",
   "metadata": {},
   "outputs": [
    {
     "data": {
      "text/plain": [
       "(tensor([[ 3.0338e-01, -1.9097e+00,  2.8701e-01],\n",
       "         [-1.2476e-01,  6.0549e-02, -1.0633e-01],\n",
       "         [-7.9657e-01, -1.0489e-01,  2.8228e+00],\n",
       "         [-7.0891e-01,  6.9505e-02,  8.0839e-01],\n",
       "         [-6.4090e-01, -1.5185e+00,  1.1352e-01],\n",
       "         [-2.2882e-01, -6.8803e-01, -1.2855e+00],\n",
       "         [-1.8645e-01,  3.2430e-01, -1.0423e+00],\n",
       "         [-8.7049e-01,  8.3363e-01, -9.6481e-02],\n",
       "         [-5.1853e-01,  1.2879e+00,  1.5586e+00],\n",
       "         [-4.0183e-01, -1.3265e+00, -4.1905e-01],\n",
       "         [-9.8021e-01,  9.9979e-01, -4.0070e-01],\n",
       "         [ 6.9747e-01,  9.5135e-01,  3.2216e-01],\n",
       "         [ 8.6813e-01, -1.7805e-02, -1.5133e+00],\n",
       "         [ 1.5858e-01, -8.9302e-01,  4.2155e-01],\n",
       "         [ 9.7858e-01, -5.8662e-02,  2.5402e+00],\n",
       "         [ 8.9707e-01, -2.0244e+00,  1.2570e+00],\n",
       "         [-9.8806e-01, -1.2278e+00, -9.1845e-01],\n",
       "         [-3.4932e-01,  7.9227e-01, -1.0020e-01],\n",
       "         [ 9.4218e-01,  4.2162e-01, -1.6447e+00],\n",
       "         [-1.1035e+00,  2.9597e+00, -2.4014e-01],\n",
       "         [-2.5097e-01, -1.1439e+00, -2.0544e-03],\n",
       "         [-2.1354e-01,  1.6471e+00,  2.9800e-01],\n",
       "         [ 4.5766e-02,  1.1471e+00, -7.8785e-01],\n",
       "         [ 2.0761e-01,  1.1425e+00, -3.4750e-01],\n",
       "         [-1.0367e+00, -1.8510e-01,  8.1201e-01],\n",
       "         [ 7.0551e-01, -8.7918e-01,  7.9418e-01],\n",
       "         [-2.6469e+00,  8.2796e-02, -4.0901e-01],\n",
       "         [ 7.1657e-01, -1.2053e+00,  4.5769e-01],\n",
       "         [ 1.6138e+00, -1.2607e-01,  8.4056e-01],\n",
       "         [ 7.7879e-01, -1.5464e-01,  6.3786e-02],\n",
       "         [-8.2011e-01,  1.8492e+00, -1.7543e+00],\n",
       "         [ 1.1730e+00,  1.1003e+00,  2.5469e+00],\n",
       "         [ 2.4785e+00, -1.7477e-01,  2.3895e-01],\n",
       "         [-6.0016e-01,  3.2919e-01, -6.7553e-01],\n",
       "         [ 8.1858e-02,  1.5935e+00,  1.4377e+00],\n",
       "         [ 5.1707e-02, -6.2002e-01,  1.6103e+00],\n",
       "         [ 4.9817e-01,  8.7141e-01,  6.4364e-01],\n",
       "         [-1.7434e+00,  2.2313e+00, -5.2625e-01],\n",
       "         [-1.1524e+00, -3.5455e-01, -1.6380e+00],\n",
       "         [-9.7553e-01, -1.2392e+00,  1.0942e+00],\n",
       "         [ 1.5431e+00,  4.6414e-01,  1.0807e+00],\n",
       "         [-9.0148e-01,  1.0815e-01,  1.3785e+00],\n",
       "         [-9.3291e-01, -1.3971e-03,  1.4326e+00],\n",
       "         [-1.4957e-01,  6.8625e-01, -7.9256e-01],\n",
       "         [ 1.6908e-02, -7.9394e-01,  4.8679e-01],\n",
       "         [-2.5614e+00, -6.6418e-01,  3.8956e-01],\n",
       "         [-1.4170e+00,  2.0745e-01, -9.1814e-01],\n",
       "         [ 2.7277e+00,  4.4734e-02, -1.2082e+00],\n",
       "         [-8.1521e-01,  1.7640e+00,  6.5719e-01],\n",
       "         [ 4.3945e-01, -1.9334e+00,  6.1953e-01],\n",
       "         [-1.0033e+00,  9.9409e-01, -1.5213e+00],\n",
       "         [ 2.1799e-01,  1.0980e+00, -1.1701e+00],\n",
       "         [ 3.6685e-02, -5.7717e-01,  2.1790e+00],\n",
       "         [ 9.8121e-01,  2.4748e-01, -2.8338e-01],\n",
       "         [-1.4401e-01,  5.8159e-01,  7.8761e-01],\n",
       "         [-6.3347e-01, -7.2354e-01,  1.8916e+00],\n",
       "         [-7.3013e-01,  1.4489e+00, -1.8177e-01],\n",
       "         [ 1.9954e+00,  1.5863e+00, -1.8042e-01],\n",
       "         [-1.4617e-02,  8.3377e-03, -2.1716e+00],\n",
       "         [ 8.5704e-01,  1.0912e+00,  3.1438e-01],\n",
       "         [ 4.8658e-01,  6.7233e-01,  3.0928e-01],\n",
       "         [-7.3186e-03, -6.7371e-02,  1.5625e+00],\n",
       "         [-1.2425e+00, -6.9518e-01, -2.7480e-01],\n",
       "         [ 8.8489e-01,  3.5557e-01,  6.4937e-02]]),\n",
       " tensor([0, 1, 0, 1, 0, 0, 0, 1, 0, 0, 1, 1, 0, 1, 0, 0, 1, 1, 1, 1, 0, 0, 1, 1,\n",
       "         0, 1, 0, 0, 0, 1, 0, 0, 0, 0, 1, 0, 1, 0, 1, 1, 0, 0, 0, 0, 1, 0, 1, 0,\n",
       "         0, 1, 1, 0, 1, 0, 0, 1, 0, 0, 0, 1, 0, 0, 1, 0]),\n",
       " tensor([1, 0, 0, 0, 0, 0, 0, 1, 1, 0, 0, 1, 1, 1, 1, 0, 0, 0, 1, 0, 1, 0, 1, 0,\n",
       "         0, 1, 1, 1, 0, 1, 0, 0, 0, 0, 1, 0, 1, 1, 0, 0, 0, 1, 0, 0, 1, 0, 1, 1,\n",
       "         1, 1, 0, 0, 0, 1, 1, 0, 1, 1, 0, 0, 1, 1, 0, 0]))"
      ]
     },
     "execution_count": 4,
     "metadata": {},
     "output_type": "execute_result"
    }
   ],
   "source": [
    "inputs, targets, prev_targets,"
   ]
  },
  {
   "cell_type": "markdown",
   "id": "d9a43a04-5d6e-4567-9de6-ad0dbbe02437",
   "metadata": {
    "tags": []
   },
   "source": [
    "### test pooler"
   ]
  },
  {
   "cell_type": "code",
   "execution_count": 11,
   "id": "043edfcf-a0cf-4a9d-922b-3b23f625c324",
   "metadata": {},
   "outputs": [],
   "source": [
    "from utils import return_generated_task, pool_generated_tasks, parse_generated_tasks"
   ]
  },
  {
   "cell_type": "code",
   "execution_count": 12,
   "id": "e2ff03ca-ec04-4450-a56c-312a0ff17c7b",
   "metadata": {},
   "outputs": [
    {
     "name": "stdout",
     "output_type": "stream",
     "text": [
      "dataset did not have 96 datapoints but instead had 6 datapoints\n",
      "dataset did not have 96 datapoints but instead had 72 datapoints\n",
      "dataset did not have 96 datapoints but instead had 92 datapoints\n",
      "dataset did not have 96 datapoints but instead had 29 datapoints\n",
      "dataset did not have 96 datapoints but instead had 84 datapoints\n",
      "dataset did not have 96 datapoints but instead had 82 datapoints\n",
      "no datasets were successfully parsed\n"
     ]
    }
   ],
   "source": [
    "parse_generated_tasks('/raven/u/ajagadish/vanilla-llama/categorisation/data',\\\n",
    "                      'llama_generated_tasks_params65B_dim3_data96_tasks10_run0_procid999',\\\n",
    "                      96)"
   ]
  },
  {
   "cell_type": "code",
   "execution_count": 13,
   "id": "69a6c229-ddf1-459b-99ec-ad831baa8c41",
   "metadata": {},
   "outputs": [],
   "source": [
    "num_datapoints_per_task = np.array([6, 72, 92, 29, 84, 82])\n",
    "#1000 [47, 38, 49, 40, 55, 28, 10, 47, 34])#"
   ]
  },
  {
   "cell_type": "code",
   "execution_count": 14,
   "id": "f660aefc-ce37-4e7d-8d93-e9ee01ac7eb4",
   "metadata": {},
   "outputs": [
    {
     "data": {
      "text/plain": [
       "60.833333333333336"
      ]
     },
     "execution_count": 14,
     "metadata": {},
     "output_type": "execute_result"
    }
   ],
   "source": [
    "num_datapoints_per_task.mean()"
   ]
  },
  {
   "cell_type": "raw",
   "id": "9f10bf34-f077-4855-88b0-d89fc2ac8a79",
   "metadata": {},
   "source": [
    "parse_generated_tasks('/raven/u/ajagadish/vanilla-llama/categorisation/data',\\\n",
    "                      'llama_generated_tasks_params65B_dim3_data8_tasks2000_run0_procid1',\\\n",
    "                      8)"
   ]
  },
  {
   "cell_type": "code",
   "execution_count": 60,
   "id": "1976c7f5-e1e4-4c32-9aee-070cff057075",
   "metadata": {},
   "outputs": [],
   "source": [
    "path ='/raven/u/ajagadish/vanilla-llama/categorisation/data/'\n",
    "models = ['65B']\n",
    "dims = [3]\n",
    "data = [8]\n",
    "tasks = [1000, 2000, 500, 1500]\n",
    "runs = [0] #{1000: 0, 2000: 0}\n",
    "proc_ids = {1000: range(0, 8), 2000: range(0,2), 500: range(0,2), 1500: range(0,1)}"
   ]
  },
  {
   "cell_type": "code",
   "execution_count": 61,
   "id": "e3e833ce-0d1c-4759-b733-0eb4de8c26d4",
   "metadata": {},
   "outputs": [
    {
     "name": "stderr",
     "output_type": "stream",
     "text": [
      "/raven/u/ajagadish/vanilla-llama/categorisation/utils.py:79: SettingWithCopyWarning: \n",
      "A value is trying to be set on a copy of a slice from a DataFrame.\n",
      "Try using .loc[row_indexer,col_indexer] = value instead\n",
      "\n",
      "See the caveats in the documentation: https://pandas.pydata.org/pandas-docs/stable/user_guide/indexing.html#returning-a-view-versus-a-copy\n",
      "  df['task_id'] = np.int64(np.arange(len(df))/num_data) #+ 1\n"
     ]
    }
   ],
   "source": [
    "data = pool_generated_tasks(path, models, dims, data, tasks, runs, proc_ids)"
   ]
  },
  {
   "cell_type": "code",
   "execution_count": 62,
   "id": "953ef26f-2ab2-44fa-a492-ef8e5e789a89",
   "metadata": {},
   "outputs": [
    {
     "data": {
      "text/html": [
       "<div>\n",
       "<style scoped>\n",
       "    .dataframe tbody tr th:only-of-type {\n",
       "        vertical-align: middle;\n",
       "    }\n",
       "\n",
       "    .dataframe tbody tr th {\n",
       "        vertical-align: top;\n",
       "    }\n",
       "\n",
       "    .dataframe thead th {\n",
       "        text-align: right;\n",
       "    }\n",
       "</style>\n",
       "<table border=\"1\" class=\"dataframe\">\n",
       "  <thead>\n",
       "    <tr style=\"text-align: right;\">\n",
       "      <th></th>\n",
       "      <th>Unnamed: 0</th>\n",
       "      <th>input</th>\n",
       "      <th>target</th>\n",
       "      <th>task_id</th>\n",
       "    </tr>\n",
       "  </thead>\n",
       "  <tbody>\n",
       "    <tr>\n",
       "      <th>0</th>\n",
       "      <td>0</td>\n",
       "      <td>[0.0, 0.3333, 0.4428]</td>\n",
       "      <td>A</td>\n",
       "      <td>0</td>\n",
       "    </tr>\n",
       "    <tr>\n",
       "      <th>1</th>\n",
       "      <td>1</td>\n",
       "      <td>[0.2123, 0.9156, 0.1037]</td>\n",
       "      <td>A</td>\n",
       "      <td>0</td>\n",
       "    </tr>\n",
       "    <tr>\n",
       "      <th>2</th>\n",
       "      <td>2</td>\n",
       "      <td>[0.5652, 0.528, 0.031]</td>\n",
       "      <td>A</td>\n",
       "      <td>0</td>\n",
       "    </tr>\n",
       "    <tr>\n",
       "      <th>3</th>\n",
       "      <td>3</td>\n",
       "      <td>[0.0242, 0.0375, 0.979]</td>\n",
       "      <td>A</td>\n",
       "      <td>0</td>\n",
       "    </tr>\n",
       "    <tr>\n",
       "      <th>4</th>\n",
       "      <td>4</td>\n",
       "      <td>[0.5609, 0.9265, 0.8422]</td>\n",
       "      <td>B</td>\n",
       "      <td>0</td>\n",
       "    </tr>\n",
       "    <tr>\n",
       "      <th>...</th>\n",
       "      <td>...</td>\n",
       "      <td>...</td>\n",
       "      <td>...</td>\n",
       "      <td>...</td>\n",
       "    </tr>\n",
       "    <tr>\n",
       "      <th>95283</th>\n",
       "      <td>9659</td>\n",
       "      <td>[0.5, 0.6, 0.5]</td>\n",
       "      <td>A</td>\n",
       "      <td>11851</td>\n",
       "    </tr>\n",
       "    <tr>\n",
       "      <th>95284</th>\n",
       "      <td>9660</td>\n",
       "      <td>[0.6, 0.4, 0.5]</td>\n",
       "      <td>B</td>\n",
       "      <td>11851</td>\n",
       "    </tr>\n",
       "    <tr>\n",
       "      <th>95285</th>\n",
       "      <td>9661</td>\n",
       "      <td>[0.7, 0.3, 0.6]</td>\n",
       "      <td>A</td>\n",
       "      <td>11851</td>\n",
       "    </tr>\n",
       "    <tr>\n",
       "      <th>95286</th>\n",
       "      <td>9662</td>\n",
       "      <td>[0.4, 0.7, 0.2]</td>\n",
       "      <td>B</td>\n",
       "      <td>11851</td>\n",
       "    </tr>\n",
       "    <tr>\n",
       "      <th>95287</th>\n",
       "      <td>9663</td>\n",
       "      <td>[0.5, 0.2, 0.6]</td>\n",
       "      <td>A</td>\n",
       "      <td>11851</td>\n",
       "    </tr>\n",
       "  </tbody>\n",
       "</table>\n",
       "<p>94816 rows × 4 columns</p>\n",
       "</div>"
      ],
      "text/plain": [
       "       Unnamed: 0                     input target  task_id\n",
       "0               0     [0.0, 0.3333, 0.4428]      A        0\n",
       "1               1  [0.2123, 0.9156, 0.1037]      A        0\n",
       "2               2    [0.5652, 0.528, 0.031]      A        0\n",
       "3               3   [0.0242, 0.0375, 0.979]      A        0\n",
       "4               4  [0.5609, 0.9265, 0.8422]      B        0\n",
       "...           ...                       ...    ...      ...\n",
       "95283        9659           [0.5, 0.6, 0.5]      A    11851\n",
       "95284        9660           [0.6, 0.4, 0.5]      B    11851\n",
       "95285        9661           [0.7, 0.3, 0.6]      A    11851\n",
       "95286        9662           [0.4, 0.7, 0.2]      B    11851\n",
       "95287        9663           [0.5, 0.2, 0.6]      A    11851\n",
       "\n",
       "[94816 rows x 4 columns]"
      ]
     },
     "execution_count": 62,
     "metadata": {},
     "output_type": "execute_result"
    }
   ],
   "source": [
    "data"
   ]
  },
  {
   "cell_type": "code",
   "execution_count": 45,
   "id": "f7643567-dd79-4c9f-b871-f45b0f93db7b",
   "metadata": {},
   "outputs": [],
   "source": [
    "data['task_id'] = np.int64(np.arange(len(data))/8)+1"
   ]
  },
  {
   "cell_type": "code",
   "execution_count": 62,
   "id": "68d01399-ac63-422d-affb-e0eb858a79c9",
   "metadata": {},
   "outputs": [
    {
     "data": {
      "text/plain": [
       "array([['B', 'A', 'A', 'A', 'B', 'B', 'B', 'B'],\n",
       "       ['A', 'A', 'B', 'B', 'B', 'A', 'A', 'A'],\n",
       "       ['A', 'A', 'A', 'A', 'B', 'A', 'A', 'B']], dtype=object)"
      ]
     },
     "execution_count": 62,
     "metadata": {},
     "output_type": "execute_result"
    }
   ],
   "source": [
    "num_data_points = 8\n",
    "num_tasks = 3\n",
    "tasks = [10, 12, 35]\n",
    "data[data.task_id.isin(tasks)].input.values.reshape(num_tasks, num_data_points)\n",
    "data[data.task_id.isin(tasks)].target.values.reshape(num_tasks, num_data_points)"
   ]
  },
  {
   "cell_type": "code",
   "execution_count": null,
   "id": "5c5f98a9-7695-4a84-9701-d0bc3f6bfa86",
   "metadata": {},
   "outputs": [],
   "source": [
    "df['Index'] = data.index % 8"
   ]
  },
  {
   "cell_type": "code",
   "execution_count": 30,
   "id": "3a1b786f-19a1-413d-84e3-30264112684d",
   "metadata": {},
   "outputs": [],
   "source": [
    "xx = (data.index/8)#.dtype('int')"
   ]
  },
  {
   "cell_type": "code",
   "execution_count": 33,
   "id": "faa6f369-4fea-4180-94a8-fba2160c965a",
   "metadata": {},
   "outputs": [
    {
     "data": {
      "text/plain": [
       "array([    0,     0,     0, ..., 11910, 11910, 11910])"
      ]
     },
     "execution_count": 33,
     "metadata": {},
     "output_type": "execute_result"
    }
   ],
   "source": [
    "np.int64(xx)"
   ]
  },
  {
   "cell_type": "code",
   "execution_count": null,
   "id": "c91b0ea1-5dac-48fd-a3c7-ae9162e1d297",
   "metadata": {},
   "outputs": [],
   "source": []
  }
 ],
 "metadata": {
  "kernelspec": {
   "display_name": "Python 3 (ipykernel)",
   "language": "python",
   "name": "python3"
  },
  "language_info": {
   "codemirror_mode": {
    "name": "ipython",
    "version": 3
   },
   "file_extension": ".py",
   "mimetype": "text/x-python",
   "name": "python",
   "nbconvert_exporter": "python",
   "pygments_lexer": "ipython3",
   "version": "3.9.7"
  }
 },
 "nbformat": 4,
 "nbformat_minor": 5
}
