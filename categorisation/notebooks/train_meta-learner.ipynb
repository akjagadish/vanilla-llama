{
 "cells": [
  {
   "cell_type": "code",
   "execution_count": 1,
   "id": "761688cf-9b87-4a25-b83f-a0812bfdd26b",
   "metadata": {},
   "outputs": [],
   "source": [
    "import pandas as pd\n",
    "import numpy as np\n",
    "import sys\n",
    "sys.path.append('/raven/u/ajagadish/vanilla-llama/categorisation/')\n",
    "sys.path.append('/raven/u/ajagadish/vanilla-llama/categorisation/data')\n",
    "sys.path.append('/raven/u/ajagadish/vanilla-llama/categorisation/rl2')"
   ]
  },
  {
   "cell_type": "raw",
   "id": "7599065f-0504-4d9c-9927-332d22029d25",
   "metadata": {},
   "source": []
  },
  {
   "cell_type": "markdown",
   "id": "d699463e-f449-4ced-a519-5935ef2f3905",
   "metadata": {
    "tags": []
   },
   "source": [
    "### check if performance of trained meta-learning model makes sesne"
   ]
  },
  {
   "cell_type": "raw",
   "id": "5d174b01-71d2-46c4-8437-ff90492be12e",
   "metadata": {},
   "source": [
    "# load the eval data from env\n",
    "# train svm classified on the same\n",
    "# plot its performance against the meta-learning models performance"
   ]
  },
  {
   "cell_type": "code",
   "execution_count": 4,
   "id": "1400ce7d-fb78-4e5c-871d-107a644848e0",
   "metadata": {},
   "outputs": [],
   "source": [
    "import torch\n",
    "from rl2.envs import CategorisationTask\n",
    "import argparse\n",
    "from baseline_classifiers import SVMModel, LogisticRegressionModel\n",
    "import matplotlib.pyplot as plt\n",
    "from rl2.evaluate import evaluate"
   ]
  },
  {
   "cell_type": "code",
   "execution_count": 5,
   "id": "1836a158-03d6-4712-82c1-9af58fb6b8b7",
   "metadata": {},
   "outputs": [],
   "source": [
    "env_name = '/raven/u/ajagadish/vanilla-llama/categorisation/data/llama_generated_tasks_params65B_dim3_data8_tasks14500.csv'\n",
    "model_path = '../trained_models/env=llama_generated_tasks_params65B_dim3_data8_tasks14500_num_episodes100000_num_hidden=128_lr0.0003_run=0.pt'\n",
    "#env=llama_generated_tasks_params65B_dim3_data8_tasks14500_run=0.pt'\n",
    "mode = 'val'\n",
    "# load the eval data from environment\n",
    "env = CategorisationTask(data=env_name, mode=mode)\n",
    "_, _, _, info = env.reset()\n",
    "\n",
    "# train svm classified on the same\n",
    "X = info['inputs']\n",
    "y = info['targets']\n",
    "X = X.view(X.shape[0]*X.shape[1], X.shape[2])\n",
    "y = y.view(y.shape[0]*y.shape[1])\n",
    "performance = []\n",
    "lr = LogisticRegressionModel(X,y)\n",
    "svm = SVMModel(X,y)\n",
    "ml2 = evaluate(env_name=env_name, model_path=model_path, mode=mode, policy='greedy')\n",
    "performance.append([lr.score(X, y), svm.score(X, y), ml2])"
   ]
  },
  {
   "cell_type": "code",
   "execution_count": 6,
   "id": "778d343e-9177-4e4b-8db0-a11feb4f9c02",
   "metadata": {},
   "outputs": [
    {
     "data": {
      "text/plain": [
       "Text(0, 0.5, 'Score')"
      ]
     },
     "execution_count": 6,
     "metadata": {},
     "output_type": "execute_result"
    },
    {
     "data": {
      "image/png": "[encoded data removed]",
      "text/plain": [
       "<Figure size 432x288 with 1 Axes>"
      ]
     },
     "metadata": {
      "needs_background": "light"
     },
     "output_type": "display_data"
    }
   ],
   "source": [
    "# plot its performance against the meta-learning models performance\n",
    "plt.bar(['LR', 'SVM', 'Meta-L'], performance[0])\n",
    "plt.ylabel('Score')"
   ]
  },
  {
   "cell_type": "raw",
   "id": "526da7f6-a859-4987-af4c-77ee359c44fd",
   "metadata": {},
   "source": []
  },
  {
   "cell_type": "markdown",
   "id": "272c6547-935c-411e-b6ae-5f88f4ac2e89",
   "metadata": {
    "jp-MarkdownHeadingCollapsed": true,
    "tags": []
   },
   "source": [
    "### evaluate trained model"
   ]
  },
  {
   "cell_type": "code",
   "execution_count": 2,
   "id": "806a36ad-2048-40da-9595-fbdf30fe1ce3",
   "metadata": {},
   "outputs": [],
   "source": [
    "from rl2.evaluate import evaluate"
   ]
  },
  {
   "cell_type": "code",
   "execution_count": 36,
   "id": "3eed7ee0-cdc3-4b77-9ab7-d8462af16723",
   "metadata": {},
   "outputs": [
    {
     "data": {
      "text/plain": [
       "tensor(0.5575)"
      ]
     },
     "execution_count": 3,
     "metadata": {},
     "output_type": "execute_result"
    }
   ],
   "source": [
    "evaluate(env_name='/raven/u/ajagadish/vanilla-llama/categorisation/data/llama_generated_tasks_params65B_dim3_data8_tasks14500.csv', model_path='../trained_models/env=llama_generated_tasks_params65B_dim3_data8_tasks14500_run=0.pt', mode='val', policy='greedy')"
   ]
  },
  {
   "cell_type": "raw",
   "id": "6bb305c0-42be-42a9-a373-331cdc73a9b6",
   "metadata": {},
   "source": []
  },
  {
   "cell_type": "code",
   "execution_count": 10,
   "id": "a33d2cf7-3d8d-4665-b9c5-f024294e38e4",
   "metadata": {
    "jupyter": {
     "source_hidden": true
    },
    "tags": []
   },
   "outputs": [],
   "source": [
    "from rl2.rl2 import RL2\n",
    "from envs import CategorisationTask\n",
    "import torch"
   ]
  },
  {
   "cell_type": "code",
   "execution_count": 12,
   "id": "180bb750-86f7-484f-b444-40e88d73c3c2",
   "metadata": {
    "jupyter": {
     "source_hidden": true
    },
    "tags": []
   },
   "outputs": [
    {
     "name": "stdout",
     "output_type": "stream",
     "text": [
      "tensor(0.5623)\n"
     ]
    }
   ],
   "source": [
    "env_name = '/raven/u/ajagadish/vanilla-llama/categorisation/data/llama_generated_tasks_params65B_dim3_data8_tasks14500.csv'# if args.env_name is None else args.env_name\n",
    "env = CategorisationTask(data=env_name, mode='test')\n",
    "policy = 'greedy'\n",
    "\n",
    "model = torch.load('./test')[1]\n",
    "model.eval()\n",
    "\n",
    "inputs, targets, done, info = env.reset()\n",
    "hx, cx = model.initial_states(env.batch_size)\n",
    "model_choices = []\n",
    "true_choices = []\n",
    "while not done:\n",
    "    model_choice, hx, cx = model(inputs.unsqueeze(1).float(), hx, cx)\n",
    "    true_choice = targets\n",
    "    model_choices.append(model_choice)\n",
    "    true_choices.append(true_choice)\n",
    "    inputs, targets, done, info = env.step() \n",
    "model_choices = torch.stack(model_choices).squeeze()\n",
    "true_choices = torch.stack(true_choices)\n",
    "\n",
    "true_choices.shape, model_choices.shape\n",
    "\n",
    "#predictions = model_choices.squeeze().argmax(2).reshape(-1)\n",
    "predictions = model_choices.argmax(2).reshape(-1) if policy=='greedy' else \\\n",
    "          model_choices.view(model_choices.shape[0]*model_choices.shape[1], model_choices.shape[2]).multinomial(1).reshape(-1)\n",
    "accuracy = (true_choices.reshape(-1)==predictions).sum()/(len(predictions))\n",
    "print(accuracy)"
   ]
  },
  {
   "cell_type": "code",
   "execution_count": null,
   "id": "b3860194-0149-45a8-b99a-a82df8b0116b",
   "metadata": {},
   "outputs": [],
   "source": []
  },
  {
   "cell_type": "raw",
   "id": "0d7f842a-1091-4f47-84e9-4e6accc23101",
   "metadata": {
    "jupyter": {
     "source_hidden": true
    },
    "tags": []
   },
   "source": [
    "tasks = env.return_tasks() #np.arange(100)\n",
    "batch_size = len(tasks)\n",
    "data = env.data[env.data.task_id.isin(tasks)]\n",
    "inputs = torch.from_numpy(np.stack([eval(val) for val in data.input.values]))\n",
    "targets = torch.from_numpy(np.stack([0. if val=='A' else 1. for val in data.target.values]))\n",
    "inputs = inputs.reshape(env.batch_size, env.max_steps, env.num_dims)\n",
    "targets = targets.reshape(env.batch_size, env.max_steps)\n",
    "done = False\n",
    "model_choices = []\n",
    "hx, cx = model.initial_states(batch_size)\n",
    "for time in range(env.max_steps):\n",
    "    ii = inputs[:, time]\n",
    "    tt = targets[:, time]\n",
    "    model_choice, hx, cx = model(ii.unsqueeze(1).float(), hx, cx)\n",
    "    model_choices.append(model_choice)\n",
    "model_choices = torch.stack(model_choices)\n",
    "\n",
    "predictions = model_choices.squeeze().argmax(2).reshape(-1)\n",
    "accuracy = (targets.T.reshape(-1)==predictions).sum()/(env.max_steps*len(tasks))\n",
    "print(accuracy)"
   ]
  },
  {
   "cell_type": "markdown",
   "id": "d2029647-5d66-4973-a3ef-1dc40a89c477",
   "metadata": {
    "jp-MarkdownHeadingCollapsed": true,
    "tags": []
   },
   "source": [
    "###  test trainer "
   ]
  },
  {
   "cell_type": "code",
   "execution_count": 2,
   "id": "d359ded5-1f4e-4d65-b9ff-0457c065009d",
   "metadata": {},
   "outputs": [],
   "source": [
    "from rl2.train import run\n",
    "import matplotlib.pyplot as plt"
   ]
  },
  {
   "cell_type": "code",
   "execution_count": 7,
   "id": "3f89cb24-0d62-428e-b68b-1ff40b5a83bb",
   "metadata": {},
   "outputs": [],
   "source": [
    "env_name = '/raven/u/ajagadish/vanilla-llama/categorisation/data/llama_generated_tasks_params65B_dim3_data8_tasks14500.csv'# if args.env_name is None else args.env_name\n",
    "num_episodes = 10\n",
    "print_every = 1\n",
    "save_every = 1\n",
    "num_hidden = 128\n",
    "save_dir = 'test'\n",
    "device = 'cpu'\n",
    "lr = 0.001\n",
    "batch_size= 32"
   ]
  },
  {
   "cell_type": "code",
   "execution_count": 8,
   "id": "32dfce84-97a3-4fb4-aba9-2f43c801ba0b",
   "metadata": {
    "tags": []
   },
   "outputs": [
    {
     "name": "stderr",
     "output_type": "stream",
     "text": [
      "100%|█████████████████████████████████████████████████████████████████████████████████████████████████████████████████████████████████| 10/10 [00:02<00:00,  4.29it/s]\n"
     ]
    }
   ],
   "source": [
    "loss = run(env_name, num_episodes, print_every, save_every, num_hidden, save_dir, device, lr, batch_size)"
   ]
  },
  {
   "cell_type": "raw",
   "id": "096b1189-e60a-490b-a5b6-52bb97efc85e",
   "metadata": {},
   "source": [
    "%debug"
   ]
  },
  {
   "cell_type": "raw",
   "id": "effafba6-a42a-4fd9-8909-819d2e171578",
   "metadata": {},
   "source": [
    "plt.plot(loss[0])"
   ]
  },
  {
   "cell_type": "raw",
   "id": "81991426-dcfc-47d6-81fc-f8965ed0a92d",
   "metadata": {},
   "source": [
    "%debug"
   ]
  },
  {
   "cell_type": "markdown",
   "id": "45db2439-0248-476f-b397-5f6f65c1bd7a",
   "metadata": {
    "jp-MarkdownHeadingCollapsed": true,
    "tags": []
   },
   "source": [
    "### test model "
   ]
  },
  {
   "cell_type": "code",
   "execution_count": 5,
   "id": "84be8ace-4ef0-4142-bf01-5b18ba480c52",
   "metadata": {},
   "outputs": [],
   "source": [
    "from model import RL2\n",
    "import torch"
   ]
  },
  {
   "cell_type": "code",
   "execution_count": 6,
   "id": "9c0edbfa-70ef-4de8-8b19-bc35336ca88e",
   "metadata": {},
   "outputs": [],
   "source": [
    "model = RL2(3, 2, 10, 1)\n",
    "hx, cx = torch.randn(1, 32, 10), torch.randn(1, 32, 10)"
   ]
  },
  {
   "cell_type": "code",
   "execution_count": 7,
   "id": "e9fc65a8-0fa9-4cd4-9dee-ef84f082657e",
   "metadata": {},
   "outputs": [],
   "source": [
    "model_choice, hx, cx = model(torch.zeros(32, 1, 3), hx, cx)"
   ]
  },
  {
   "cell_type": "code",
   "execution_count": 8,
   "id": "35e69b6f-9e5b-4e05-8b52-9ce0429cc4b9",
   "metadata": {},
   "outputs": [
    {
     "data": {
      "text/plain": [
       "tensor([[[0.6750, 0.3250]],\n",
       "\n",
       "        [[0.5648, 0.4352]],\n",
       "\n",
       "        [[0.6343, 0.3657]],\n",
       "\n",
       "        [[0.5977, 0.4023]],\n",
       "\n",
       "        [[0.4539, 0.5461]],\n",
       "\n",
       "        [[0.5511, 0.4489]],\n",
       "\n",
       "        [[0.5057, 0.4943]],\n",
       "\n",
       "        [[0.6200, 0.3800]],\n",
       "\n",
       "        [[0.5727, 0.4273]],\n",
       "\n",
       "        [[0.5265, 0.4735]],\n",
       "\n",
       "        [[0.4817, 0.5183]],\n",
       "\n",
       "        [[0.5613, 0.4387]],\n",
       "\n",
       "        [[0.5925, 0.4075]],\n",
       "\n",
       "        [[0.6215, 0.3785]],\n",
       "\n",
       "        [[0.6662, 0.3338]],\n",
       "\n",
       "        [[0.5796, 0.4204]],\n",
       "\n",
       "        [[0.6932, 0.3068]],\n",
       "\n",
       "        [[0.5999, 0.4001]],\n",
       "\n",
       "        [[0.6275, 0.3725]],\n",
       "\n",
       "        [[0.6274, 0.3726]],\n",
       "\n",
       "        [[0.6589, 0.3411]],\n",
       "\n",
       "        [[0.5171, 0.4829]],\n",
       "\n",
       "        [[0.4670, 0.5330]],\n",
       "\n",
       "        [[0.5960, 0.4040]],\n",
       "\n",
       "        [[0.6114, 0.3886]],\n",
       "\n",
       "        [[0.6740, 0.3260]],\n",
       "\n",
       "        [[0.4488, 0.5512]],\n",
       "\n",
       "        [[0.6199, 0.3801]],\n",
       "\n",
       "        [[0.6522, 0.3478]],\n",
       "\n",
       "        [[0.5969, 0.4031]],\n",
       "\n",
       "        [[0.6030, 0.3970]],\n",
       "\n",
       "        [[0.5364, 0.4636]]], grad_fn=<SoftmaxBackward0>)"
      ]
     },
     "execution_count": 8,
     "metadata": {},
     "output_type": "execute_result"
    }
   ],
   "source": [
    "model_choice"
   ]
  },
  {
   "cell_type": "code",
   "execution_count": null,
   "id": "87f8dd1a-e2cb-4f3c-80d7-1452314f8b3c",
   "metadata": {},
   "outputs": [],
   "source": [
    "%debug"
   ]
  },
  {
   "cell_type": "markdown",
   "id": "1ebb1e85-a01e-4eaf-8a6c-e4946eb9f9b7",
   "metadata": {
    "jp-MarkdownHeadingCollapsed": true,
    "tags": []
   },
   "source": [
    "### test env"
   ]
  },
  {
   "cell_type": "raw",
   "id": "dc6bb722-cfd5-4d8c-91ba-2a5169c24244",
   "metadata": {},
   "source": [
    "from rl2.envs import CategorisationTask"
   ]
  },
  {
   "cell_type": "code",
   "execution_count": 4,
   "id": "8c505449-0061-4575-9bdf-6fbaf527c529",
   "metadata": {},
   "outputs": [],
   "source": [
    "cat = CategorisationTask(data='/raven/u/ajagadish/vanilla-llama/categorisation/data/llama_generated_tasks_params65B_dim3_data8_tasks14500.csv')\n",
    "cat.reset()\n",
    "inputs, targets, prev_targets, done, info = cat.step()"
   ]
  },
  {
   "cell_type": "code",
   "execution_count": 9,
   "id": "91185ea2-b8f5-4dd4-8e2f-082f0cdd4532",
   "metadata": {},
   "outputs": [
    {
     "data": {
      "text/plain": [
       "(tensor([[1.0000, 0.0000, 0.0000],\n",
       "         [0.1500, 0.7000, 0.1150],\n",
       "         [0.0000, 0.4000, 0.8000],\n",
       "         [1.0000, 0.5000, 0.3000],\n",
       "         [0.0120, 0.9080, 0.5090],\n",
       "         [0.1000, 0.1000, 0.9500],\n",
       "         [0.0000, 0.2500, 0.7500],\n",
       "         [0.5550, 0.7780, 0.3000],\n",
       "         [0.3310, 0.8840, 0.3130],\n",
       "         [0.5000, 0.2500, 0.5000],\n",
       "         [0.0000, 0.1000, 0.5000],\n",
       "         [0.1000, 0.4000, 0.9000],\n",
       "         [0.4500, 0.3500, 0.2900],\n",
       "         [0.7000, 0.3000, 0.1000],\n",
       "         [0.9000, 0.6000, 0.2000],\n",
       "         [0.5000, 0.5000, 0.5000],\n",
       "         [0.4000, 0.8000, 0.4000],\n",
       "         [0.7000, 0.1000, 0.8000],\n",
       "         [0.2500, 0.5000, 0.6000],\n",
       "         [0.2000, 0.8000, 0.7000],\n",
       "         [0.3400, 0.4300, 0.0700],\n",
       "         [0.2000, 0.1000, 0.1000],\n",
       "         [0.2000, 0.5000, 0.3000],\n",
       "         [0.2600, 0.4100, 0.5100],\n",
       "         [0.0000, 0.0000, 1.0000],\n",
       "         [0.9000, 0.4000, 0.3000],\n",
       "         [0.3600, 0.6400, 0.2500],\n",
       "         [0.4000, 0.9000, 0.5000],\n",
       "         [0.9700, 0.0200, 0.6500],\n",
       "         [0.8500, 0.1200, 0.0200],\n",
       "         [1.0000, 0.0000, 1.0000],\n",
       "         [0.1700, 0.3400, 0.9700],\n",
       "         [0.9004, 0.4489, 0.9518],\n",
       "         [0.1000, 0.2000, 0.6000],\n",
       "         [0.6146, 0.9488, 0.9012],\n",
       "         [0.5000, 0.0000, 0.5000],\n",
       "         [0.3100, 0.9000, 0.0800],\n",
       "         [0.0000, 0.0000, 1.0000],\n",
       "         [0.5000, 0.3000, 0.9000],\n",
       "         [0.0000, 0.0000, 0.0000],\n",
       "         [0.7501, 0.6259, 0.3312],\n",
       "         [0.2500, 0.2500, 0.7500],\n",
       "         [0.3400, 0.6100, 0.5400],\n",
       "         [0.8000, 0.7000, 0.5000],\n",
       "         [0.0000, 0.4000, 0.9000],\n",
       "         [0.3200, 0.9900, 0.6600],\n",
       "         [0.3300, 0.6700, 0.3300],\n",
       "         [0.4000, 0.9000, 0.7000],\n",
       "         [0.0610, 0.9100, 0.9980],\n",
       "         [0.0000, 0.0000, 1.0000],\n",
       "         [0.2000, 0.1000, 0.1000],\n",
       "         [0.0000, 0.0000, 0.5000],\n",
       "         [0.8000, 0.2000, 0.2000],\n",
       "         [0.1000, 0.2000, 0.4100],\n",
       "         [0.3000, 0.8000, 0.1000],\n",
       "         [0.9000, 0.1000, 0.2000],\n",
       "         [0.0000, 0.3500, 0.8000],\n",
       "         [0.9200, 0.9200, 0.9000],\n",
       "         [0.6810, 0.5600, 0.7310],\n",
       "         [0.4250, 0.6855, 0.4371],\n",
       "         [0.6000, 0.2000, 0.1000],\n",
       "         [0.5000, 0.3000, 0.1000],\n",
       "         [0.2000, 0.0000, 0.7000],\n",
       "         [0.1500, 0.1500, 0.3300]], dtype=torch.float64),\n",
       " tensor([0., 1., 0., 1., 1., 0., 0., 0., 0., 0., 1., 1., 0., 0., 1., 1., 1., 0.,\n",
       "         0., 1., 0., 0., 0., 0., 0., 0., 1., 0., 1., 1., 0., 1., 0., 0., 0., 1.,\n",
       "         0., 0., 0., 1., 0., 0., 1., 1., 1., 0., 0., 0., 0., 0., 1., 0., 0., 0.,\n",
       "         1., 0., 0., 0., 0., 0., 0., 1., 0., 1.], dtype=torch.float64),\n",
       " tensor([0., 0., 0., 0., 0., 0., 1., 0., 1., 0., 0., 0., 1., 0., 0., 0., 1., 1.,\n",
       "         0., 1., 0., 0., 1., 0., 0., 0., 0., 0., 1., 1., 0., 0., 0., 0., 1., 0.,\n",
       "         0., 1., 0., 0., 1., 1., 0., 0., 0., 1., 0., 0., 0., 0., 0., 0., 0., 0.,\n",
       "         0., 0., 0., 0., 1., 0., 0., 0., 0., 0.], dtype=torch.float64))"
      ]
     },
     "execution_count": 9,
     "metadata": {},
     "output_type": "execute_result"
    }
   ],
   "source": [
    "inputs, targets, prev_targets,"
   ]
  },
  {
   "cell_type": "markdown",
   "id": "d9a43a04-5d6e-4567-9de6-ad0dbbe02437",
   "metadata": {
    "jp-MarkdownHeadingCollapsed": true,
    "tags": []
   },
   "source": [
    "### test pooler"
   ]
  },
  {
   "cell_type": "code",
   "execution_count": 59,
   "id": "043edfcf-a0cf-4a9d-922b-3b23f625c324",
   "metadata": {},
   "outputs": [],
   "source": [
    "from utils import return_generated_task, pool_generated_tasks, parse_generated_tasks"
   ]
  },
  {
   "cell_type": "raw",
   "id": "9f10bf34-f077-4855-88b0-d89fc2ac8a79",
   "metadata": {},
   "source": [
    "parse_generated_tasks('/raven/u/ajagadish/vanilla-llama/categorisation/data',\\\n",
    "                      'llama_generated_tasks_params65B_dim3_data8_tasks2000_run0_procid1',\\\n",
    "                      8)"
   ]
  },
  {
   "cell_type": "raw",
   "id": "63670cf5-d1dd-4ccc-a6bf-fca21c469f08",
   "metadata": {},
   "source": [
    "def pool_generated_tasks(path, models, dims, data, tasks, runs, proc_ids):\n",
    "    df = None\n",
    "    total_tasks = 0\n",
    "    for model in models:\n",
    "        for dim in dims:\n",
    "            for num_data in data:\n",
    "                for num_tasks in tasks:\n",
    "                    for run in runs:\n",
    "                        for proc_id in proc_ids[num_tasks]:\n",
    "                            total_tasks += num_tasks\n",
    "                            df = return_generated_task(path, model, dim, num_data, num_tasks, run, proc_id) if df is None else pd.concat([df, \\\n",
    "                                return_generated_task(path, model, dim, num_data, num_tasks, run, proc_id)], ignore_index=True)\n",
    "                    df['task_id'] = np.int64(np.arange(len(df))/num_data)\n",
    "                    df.to_csv(f\"{path}/llama_generated_tasks_params{model}_dim{dim}_data{num_data}_tasks{total_tasks}.csv\")"
   ]
  },
  {
   "cell_type": "code",
   "execution_count": 60,
   "id": "1976c7f5-e1e4-4c32-9aee-070cff057075",
   "metadata": {},
   "outputs": [],
   "source": [
    "path ='/raven/u/ajagadish/vanilla-llama/categorisation/data/'\n",
    "models = ['65B']\n",
    "dims = [3]\n",
    "data = [8]\n",
    "tasks = [1000, 2000, 500, 1500]\n",
    "runs = [0] #{1000: 0, 2000: 0}\n",
    "proc_ids = {1000: range(0, 8), 2000: range(0,2), 500: range(0,2), 1500: range(0,1)}"
   ]
  },
  {
   "cell_type": "code",
   "execution_count": 61,
   "id": "e3e833ce-0d1c-4759-b733-0eb4de8c26d4",
   "metadata": {},
   "outputs": [
    {
     "name": "stderr",
     "output_type": "stream",
     "text": [
      "/raven/u/ajagadish/vanilla-llama/categorisation/utils.py:79: SettingWithCopyWarning: \n",
      "A value is trying to be set on a copy of a slice from a DataFrame.\n",
      "Try using .loc[row_indexer,col_indexer] = value instead\n",
      "\n",
      "See the caveats in the documentation: https://pandas.pydata.org/pandas-docs/stable/user_guide/indexing.html#returning-a-view-versus-a-copy\n",
      "  df['task_id'] = np.int64(np.arange(len(df))/num_data) #+ 1\n"
     ]
    }
   ],
   "source": [
    "data = pool_generated_tasks(path, models, dims, data, tasks, runs, proc_ids)"
   ]
  },
  {
   "cell_type": "code",
   "execution_count": 62,
   "id": "953ef26f-2ab2-44fa-a492-ef8e5e789a89",
   "metadata": {},
   "outputs": [
    {
     "data": {
      "text/html": [
       "<div>\n",
       "<style scoped>\n",
       "    .dataframe tbody tr th:only-of-type {\n",
       "        vertical-align: middle;\n",
       "    }\n",
       "\n",
       "    .dataframe tbody tr th {\n",
       "        vertical-align: top;\n",
       "    }\n",
       "\n",
       "    .dataframe thead th {\n",
       "        text-align: right;\n",
       "    }\n",
       "</style>\n",
       "<table border=\"1\" class=\"dataframe\">\n",
       "  <thead>\n",
       "    <tr style=\"text-align: right;\">\n",
       "      <th></th>\n",
       "      <th>Unnamed: 0</th>\n",
       "      <th>input</th>\n",
       "      <th>target</th>\n",
       "      <th>task_id</th>\n",
       "    </tr>\n",
       "  </thead>\n",
       "  <tbody>\n",
       "    <tr>\n",
       "      <th>0</th>\n",
       "      <td>0</td>\n",
       "      <td>[0.0, 0.3333, 0.4428]</td>\n",
       "      <td>A</td>\n",
       "      <td>0</td>\n",
       "    </tr>\n",
       "    <tr>\n",
       "      <th>1</th>\n",
       "      <td>1</td>\n",
       "      <td>[0.2123, 0.9156, 0.1037]</td>\n",
       "      <td>A</td>\n",
       "      <td>0</td>\n",
       "    </tr>\n",
       "    <tr>\n",
       "      <th>2</th>\n",
       "      <td>2</td>\n",
       "      <td>[0.5652, 0.528, 0.031]</td>\n",
       "      <td>A</td>\n",
       "      <td>0</td>\n",
       "    </tr>\n",
       "    <tr>\n",
       "      <th>3</th>\n",
       "      <td>3</td>\n",
       "      <td>[0.0242, 0.0375, 0.979]</td>\n",
       "      <td>A</td>\n",
       "      <td>0</td>\n",
       "    </tr>\n",
       "    <tr>\n",
       "      <th>4</th>\n",
       "      <td>4</td>\n",
       "      <td>[0.5609, 0.9265, 0.8422]</td>\n",
       "      <td>B</td>\n",
       "      <td>0</td>\n",
       "    </tr>\n",
       "    <tr>\n",
       "      <th>...</th>\n",
       "      <td>...</td>\n",
       "      <td>...</td>\n",
       "      <td>...</td>\n",
       "      <td>...</td>\n",
       "    </tr>\n",
       "    <tr>\n",
       "      <th>95283</th>\n",
       "      <td>9659</td>\n",
       "      <td>[0.5, 0.6, 0.5]</td>\n",
       "      <td>A</td>\n",
       "      <td>11851</td>\n",
       "    </tr>\n",
       "    <tr>\n",
       "      <th>95284</th>\n",
       "      <td>9660</td>\n",
       "      <td>[0.6, 0.4, 0.5]</td>\n",
       "      <td>B</td>\n",
       "      <td>11851</td>\n",
       "    </tr>\n",
       "    <tr>\n",
       "      <th>95285</th>\n",
       "      <td>9661</td>\n",
       "      <td>[0.7, 0.3, 0.6]</td>\n",
       "      <td>A</td>\n",
       "      <td>11851</td>\n",
       "    </tr>\n",
       "    <tr>\n",
       "      <th>95286</th>\n",
       "      <td>9662</td>\n",
       "      <td>[0.4, 0.7, 0.2]</td>\n",
       "      <td>B</td>\n",
       "      <td>11851</td>\n",
       "    </tr>\n",
       "    <tr>\n",
       "      <th>95287</th>\n",
       "      <td>9663</td>\n",
       "      <td>[0.5, 0.2, 0.6]</td>\n",
       "      <td>A</td>\n",
       "      <td>11851</td>\n",
       "    </tr>\n",
       "  </tbody>\n",
       "</table>\n",
       "<p>94816 rows × 4 columns</p>\n",
       "</div>"
      ],
      "text/plain": [
       "       Unnamed: 0                     input target  task_id\n",
       "0               0     [0.0, 0.3333, 0.4428]      A        0\n",
       "1               1  [0.2123, 0.9156, 0.1037]      A        0\n",
       "2               2    [0.5652, 0.528, 0.031]      A        0\n",
       "3               3   [0.0242, 0.0375, 0.979]      A        0\n",
       "4               4  [0.5609, 0.9265, 0.8422]      B        0\n",
       "...           ...                       ...    ...      ...\n",
       "95283        9659           [0.5, 0.6, 0.5]      A    11851\n",
       "95284        9660           [0.6, 0.4, 0.5]      B    11851\n",
       "95285        9661           [0.7, 0.3, 0.6]      A    11851\n",
       "95286        9662           [0.4, 0.7, 0.2]      B    11851\n",
       "95287        9663           [0.5, 0.2, 0.6]      A    11851\n",
       "\n",
       "[94816 rows x 4 columns]"
      ]
     },
     "execution_count": 62,
     "metadata": {},
     "output_type": "execute_result"
    }
   ],
   "source": [
    "data"
   ]
  },
  {
   "cell_type": "code",
   "execution_count": 45,
   "id": "f7643567-dd79-4c9f-b871-f45b0f93db7b",
   "metadata": {},
   "outputs": [],
   "source": [
    "data['task_id'] = np.int64(np.arange(len(data))/8)+1"
   ]
  },
  {
   "cell_type": "code",
   "execution_count": 62,
   "id": "68d01399-ac63-422d-affb-e0eb858a79c9",
   "metadata": {},
   "outputs": [
    {
     "data": {
      "text/plain": [
       "array([['B', 'A', 'A', 'A', 'B', 'B', 'B', 'B'],\n",
       "       ['A', 'A', 'B', 'B', 'B', 'A', 'A', 'A'],\n",
       "       ['A', 'A', 'A', 'A', 'B', 'A', 'A', 'B']], dtype=object)"
      ]
     },
     "execution_count": 62,
     "metadata": {},
     "output_type": "execute_result"
    }
   ],
   "source": [
    "num_data_points = 8\n",
    "num_tasks = 3\n",
    "tasks = [10, 12, 35]\n",
    "data[data.task_id.isin(tasks)].input.values.reshape(num_tasks, num_data_points)\n",
    "data[data.task_id.isin(tasks)].target.values.reshape(num_tasks, num_data_points)"
   ]
  },
  {
   "cell_type": "code",
   "execution_count": null,
   "id": "5c5f98a9-7695-4a84-9701-d0bc3f6bfa86",
   "metadata": {},
   "outputs": [],
   "source": [
    "df['Index'] = data.index % 8"
   ]
  },
  {
   "cell_type": "code",
   "execution_count": 30,
   "id": "3a1b786f-19a1-413d-84e3-30264112684d",
   "metadata": {},
   "outputs": [],
   "source": [
    "xx = (data.index/8)#.dtype('int')"
   ]
  },
  {
   "cell_type": "code",
   "execution_count": 33,
   "id": "faa6f369-4fea-4180-94a8-fba2160c965a",
   "metadata": {},
   "outputs": [
    {
     "data": {
      "text/plain": [
       "array([    0,     0,     0, ..., 11910, 11910, 11910])"
      ]
     },
     "execution_count": 33,
     "metadata": {},
     "output_type": "execute_result"
    }
   ],
   "source": [
    "np.int64(xx)"
   ]
  },
  {
   "cell_type": "code",
   "execution_count": null,
   "id": "c91b0ea1-5dac-48fd-a3c7-ae9162e1d297",
   "metadata": {},
   "outputs": [],
   "source": []
  }
 ],
 "metadata": {
  "kernelspec": {
   "display_name": "Python 3 (ipykernel)",
   "language": "python",
   "name": "python3"
  },
  "language_info": {
   "codemirror_mode": {
    "name": "ipython",
    "version": 3
   },
   "file_extension": ".py",
   "mimetype": "text/x-python",
   "name": "python",
   "nbconvert_exporter": "python",
   "pygments_lexer": "ipython3",
   "version": "3.9.7"
  }
 },
 "nbformat": 4,
 "nbformat_minor": 5
}
